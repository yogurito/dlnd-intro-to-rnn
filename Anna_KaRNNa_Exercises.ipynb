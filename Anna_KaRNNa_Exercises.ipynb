{
 "cells": [
  {
   "cell_type": "markdown",
   "metadata": {},
   "source": [
    "# Anna KaRNNa\n",
    "\n",
    "In this notebook, we'll build a character-wise RNN trained on Anna Karenina, one of my all-time favorite books. It'll be able to generate new text based on the text from the book.\n",
    "\n",
    "This network is based off of Andrej Karpathy's [post on RNNs](http://karpathy.github.io/2015/05/21/rnn-effectiveness/) and [implementation in Torch](https://github.com/karpathy/char-rnn). Also, some information [here at r2rt](http://r2rt.com/recurrent-neural-networks-in-tensorflow-ii.html) and from [Sherjil Ozair](https://github.com/sherjilozair/char-rnn-tensorflow) on GitHub. Below is the general architecture of the character-wise RNN.\n",
    "\n",
    "<img src=\"assets/charseq.jpeg\" width=\"500\">"
   ]
  },
  {
   "cell_type": "code",
   "execution_count": 1,
   "metadata": {
    "collapsed": true
   },
   "outputs": [],
   "source": [
    "import time\n",
    "from collections import namedtuple\n",
    "\n",
    "import numpy as np\n",
    "import tensorflow as tf"
   ]
  },
  {
   "cell_type": "markdown",
   "metadata": {},
   "source": [
    "First we'll load the text file and convert it into integers for our network to use. Here I'm creating a couple dictionaries to convert the characters to and from integers. Encoding the characters as integers makes it easier to use as input in the network."
   ]
  },
  {
   "cell_type": "code",
   "execution_count": 2,
   "metadata": {
    "collapsed": true
   },
   "outputs": [],
   "source": [
    "with open('anna.txt', 'r') as f:\n",
    "    text=f.read()\n",
    "vocab = set(text)\n",
    "vocab_to_int = {c: i for i, c in enumerate(vocab)}\n",
    "int_to_vocab = dict(enumerate(vocab))\n",
    "encoded = np.array([vocab_to_int[c] for c in text], dtype=np.int32)"
   ]
  },
  {
   "cell_type": "markdown",
   "metadata": {},
   "source": [
    "Let's check out the first 100 characters, make sure everything is peachy. According to the [American Book Review](http://americanbookreview.org/100bestlines.asp), this is the 6th best first line of a book ever."
   ]
  },
  {
   "cell_type": "code",
   "execution_count": 3,
   "metadata": {},
   "outputs": [
    {
     "data": {
      "text/plain": [
       "'Chapter 1\\n\\n\\nHappy families are all alike; every unhappy family is unhappy in its own\\nway.\\n\\nEverythin'"
      ]
     },
     "execution_count": 3,
     "metadata": {},
     "output_type": "execute_result"
    }
   ],
   "source": [
    "text[:100]"
   ]
  },
  {
   "cell_type": "markdown",
   "metadata": {},
   "source": [
    "And we can see the characters encoded as integers."
   ]
  },
  {
   "cell_type": "code",
   "execution_count": 4,
   "metadata": {},
   "outputs": [
    {
     "data": {
      "text/plain": [
       "array([59, 43, 82, 42, 13, 67, 74, 75,  5, 26, 26, 26, 22, 82, 42, 42,  6,\n",
       "       75, 76, 82, 12,  9, 10,  9, 67, 48, 75, 82, 74, 67, 75, 82, 10, 10,\n",
       "       75, 82, 10,  9, 69, 67, 73, 75, 67,  1, 67, 74,  6, 75, 11, 44, 43,\n",
       "       82, 42, 42,  6, 75, 76, 82, 12,  9, 10,  6, 75,  9, 48, 75, 11, 44,\n",
       "       43, 82, 42, 42,  6, 75,  9, 44, 75,  9, 13, 48, 75,  7, 27, 44, 26,\n",
       "       27, 82,  6, 49, 26, 26, 31,  1, 67, 74,  6, 13, 43,  9, 44], dtype=int32)"
      ]
     },
     "execution_count": 4,
     "metadata": {},
     "output_type": "execute_result"
    }
   ],
   "source": [
    "encoded[:100]"
   ]
  },
  {
   "cell_type": "markdown",
   "metadata": {},
   "source": [
    "Since the network is working with individual characters, it's similar to a classification problem in which we are trying to predict the next character from the previous text.  Here's how many 'classes' our network has to pick from."
   ]
  },
  {
   "cell_type": "code",
   "execution_count": 5,
   "metadata": {},
   "outputs": [
    {
     "data": {
      "text/plain": [
       "83"
      ]
     },
     "execution_count": 5,
     "metadata": {},
     "output_type": "execute_result"
    }
   ],
   "source": [
    "len(vocab)"
   ]
  },
  {
   "cell_type": "markdown",
   "metadata": {},
   "source": [
    "## Making training mini-batches\n",
    "\n",
    "Here is where we'll make our mini-batches for training. Remember that we want our batches to be multiple sequences of some desired number of sequence steps. Considering a simple example, our batches would look like this:\n",
    "\n",
    "<img src=\"assets/sequence_batching@1x.png\" width=500px>\n",
    "\n",
    "\n",
    "<br>\n",
    "We have our text encoded as integers as one long array in `encoded`. Let's create a function that will give us an iterator for our batches. I like using [generator functions](https://jeffknupp.com/blog/2013/04/07/improve-your-python-yield-and-generators-explained/) to do this. Then we can pass `encoded` into this function and get our batch generator.\n",
    "\n",
    "The first thing we need to do is discard some of the text so we only have completely full batches. Each batch contains $N \\times M$ characters, where $N$ is the batch size (the number of sequences) and $M$ is the number of steps. Then, to get the number of batches we can make from some array `arr`, you divide the length of `arr` by the batch size. Once you know the number of batches and the batch size, you can get the total number of characters to keep.\n",
    "\n",
    "After that, we need to split `arr` into $N$ sequences. You can do this using `arr.reshape(size)` where `size` is a tuple containing the dimensions sizes of the reshaped array. We know we want $N$ sequences (`n_seqs` below), let's make that the size of the first dimension. For the second dimension, you can use `-1` as a placeholder in the size, it'll fill up the array with the appropriate data for you. After this, you should have an array that is $N \\times (M * K)$ where $K$ is the number of batches.\n",
    "\n",
    "Now that we have this array, we can iterate through it to get our batches. The idea is each batch is a $N \\times M$ window on the array. For each subsequent batch, the window moves over by `n_steps`. We also want to create both the input and target arrays. Remember that the targets are the inputs shifted over one character. You'll usually see the first input character used as the last target character, so something like this:\n",
    "```python\n",
    "y[:, :-1], y[:, -1] = x[:, 1:], x[:, 0]\n",
    "```\n",
    "where `x` is the input batch and `y` is the target batch.\n",
    "\n",
    "The way I like to do this window is use `range` to take steps of size `n_steps` from $0$ to `arr.shape[1]`, the total number of steps in each sequence. That way, the integers you get from `range` always point to the start of a batch, and each window is `n_steps` wide.\n",
    "\n",
    "> **Exercise:** Write the code for creating batches in the function below. The exercises in this notebook _will not be easy_. I've provided a notebook with solutions alongside this notebook. If you get stuck, checkout the solutions. The most important thing is that you don't copy and paste the code into here, **type out the solution code yourself.**"
   ]
  },
  {
   "cell_type": "code",
   "execution_count": 6,
   "metadata": {
    "collapsed": true
   },
   "outputs": [],
   "source": [
    "def get_batches(arr, n_seqs, n_steps):\n",
    "    '''Create a generator that returns batches of size\n",
    "       n_seqs x n_steps from arr.\n",
    "       \n",
    "       Arguments\n",
    "       ---------\n",
    "       arr: Array you want to make batches from\n",
    "       n_seqs: Batch size, the number of sequences per batch\n",
    "       n_steps: Number of sequence steps per batch\n",
    "    '''\n",
    "    # Get the batch size and number of batches we can make\n",
    "    batch_size = n_seqs * n_steps\n",
    "    n_batches = len(arr) // batch_size\n",
    "    \n",
    "    # Keep only enough characters to make full batches\n",
    "    arr = arr[0:batch_size * n_batches]\n",
    "    \n",
    "    # Reshape into n_seqs rows\n",
    "    arr = np.reshape(arr, (n_seqs, -1))\n",
    "    \n",
    "    for n in range(0, arr.shape[1], n_steps):\n",
    "        # The features\n",
    "        x = arr[:, n:n+n_steps]\n",
    "        # The targets, shifted by one\n",
    "        y = np.zeros((arr.shape[0], n_steps), dtype=np.int32)\n",
    "        y[:, :-1], y[:, -1] = x[:, 1:], x[:, 0]\n",
    "        yield x, y"
   ]
  },
  {
   "cell_type": "markdown",
   "metadata": {},
   "source": [
    "Now I'll make my data sets and we can check out what's going on here. Here I'm going to use a batch size of 10 and 50 sequence steps."
   ]
  },
  {
   "cell_type": "code",
   "execution_count": 7,
   "metadata": {
    "collapsed": true
   },
   "outputs": [],
   "source": [
    "batches = get_batches(encoded, 10, 50)\n",
    "x, y = next(batches)"
   ]
  },
  {
   "cell_type": "code",
   "execution_count": 8,
   "metadata": {},
   "outputs": [
    {
     "name": "stdout",
     "output_type": "stream",
     "text": [
      "x\n",
      " [[59 43 82 42 13 67 74 75  5 26]\n",
      " [75 82 12 75 44  7 13 75 45  7]\n",
      " [ 1  9 44 49 26 26 15 16 67 48]\n",
      " [44 75 81 11 74  9 44 45 75 43]\n",
      " [75  9 13 75  9 48 32 75 48  9]\n",
      " [75 80 13 75 27 82 48 26  7 44]\n",
      " [43 67 44 75 23  7 12 67 75 76]\n",
      " [73 75 64 11 13 75 44  7 27 75]\n",
      " [13 75  9 48 44 20 13 49 75 46]\n",
      " [75 48 82  9 81 75 13  7 75 43]]\n",
      "\n",
      "y\n",
      " [[43 82 42 13 67 74 75  5 26 26]\n",
      " [82 12 75 44  7 13 75 45  7  9]\n",
      " [ 9 44 49 26 26 15 16 67 48 32]\n",
      " [75 81 11 74  9 44 45 75 43  9]\n",
      " [ 9 13 75  9 48 32 75 48  9 74]\n",
      " [80 13 75 27 82 48 26  7 44 10]\n",
      " [67 44 75 23  7 12 67 75 76  7]\n",
      " [75 64 11 13 75 44  7 27 75 48]\n",
      " [75  9 48 44 20 13 49 75 46 43]\n",
      " [48 82  9 81 75 13  7 75 43 67]]\n"
     ]
    }
   ],
   "source": [
    "print('x\\n', x[:10, :10])\n",
    "print('\\ny\\n', y[:10, :10])"
   ]
  },
  {
   "cell_type": "markdown",
   "metadata": {},
   "source": [
    "If you implemented `get_batches` correctly, the above output should look something like \n",
    "```\n",
    "x\n",
    " [[55 63 69 22  6 76 45  5 16 35]\n",
    " [ 5 69  1  5 12 52  6  5 56 52]\n",
    " [48 29 12 61 35 35  8 64 76 78]\n",
    " [12  5 24 39 45 29 12 56  5 63]\n",
    " [ 5 29  6  5 29 78 28  5 78 29]\n",
    " [ 5 13  6  5 36 69 78 35 52 12]\n",
    " [63 76 12  5 18 52  1 76  5 58]\n",
    " [34  5 73 39  6  5 12 52 36  5]\n",
    " [ 6  5 29 78 12 79  6 61  5 59]\n",
    " [ 5 78 69 29 24  5  6 52  5 63]]\n",
    "\n",
    "y\n",
    " [[63 69 22  6 76 45  5 16 35 35]\n",
    " [69  1  5 12 52  6  5 56 52 29]\n",
    " [29 12 61 35 35  8 64 76 78 28]\n",
    " [ 5 24 39 45 29 12 56  5 63 29]\n",
    " [29  6  5 29 78 28  5 78 29 45]\n",
    " [13  6  5 36 69 78 35 52 12 43]\n",
    " [76 12  5 18 52  1 76  5 58 52]\n",
    " [ 5 73 39  6  5 12 52 36  5 78]\n",
    " [ 5 29 78 12 79  6 61  5 59 63]\n",
    " [78 69 29 24  5  6 52  5 63 76]]\n",
    " ```\n",
    " although the exact numbers will be different. Check to make sure the data is shifted over one step for `y`."
   ]
  },
  {
   "cell_type": "markdown",
   "metadata": {},
   "source": [
    "## Building the model\n",
    "\n",
    "Below is where you'll build the network. We'll break it up into parts so it's easier to reason about each bit. Then we can connect them up into the whole network.\n",
    "\n",
    "<img src=\"assets/charRNN.png\" width=500px>\n",
    "\n",
    "\n",
    "### Inputs\n",
    "\n",
    "First off we'll create our input placeholders. As usual we need placeholders for the training data and the targets. We'll also create a placeholder for dropout layers called `keep_prob`. This will be a scalar, that is a 0-D tensor. To make a scalar, you create a placeholder without giving it a size.\n",
    "\n",
    "> **Exercise:** Create the input placeholders in the function below."
   ]
  },
  {
   "cell_type": "code",
   "execution_count": 9,
   "metadata": {
    "collapsed": true
   },
   "outputs": [],
   "source": [
    "def build_inputs(batch_size, num_steps):\n",
    "    ''' Define placeholders for inputs, targets, and dropout \n",
    "    \n",
    "        Arguments\n",
    "        ---------\n",
    "        batch_size: Batch size, number of sequences per batch\n",
    "        num_steps: Number of sequence steps in a batch\n",
    "        \n",
    "    '''\n",
    "    # Declare placeholders we'll feed into the graph\n",
    "    inputs = tf.placeholder(tf.int32, (batch_size, num_steps), name='inputs')\n",
    "    targets = tf.placeholder(tf.int32, (batch_size, num_steps), name='targets')\n",
    "    \n",
    "    # Keep probability placeholder for drop out layers\n",
    "    keep_prob = tf.placeholder(tf.float32, name='keep_prob')\n",
    "    \n",
    "    return inputs, targets, keep_prob"
   ]
  },
  {
   "cell_type": "markdown",
   "metadata": {},
   "source": [
    "### LSTM Cell\n",
    "\n",
    "Here we will create the LSTM cell we'll use in the hidden layer. We'll use this cell as a building block for the RNN. So we aren't actually defining the RNN here, just the type of cell we'll use in the hidden layer.\n",
    "\n",
    "We first create a basic LSTM cell with\n",
    "\n",
    "```python\n",
    "lstm = tf.contrib.rnn.BasicLSTMCell(num_units)\n",
    "```\n",
    "\n",
    "where `num_units` is the number of units in the hidden layers in the cell. Then we can add dropout by wrapping it with \n",
    "\n",
    "```python\n",
    "tf.contrib.rnn.DropoutWrapper(lstm, output_keep_prob=keep_prob)\n",
    "```\n",
    "You pass in a cell and it will automatically add dropout to the inputs or outputs. Finally, we can stack up the LSTM cells into layers with [`tf.contrib.rnn.MultiRNNCell`](https://www.tensorflow.org/versions/r1.0/api_docs/python/tf/contrib/rnn/MultiRNNCell). With this, you pass in a list of cells and it will send the output of one cell into the next cell. For example,\n",
    "\n",
    "```python\n",
    "tf.contrib.rnn.MultiRNNCell([cell]*num_layers)\n",
    "```\n",
    "\n",
    "This might look a little weird if you know Python well because this will create a list of the same `cell` object. However, TensorFlow will create different weight matrices for all `cell` objects. Even though this is actually multiple LSTM cells stacked on each other, you can treat the multiple layers as one cell.\n",
    "\n",
    "We also need to create an initial cell state of all zeros. This can be done like so\n",
    "\n",
    "```python\n",
    "initial_state = cell.zero_state(batch_size, tf.float32)\n",
    "```\n",
    "\n",
    "> **Exercise:** Below, implement the `build_lstm` function to create these LSTM cells and the initial state."
   ]
  },
  {
   "cell_type": "code",
   "execution_count": 10,
   "metadata": {
    "collapsed": true
   },
   "outputs": [],
   "source": [
    "def build_lstm(lstm_size, num_layers, batch_size, keep_prob):\n",
    "    ''' Build LSTM cell.\n",
    "    \n",
    "        Arguments\n",
    "        ---------\n",
    "        keep_prob: Scalar tensor (tf.placeholder) for the dropout keep probability\n",
    "        lstm_size: Size of the hidden layers in the LSTM cells\n",
    "        num_layers: Number of LSTM layers\n",
    "        batch_size: Batch size\n",
    "\n",
    "    '''\n",
    "    ### Build the LSTM Cell\n",
    "    # Use a basic LSTM cell\n",
    "    # lstm = tf.contrib.rnn.BasicLSTMCell(lstm_size)\n",
    "    \n",
    "    # Add dropout to the cell outputs\n",
    "    # drop = tf.contrib.rnn.DropoutWrapper(lstm, output_keep_prob=keep_prob)\n",
    "    \n",
    "    # Stack up multiple LSTM layers, for deep learning\n",
    "    cell = tf.contrib.rnn.MultiRNNCell([tf.contrib.rnn.DropoutWrapper(tf.contrib.rnn.BasicLSTMCell(lstm_size), output_keep_prob=keep_prob) for _ in range(num_layers)])\n",
    "    initial_state = cell.zero_state(batch_size, tf.float32)\n",
    "    \n",
    "    return cell, initial_state"
   ]
  },
  {
   "cell_type": "markdown",
   "metadata": {},
   "source": [
    "### RNN Output\n",
    "\n",
    "Here we'll create the output layer. We need to connect the output of the RNN cells to a full connected layer with a softmax output. The softmax output gives us a probability distribution we can use to predict the next character, so we want this layer to have size $C$, the number of classes/characters we have in our text.\n",
    "\n",
    "If our input has batch size $N$, number of steps $M$, and the hidden layer has $L$ hidden units, then the output is a 3D tensor with size $N \\times M \\times L$. The output of each LSTM cell has size $L$, we have $M$ of them, one for each sequence step, and we have $N$ sequences. So the total size is $N \\times M \\times L$. \n",
    "\n",
    "We are using the same fully connected layer, the same weights, for each of the outputs. Then, to make things easier, we should reshape the outputs into a 2D tensor with shape $(M * N) \\times L$. That is, one row for each sequence and step, where the values of each row are the output from the LSTM cells. We get the LSTM output as a list, `lstm_output`. First we need to concatenate this whole list into one array with [`tf.concat`](https://www.tensorflow.org/api_docs/python/tf/concat). Then, reshape it (with `tf.reshape`) to size $(M * N) \\times L$.\n",
    "\n",
    "One we have the outputs reshaped, we can do the matrix multiplication with the weights. We need to wrap the weight and bias variables in a variable scope with `tf.variable_scope(scope_name)` because there are weights being created in the LSTM cells. TensorFlow will throw an error if the weights created here have the same names as the weights created in the LSTM cells, which they will be default. To avoid this, we wrap the variables in a variable scope so we can give them unique names.\n",
    "\n",
    "> **Exercise:** Implement the output layer in the function below."
   ]
  },
  {
   "cell_type": "code",
   "execution_count": 11,
   "metadata": {
    "collapsed": true
   },
   "outputs": [],
   "source": [
    "def build_output(lstm_output, in_size, out_size):\n",
    "    ''' Build a softmax layer, return the softmax output and logits.\n",
    "    \n",
    "        Arguments\n",
    "        ---------\n",
    "        \n",
    "        lstm_output: List of output tensors from the LSTM layer\n",
    "        in_size: Size of the input tensor, for example, size of the LSTM cells\n",
    "        out_size: Size of this softmax layer\n",
    "    \n",
    "    '''\n",
    "\n",
    "    # Reshape output so it's a bunch of rows, one row for each step for each sequence.\n",
    "    # Concatenate lstm_output over axis 1 (the columns)\n",
    "    seq_output = tf.concat(lstm_output, axis=1)\n",
    "    # Reshape seq_output to a 2D tensor with lstm_size columns\n",
    "    x = tf.reshape(seq_output, [-1, in_size])\n",
    "    \n",
    "    # Connect the RNN outputs to a softmax layer\n",
    "    with tf.variable_scope('softmax'):\n",
    "        # Create the weight and bias variables here\n",
    "        softmax_w = tf.Variable(tf.truncated_normal((in_size, out_size), stddev=0.1), name='softmax_w')\n",
    "        softmax_b = tf.Variable(tf.zeros(out_size), name='softmax_b')\n",
    "    \n",
    "    # Since output is a bunch of rows of RNN cell outputs, logits will be a bunch\n",
    "    # of rows of logit outputs, one for each step and sequence\n",
    "    logits = tf.add(tf.matmul(x, softmax_w), softmax_b)\n",
    "    \n",
    "    # Use softmax to get the probabilities for predicted characters\n",
    "    out = tf.nn.softmax(logits, name='predictions')\n",
    "    \n",
    "    return out, logits"
   ]
  },
  {
   "cell_type": "markdown",
   "metadata": {},
   "source": [
    "### Training loss\n",
    "\n",
    "Next up is the training loss. We get the logits and targets and calculate the softmax cross-entropy loss. First we need to one-hot encode the targets, we're getting them as encoded characters. Then, reshape the one-hot targets so it's a 2D tensor with size $(M*N) \\times C$ where $C$ is the number of classes/characters we have. Remember that we reshaped the LSTM outputs and ran them through a fully connected layer with $C$ units. So our logits will also have size $(M*N) \\times C$.\n",
    "\n",
    "Then we run the logits and targets through `tf.nn.softmax_cross_entropy_with_logits` and find the mean to get the loss.\n",
    "\n",
    ">**Exercise:** Implement the loss calculation in the function below."
   ]
  },
  {
   "cell_type": "code",
   "execution_count": 12,
   "metadata": {
    "collapsed": true
   },
   "outputs": [],
   "source": [
    "def build_loss(logits, targets, lstm_size, num_classes):\n",
    "    ''' Calculate the loss from the logits and the targets.\n",
    "    \n",
    "        Arguments\n",
    "        ---------\n",
    "        logits: Logits from final fully connected layer\n",
    "        targets: Targets for supervised learning\n",
    "        lstm_size: Number of LSTM hidden units\n",
    "        num_classes: Number of classes in targets\n",
    "        \n",
    "    '''\n",
    "    \n",
    "    # One-hot encode targets and reshape to match logits, one row per sequence per step\n",
    "    y_one_hot = tf.one_hot(targets, num_classes, on_value=1., off_value=0.)\n",
    "    y_reshaped = tf.reshape(y_one_hot, logits.shape)\n",
    "    \n",
    "    # Softmax cross entropy loss\n",
    "    loss = tf.nn.softmax_cross_entropy_with_logits(labels=y_reshaped, logits=logits)\n",
    "    loss = tf.reduce_mean(loss)\n",
    "    \n",
    "    return loss"
   ]
  },
  {
   "cell_type": "markdown",
   "metadata": {},
   "source": [
    "### Optimizer\n",
    "\n",
    "Here we build the optimizer. Normal RNNs have have issues gradients exploding and disappearing. LSTMs fix the disappearance problem, but the gradients can still grow without bound. To fix this, we can clip the gradients above some threshold. That is, if a gradient is larger than that threshold, we set it to the threshold. This will ensure the gradients never grow overly large. Then we use an AdamOptimizer for the learning step."
   ]
  },
  {
   "cell_type": "code",
   "execution_count": 13,
   "metadata": {
    "collapsed": true
   },
   "outputs": [],
   "source": [
    "def build_optimizer(loss, learning_rate, grad_clip):\n",
    "    ''' Build optmizer for training, using gradient clipping.\n",
    "    \n",
    "        Arguments:\n",
    "        loss: Network loss\n",
    "        learning_rate: Learning rate for optimizer\n",
    "    \n",
    "    '''\n",
    "    \n",
    "    # Optimizer for training, using gradient clipping to control exploding gradients\n",
    "    tvars = tf.trainable_variables()\n",
    "    grads, _ = tf.clip_by_global_norm(tf.gradients(loss, tvars), grad_clip)\n",
    "    train_op = tf.train.AdamOptimizer(learning_rate)\n",
    "    optimizer = train_op.apply_gradients(zip(grads, tvars))\n",
    "    \n",
    "    return optimizer"
   ]
  },
  {
   "cell_type": "markdown",
   "metadata": {},
   "source": [
    "### Build the network\n",
    "\n",
    "Now we can put all the pieces together and build a class for the network. To actually run data through the LSTM cells, we will use [`tf.nn.dynamic_rnn`](https://www.tensorflow.org/versions/r1.0/api_docs/python/tf/nn/dynamic_rnn). This function will pass the hidden and cell states across LSTM cells appropriately for us. It returns the outputs for each LSTM cell at each step for each sequence in the mini-batch. It also gives us the final LSTM state. We want to save this state as `final_state` so we can pass it to the first LSTM cell in the the next mini-batch run. For `tf.nn.dynamic_rnn`, we pass in the cell and initial state we get from `build_lstm`, as well as our input sequences. Also, we need to one-hot encode the inputs before going into the RNN. \n",
    "\n",
    "> **Exercise:** Use the functions you've implemented previously and `tf.nn.dynamic_rnn` to build the network."
   ]
  },
  {
   "cell_type": "code",
   "execution_count": 14,
   "metadata": {
    "collapsed": true
   },
   "outputs": [],
   "source": [
    "class CharRNN:\n",
    "    \n",
    "    def __init__(self, num_classes, batch_size=64, num_steps=50, \n",
    "                       lstm_size=128, num_layers=2, learning_rate=0.001, \n",
    "                       grad_clip=5, sampling=False):\n",
    "    \n",
    "        # When we're using this network for sampling later, we'll be passing in\n",
    "        # one character at a time, so providing an option for that\n",
    "        if sampling == True:\n",
    "            batch_size, num_steps = 1, 1\n",
    "        else:\n",
    "            batch_size, num_steps = batch_size, num_steps\n",
    "\n",
    "        tf.reset_default_graph()\n",
    "        \n",
    "        # Build the input placeholder tensors\n",
    "        self.inputs, self.targets, self.keep_prob = build_inputs(batch_size, num_steps)\n",
    "\n",
    "        # Build the LSTM cell\n",
    "        cell, self.initial_state = build_lstm(lstm_size, num_layers, batch_size, self.keep_prob)\n",
    "\n",
    "        ### Run the data through the RNN layers\n",
    "        # First, one-hot encode the input tokens\n",
    "        x_one_hot = tf.one_hot(self.inputs, num_classes)\n",
    "        \n",
    "        # Run each sequence step through the RNN with tf.nn.dynamic_rnn \n",
    "        outputs, state = tf.nn.dynamic_rnn(cell, x_one_hot, initial_state=self.initial_state)\n",
    "        self.final_state = state\n",
    "        \n",
    "        # Get softmax predictions and logits\n",
    "        self.prediction, self.logits = build_output(outputs, lstm_size, num_classes)\n",
    "        \n",
    "        # Loss and optimizer (with gradient clipping)\n",
    "        self.loss = build_loss(self.logits, self.targets, lstm_size, num_classes)\n",
    "        self.optimizer = build_optimizer(self.loss, learning_rate, grad_clip)"
   ]
  },
  {
   "cell_type": "markdown",
   "metadata": {},
   "source": [
    "## Hyperparameters\n",
    "\n",
    "Here are the hyperparameters for the network.\n",
    "\n",
    "* `batch_size` - Number of sequences running through the network in one pass.\n",
    "* `num_steps` - Number of characters in the sequence the network is trained on. Larger is better typically, the network will learn more long range dependencies. But it takes longer to train. 100 is typically a good number here.\n",
    "* `lstm_size` - The number of units in the hidden layers.\n",
    "* `num_layers` - Number of hidden LSTM layers to use\n",
    "* `learning_rate` - Learning rate for training\n",
    "* `keep_prob` - The dropout keep probability when training. If you're network is overfitting, try decreasing this.\n",
    "\n",
    "Here's some good advice from Andrej Karpathy on training the network. I'm going to copy it in here for your benefit, but also link to [where it originally came from](https://github.com/karpathy/char-rnn#tips-and-tricks).\n",
    "\n",
    "> ## Tips and Tricks\n",
    "\n",
    ">### Monitoring Validation Loss vs. Training Loss\n",
    ">If you're somewhat new to Machine Learning or Neural Networks it can take a bit of expertise to get good models. The most important quantity to keep track of is the difference between your training loss (printed during training) and the validation loss (printed once in a while when the RNN is run on the validation data (by default every 1000 iterations)). In particular:\n",
    "\n",
    "> - If your training loss is much lower than validation loss then this means the network might be **overfitting**. Solutions to this are to decrease your network size, or to increase dropout. For example you could try dropout of 0.5 and so on.\n",
    "> - If your training/validation loss are about equal then your model is **underfitting**. Increase the size of your model (either number of layers or the raw number of neurons per layer)\n",
    "\n",
    "> ### Approximate number of parameters\n",
    "\n",
    "> The two most important parameters that control the model are `lstm_size` and `num_layers`. I would advise that you always use `num_layers` of either 2/3. The `lstm_size` can be adjusted based on how much data you have. The two important quantities to keep track of here are:\n",
    "\n",
    "> - The number of parameters in your model. This is printed when you start training.\n",
    "> - The size of your dataset. 1MB file is approximately 1 million characters.\n",
    "\n",
    ">These two should be about the same order of magnitude. It's a little tricky to tell. Here are some examples:\n",
    "\n",
    "> - I have a 100MB dataset and I'm using the default parameter settings (which currently print 150K parameters). My data size is significantly larger (100 mil >> 0.15 mil), so I expect to heavily underfit. I am thinking I can comfortably afford to make `lstm_size` larger.\n",
    "> - I have a 10MB dataset and running a 10 million parameter model. I'm slightly nervous and I'm carefully monitoring my validation loss. If it's larger than my training loss then I may want to try to increase dropout a bit and see if that helps the validation loss.\n",
    "\n",
    "> ### Best models strategy\n",
    "\n",
    ">The winning strategy to obtaining very good models (if you have the compute time) is to always err on making the network larger (as large as you're willing to wait for it to compute) and then try different dropout values (between 0,1). Whatever model has the best validation performance (the loss, written in the checkpoint filename, low is good) is the one you should use in the end.\n",
    "\n",
    ">It is very common in deep learning to run many different models with many different hyperparameter settings, and in the end take whatever checkpoint gave the best validation performance.\n",
    "\n",
    ">By the way, the size of your training and validation splits are also parameters. Make sure you have a decent amount of data in your validation set or otherwise the validation performance will be noisy and not very informative."
   ]
  },
  {
   "cell_type": "code",
   "execution_count": 15,
   "metadata": {
    "collapsed": true
   },
   "outputs": [],
   "source": [
    "batch_size = 10         # Sequences per batch\n",
    "num_steps = 100          # Number of sequence steps per batch\n",
    "lstm_size = 128         # Size of hidden layers in LSTMs\n",
    "num_layers = 2         # Number of LSTM layers\n",
    "learning_rate = 0.01    # Learning rate\n",
    "keep_prob = 0.5         # Dropout keep probability"
   ]
  },
  {
   "cell_type": "markdown",
   "metadata": {},
   "source": [
    "## Time for training\n",
    "\n",
    "This is typical training code, passing inputs and targets into the network, then running the optimizer. Here we also get back the final LSTM state for the mini-batch. Then, we pass that state back into the network so the next batch can continue the state from the previous batch. And every so often (set by `save_every_n`) I save a checkpoint.\n",
    "\n",
    "Here I'm saving checkpoints with the format\n",
    "\n",
    "`i{iteration number}_l{# hidden layer units}.ckpt`\n",
    "\n",
    "> **Exercise:** Set the hyperparameters above to train the network. Watch the training loss, it should be consistently dropping. Also, I highly advise running this on a GPU."
   ]
  },
  {
   "cell_type": "code",
   "execution_count": null,
   "metadata": {
    "scrolled": false
   },
   "outputs": [
    {
     "name": "stdout",
     "output_type": "stream",
     "text": [
      "Epoch: 1/20...  Training Step: 100...  Training loss: 2.7005...  0.1203 sec/batch\n",
      "Epoch: 1/20...  Training Step: 200...  Training loss: 2.2835...  0.1197 sec/batch\n",
      "Epoch: 1/20...  Training Step: 300...  Training loss: 2.1301...  0.1092 sec/batch\n",
      "Epoch: 1/20...  Training Step: 400...  Training loss: 2.0723...  0.1092 sec/batch\n",
      "Epoch: 1/20...  Training Step: 500...  Training loss: 2.0270...  0.1186 sec/batch\n",
      "Epoch: 1/20...  Training Step: 600...  Training loss: 1.9909...  0.1125 sec/batch\n",
      "Epoch: 1/20...  Training Step: 700...  Training loss: 2.0513...  0.1125 sec/batch\n",
      "Epoch: 1/20...  Training Step: 800...  Training loss: 1.9250...  0.1186 sec/batch\n",
      "Epoch: 1/20...  Training Step: 900...  Training loss: 1.8971...  0.1114 sec/batch\n",
      "Epoch: 1/20...  Training Step: 1000...  Training loss: 1.8593...  0.1207 sec/batch\n",
      "Epoch: 1/20...  Training Step: 1100...  Training loss: 1.8449...  0.1161 sec/batch\n",
      "Epoch: 1/20...  Training Step: 1200...  Training loss: 1.9477...  0.1171 sec/batch\n",
      "Epoch: 1/20...  Training Step: 1300...  Training loss: 1.8192...  0.1112 sec/batch\n",
      "Epoch: 1/20...  Training Step: 1400...  Training loss: 1.8517...  0.1131 sec/batch\n",
      "Epoch: 1/20...  Training Step: 1500...  Training loss: 1.7686...  0.1394 sec/batch\n",
      "Epoch: 1/20...  Training Step: 1600...  Training loss: 1.8522...  0.1123 sec/batch\n",
      "Epoch: 1/20...  Training Step: 1700...  Training loss: 1.8092...  0.1266 sec/batch\n",
      "Epoch: 1/20...  Training Step: 1800...  Training loss: 1.8449...  0.1207 sec/batch\n",
      "Epoch: 1/20...  Training Step: 1900...  Training loss: 1.8640...  0.1257 sec/batch\n",
      "Epoch: 2/20...  Training Step: 2000...  Training loss: 1.8532...  0.1087 sec/batch\n",
      "Epoch: 2/20...  Training Step: 2100...  Training loss: 1.7241...  0.1108 sec/batch\n",
      "Epoch: 2/20...  Training Step: 2200...  Training loss: 1.7716...  0.1169 sec/batch\n",
      "Epoch: 2/20...  Training Step: 2300...  Training loss: 1.8217...  0.1120 sec/batch\n",
      "Epoch: 2/20...  Training Step: 2400...  Training loss: 1.7251...  0.1128 sec/batch\n",
      "Epoch: 2/20...  Training Step: 2500...  Training loss: 1.7497...  0.1180 sec/batch\n",
      "Epoch: 2/20...  Training Step: 2600...  Training loss: 1.7619...  0.1168 sec/batch\n",
      "Epoch: 2/20...  Training Step: 2700...  Training loss: 1.7552...  0.1095 sec/batch\n",
      "Epoch: 2/20...  Training Step: 2800...  Training loss: 1.8025...  0.1241 sec/batch\n",
      "Epoch: 2/20...  Training Step: 2900...  Training loss: 1.7667...  0.1189 sec/batch\n",
      "Epoch: 2/20...  Training Step: 3000...  Training loss: 1.7256...  0.1198 sec/batch\n",
      "Epoch: 2/20...  Training Step: 3100...  Training loss: 1.7288...  0.1093 sec/batch\n",
      "Epoch: 2/20...  Training Step: 3200...  Training loss: 1.7287...  0.1160 sec/batch\n",
      "Epoch: 2/20...  Training Step: 3300...  Training loss: 1.7412...  0.1153 sec/batch\n",
      "Epoch: 2/20...  Training Step: 3400...  Training loss: 1.7615...  0.1096 sec/batch\n",
      "Epoch: 2/20...  Training Step: 3500...  Training loss: 1.7409...  0.1171 sec/batch\n",
      "Epoch: 2/20...  Training Step: 3600...  Training loss: 1.7518...  0.1098 sec/batch\n",
      "Epoch: 2/20...  Training Step: 3700...  Training loss: 1.6458...  0.1111 sec/batch\n",
      "Epoch: 2/20...  Training Step: 3800...  Training loss: 1.7560...  0.1274 sec/batch\n",
      "Epoch: 2/20...  Training Step: 3900...  Training loss: 1.7902...  0.1233 sec/batch\n",
      "Epoch: 3/20...  Training Step: 4000...  Training loss: 1.7290...  0.1162 sec/batch\n",
      "Epoch: 3/20...  Training Step: 4100...  Training loss: 1.6210...  0.1199 sec/batch\n",
      "Epoch: 3/20...  Training Step: 4200...  Training loss: 1.8465...  0.1237 sec/batch\n",
      "Epoch: 3/20...  Training Step: 4300...  Training loss: 1.7095...  0.1201 sec/batch\n",
      "Epoch: 3/20...  Training Step: 4400...  Training loss: 1.7995...  0.1190 sec/batch\n",
      "Epoch: 3/20...  Training Step: 4500...  Training loss: 1.6949...  0.1263 sec/batch\n",
      "Epoch: 3/20...  Training Step: 4600...  Training loss: 1.6727...  0.1448 sec/batch\n",
      "Epoch: 3/20...  Training Step: 4700...  Training loss: 1.6612...  0.1078 sec/batch\n",
      "Epoch: 3/20...  Training Step: 4800...  Training loss: 1.6883...  0.1236 sec/batch\n",
      "Epoch: 3/20...  Training Step: 4900...  Training loss: 1.7327...  0.1053 sec/batch\n",
      "Epoch: 3/20...  Training Step: 5000...  Training loss: 1.6077...  0.1137 sec/batch\n",
      "Epoch: 3/20...  Training Step: 5100...  Training loss: 1.7053...  0.1213 sec/batch\n",
      "Epoch: 3/20...  Training Step: 5200...  Training loss: 1.8055...  0.1135 sec/batch\n",
      "Epoch: 3/20...  Training Step: 5300...  Training loss: 1.6780...  0.1246 sec/batch\n",
      "Epoch: 3/20...  Training Step: 5400...  Training loss: 1.5644...  0.1192 sec/batch\n",
      "Epoch: 3/20...  Training Step: 5500...  Training loss: 1.7211...  0.1265 sec/batch\n",
      "Epoch: 3/20...  Training Step: 5600...  Training loss: 1.7095...  0.1166 sec/batch\n",
      "Epoch: 3/20...  Training Step: 5700...  Training loss: 1.6339...  0.1079 sec/batch\n",
      "Epoch: 3/20...  Training Step: 5800...  Training loss: 1.6960...  0.1181 sec/batch\n",
      "Epoch: 3/20...  Training Step: 5900...  Training loss: 1.7418...  0.1136 sec/batch\n",
      "Epoch: 4/20...  Training Step: 6000...  Training loss: 1.6373...  0.1125 sec/batch\n",
      "Epoch: 4/20...  Training Step: 6100...  Training loss: 1.6224...  0.1247 sec/batch\n",
      "Epoch: 4/20...  Training Step: 6200...  Training loss: 1.7081...  0.1210 sec/batch\n",
      "Epoch: 4/20...  Training Step: 6300...  Training loss: 1.6057...  0.1108 sec/batch\n",
      "Epoch: 4/20...  Training Step: 6400...  Training loss: 1.6586...  0.1124 sec/batch\n",
      "Epoch: 4/20...  Training Step: 6500...  Training loss: 1.7101...  0.1103 sec/batch\n",
      "Epoch: 4/20...  Training Step: 6600...  Training loss: 1.7549...  0.1151 sec/batch\n",
      "Epoch: 4/20...  Training Step: 6700...  Training loss: 1.7659...  0.1155 sec/batch\n",
      "Epoch: 4/20...  Training Step: 6800...  Training loss: 1.6456...  0.1160 sec/batch\n",
      "Epoch: 4/20...  Training Step: 6900...  Training loss: 1.6206...  0.1236 sec/batch\n",
      "Epoch: 4/20...  Training Step: 7000...  Training loss: 1.6052...  0.1103 sec/batch\n",
      "Epoch: 4/20...  Training Step: 7100...  Training loss: 1.6355...  0.1108 sec/batch\n",
      "Epoch: 4/20...  Training Step: 7200...  Training loss: 1.6855...  0.1115 sec/batch\n",
      "Epoch: 4/20...  Training Step: 7300...  Training loss: 1.6924...  0.1182 sec/batch\n",
      "Epoch: 4/20...  Training Step: 7400...  Training loss: 1.6167...  0.1151 sec/batch\n",
      "Epoch: 4/20...  Training Step: 7500...  Training loss: 1.5901...  0.1120 sec/batch\n",
      "Epoch: 4/20...  Training Step: 7600...  Training loss: 1.7165...  0.1209 sec/batch\n",
      "Epoch: 4/20...  Training Step: 7700...  Training loss: 1.7528...  0.1145 sec/batch\n",
      "Epoch: 4/20...  Training Step: 7800...  Training loss: 1.5625...  0.1179 sec/batch\n",
      "Epoch: 4/20...  Training Step: 7900...  Training loss: 1.6694...  0.1125 sec/batch\n",
      "Epoch: 5/20...  Training Step: 8000...  Training loss: 1.5443...  0.1207 sec/batch\n",
      "Epoch: 5/20...  Training Step: 8100...  Training loss: 1.7174...  0.1211 sec/batch\n",
      "Epoch: 5/20...  Training Step: 8200...  Training loss: 1.6336...  0.1042 sec/batch\n",
      "Epoch: 5/20...  Training Step: 8300...  Training loss: 1.6110...  0.1144 sec/batch\n",
      "Epoch: 5/20...  Training Step: 8400...  Training loss: 1.5724...  0.1063 sec/batch\n",
      "Epoch: 5/20...  Training Step: 8500...  Training loss: 1.4120...  0.1081 sec/batch\n",
      "Epoch: 5/20...  Training Step: 8600...  Training loss: 1.6165...  0.1162 sec/batch\n",
      "Epoch: 5/20...  Training Step: 8700...  Training loss: 1.7054...  0.1080 sec/batch\n",
      "Epoch: 5/20...  Training Step: 8800...  Training loss: 1.6381...  0.1245 sec/batch\n",
      "Epoch: 5/20...  Training Step: 8900...  Training loss: 1.5927...  0.1131 sec/batch\n",
      "Epoch: 5/20...  Training Step: 9000...  Training loss: 1.4921...  0.1077 sec/batch\n",
      "Epoch: 5/20...  Training Step: 9100...  Training loss: 1.6069...  0.1135 sec/batch\n",
      "Epoch: 5/20...  Training Step: 9200...  Training loss: 1.6678...  0.1158 sec/batch\n",
      "Epoch: 5/20...  Training Step: 9300...  Training loss: 1.5247...  0.1076 sec/batch\n",
      "Epoch: 5/20...  Training Step: 9400...  Training loss: 1.7410...  0.1181 sec/batch\n",
      "Epoch: 5/20...  Training Step: 9500...  Training loss: 1.5351...  0.1133 sec/batch\n",
      "Epoch: 5/20...  Training Step: 9600...  Training loss: 1.6417...  0.1126 sec/batch\n",
      "Epoch: 5/20...  Training Step: 9700...  Training loss: 1.6520...  0.1239 sec/batch\n",
      "Epoch: 5/20...  Training Step: 9800...  Training loss: 1.6415...  0.1079 sec/batch\n",
      "Epoch: 5/20...  Training Step: 9900...  Training loss: 1.8122...  0.1206 sec/batch\n"
     ]
    },
    {
     "name": "stdout",
     "output_type": "stream",
     "text": [
      "Epoch: 6/20...  Training Step: 10000...  Training loss: 1.4940...  0.1143 sec/batch\n",
      "Epoch: 6/20...  Training Step: 10100...  Training loss: 1.6480...  0.1137 sec/batch\n",
      "Epoch: 6/20...  Training Step: 10200...  Training loss: 1.5330...  0.1244 sec/batch\n",
      "Epoch: 6/20...  Training Step: 10300...  Training loss: 1.5467...  0.1153 sec/batch\n",
      "Epoch: 6/20...  Training Step: 10400...  Training loss: 1.6089...  0.1082 sec/batch\n",
      "Epoch: 6/20...  Training Step: 10500...  Training loss: 1.6993...  0.1206 sec/batch\n",
      "Epoch: 6/20...  Training Step: 10600...  Training loss: 1.5315...  0.1155 sec/batch\n",
      "Epoch: 6/20...  Training Step: 10700...  Training loss: 1.4538...  0.1113 sec/batch\n",
      "Epoch: 6/20...  Training Step: 10800...  Training loss: 1.5476...  0.1175 sec/batch\n",
      "Epoch: 6/20...  Training Step: 10900...  Training loss: 1.6130...  0.1162 sec/batch\n",
      "Epoch: 6/20...  Training Step: 11000...  Training loss: 1.5710...  0.1230 sec/batch\n",
      "Epoch: 6/20...  Training Step: 11100...  Training loss: 1.6826...  0.1119 sec/batch\n",
      "Epoch: 6/20...  Training Step: 11200...  Training loss: 1.6145...  0.1142 sec/batch\n",
      "Epoch: 6/20...  Training Step: 11300...  Training loss: 1.5990...  0.1187 sec/batch\n",
      "Epoch: 6/20...  Training Step: 11400...  Training loss: 1.4431...  0.1201 sec/batch\n",
      "Epoch: 6/20...  Training Step: 11500...  Training loss: 1.5243...  0.1096 sec/batch\n",
      "Epoch: 6/20...  Training Step: 11600...  Training loss: 1.6192...  0.1226 sec/batch\n",
      "Epoch: 6/20...  Training Step: 11700...  Training loss: 1.6143...  0.1181 sec/batch\n",
      "Epoch: 6/20...  Training Step: 11800...  Training loss: 1.6516...  0.1137 sec/batch\n",
      "Epoch: 6/20...  Training Step: 11900...  Training loss: 1.5900...  0.1069 sec/batch\n",
      "Epoch: 7/20...  Training Step: 12000...  Training loss: 1.5296...  0.1161 sec/batch\n",
      "Epoch: 7/20...  Training Step: 12100...  Training loss: 1.6140...  0.1083 sec/batch\n",
      "Epoch: 7/20...  Training Step: 12200...  Training loss: 1.6697...  0.1105 sec/batch\n",
      "Epoch: 7/20...  Training Step: 12300...  Training loss: 1.6445...  0.1205 sec/batch\n",
      "Epoch: 7/20...  Training Step: 12400...  Training loss: 1.5648...  0.1217 sec/batch\n",
      "Epoch: 7/20...  Training Step: 12500...  Training loss: 1.4899...  0.1152 sec/batch\n",
      "Epoch: 7/20...  Training Step: 12600...  Training loss: 1.4776...  0.1122 sec/batch\n",
      "Epoch: 7/20...  Training Step: 12700...  Training loss: 1.6276...  0.1104 sec/batch\n",
      "Epoch: 7/20...  Training Step: 12800...  Training loss: 1.5196...  0.1159 sec/batch\n",
      "Epoch: 7/20...  Training Step: 12900...  Training loss: 1.6068...  0.1143 sec/batch\n",
      "Epoch: 7/20...  Training Step: 13000...  Training loss: 1.6060...  0.1166 sec/batch\n",
      "Epoch: 7/20...  Training Step: 13100...  Training loss: 1.6443...  0.1170 sec/batch\n",
      "Epoch: 7/20...  Training Step: 13200...  Training loss: 1.5770...  0.1160 sec/batch\n",
      "Epoch: 7/20...  Training Step: 13300...  Training loss: 1.5589...  0.1053 sec/batch\n",
      "Epoch: 7/20...  Training Step: 13400...  Training loss: 1.7350...  0.1083 sec/batch\n",
      "Epoch: 7/20...  Training Step: 13500...  Training loss: 1.5446...  0.1083 sec/batch\n",
      "Epoch: 7/20...  Training Step: 13600...  Training loss: 1.4618...  0.1153 sec/batch\n",
      "Epoch: 7/20...  Training Step: 13700...  Training loss: 1.4646...  0.1234 sec/batch\n",
      "Epoch: 7/20...  Training Step: 13800...  Training loss: 1.7079...  0.1106 sec/batch\n",
      "Epoch: 8/20...  Training Step: 13900...  Training loss: 1.6397...  0.1174 sec/batch\n",
      "Epoch: 8/20...  Training Step: 14000...  Training loss: 1.5767...  0.1096 sec/batch\n",
      "Epoch: 8/20...  Training Step: 14100...  Training loss: 1.5879...  0.1239 sec/batch\n",
      "Epoch: 8/20...  Training Step: 14200...  Training loss: 1.6379...  0.1092 sec/batch\n",
      "Epoch: 8/20...  Training Step: 14300...  Training loss: 1.5762...  0.1202 sec/batch\n",
      "Epoch: 8/20...  Training Step: 14400...  Training loss: 1.6652...  0.1047 sec/batch\n",
      "Epoch: 8/20...  Training Step: 14500...  Training loss: 1.5970...  0.1078 sec/batch\n",
      "Epoch: 8/20...  Training Step: 14600...  Training loss: 1.6141...  0.1130 sec/batch\n",
      "Epoch: 8/20...  Training Step: 14700...  Training loss: 1.7239...  0.1222 sec/batch\n",
      "Epoch: 8/20...  Training Step: 14800...  Training loss: 1.4436...  0.1382 sec/batch\n",
      "Epoch: 8/20...  Training Step: 14900...  Training loss: 1.5402...  0.1086 sec/batch\n",
      "Epoch: 8/20...  Training Step: 15000...  Training loss: 1.6152...  0.1133 sec/batch\n",
      "Epoch: 8/20...  Training Step: 15100...  Training loss: 1.4834...  0.1196 sec/batch\n",
      "Epoch: 8/20...  Training Step: 15200...  Training loss: 1.5686...  0.1197 sec/batch\n",
      "Epoch: 8/20...  Training Step: 15300...  Training loss: 1.6313...  0.1086 sec/batch\n",
      "Epoch: 8/20...  Training Step: 15400...  Training loss: 1.6311...  0.1233 sec/batch\n",
      "Epoch: 8/20...  Training Step: 15500...  Training loss: 1.4677...  0.1109 sec/batch\n",
      "Epoch: 8/20...  Training Step: 15600...  Training loss: 1.6038...  0.1160 sec/batch\n",
      "Epoch: 8/20...  Training Step: 15700...  Training loss: 1.7066...  0.1153 sec/batch\n",
      "Epoch: 8/20...  Training Step: 15800...  Training loss: 1.7101...  0.1209 sec/batch\n",
      "Epoch: 9/20...  Training Step: 15900...  Training loss: 1.6120...  0.1138 sec/batch\n",
      "Epoch: 9/20...  Training Step: 16000...  Training loss: 1.6690...  0.1252 sec/batch\n",
      "Epoch: 9/20...  Training Step: 16100...  Training loss: 1.6255...  0.1131 sec/batch\n",
      "Epoch: 9/20...  Training Step: 16200...  Training loss: 1.5117...  0.1073 sec/batch\n",
      "Epoch: 9/20...  Training Step: 16300...  Training loss: 1.6392...  0.1093 sec/batch\n",
      "Epoch: 9/20...  Training Step: 16400...  Training loss: 1.6543...  0.1198 sec/batch\n",
      "Epoch: 9/20...  Training Step: 16500...  Training loss: 1.4730...  0.1167 sec/batch\n",
      "Epoch: 9/20...  Training Step: 16600...  Training loss: 1.6247...  0.1069 sec/batch\n",
      "Epoch: 9/20...  Training Step: 16700...  Training loss: 1.5938...  0.1259 sec/batch\n",
      "Epoch: 9/20...  Training Step: 16800...  Training loss: 1.5681...  0.1122 sec/batch\n",
      "Epoch: 9/20...  Training Step: 16900...  Training loss: 1.6174...  0.1238 sec/batch\n",
      "Epoch: 9/20...  Training Step: 17000...  Training loss: 1.7312...  0.1206 sec/batch\n",
      "Epoch: 9/20...  Training Step: 17100...  Training loss: 1.5492...  0.1172 sec/batch\n",
      "Epoch: 9/20...  Training Step: 17200...  Training loss: 1.5486...  0.1239 sec/batch\n",
      "Epoch: 9/20...  Training Step: 17300...  Training loss: 1.6269...  0.1130 sec/batch\n",
      "Epoch: 9/20...  Training Step: 17400...  Training loss: 1.5174...  0.1131 sec/batch\n",
      "Epoch: 9/20...  Training Step: 17500...  Training loss: 1.5347...  0.1131 sec/batch\n",
      "Epoch: 9/20...  Training Step: 17600...  Training loss: 1.6014...  0.1138 sec/batch\n",
      "Epoch: 9/20...  Training Step: 17700...  Training loss: 1.5812...  0.1209 sec/batch\n",
      "Epoch: 9/20...  Training Step: 17800...  Training loss: 1.6981...  0.1175 sec/batch\n",
      "Epoch: 10/20...  Training Step: 17900...  Training loss: 1.6569...  0.1259 sec/batch\n",
      "Epoch: 10/20...  Training Step: 18000...  Training loss: 1.6763...  0.1094 sec/batch\n",
      "Epoch: 10/20...  Training Step: 18100...  Training loss: 1.5994...  0.1425 sec/batch\n",
      "Epoch: 10/20...  Training Step: 18200...  Training loss: 1.5929...  0.1165 sec/batch\n",
      "Epoch: 10/20...  Training Step: 18300...  Training loss: 1.6547...  0.1132 sec/batch\n",
      "Epoch: 10/20...  Training Step: 18400...  Training loss: 1.5220...  0.1137 sec/batch\n",
      "Epoch: 10/20...  Training Step: 18500...  Training loss: 1.5485...  0.1129 sec/batch\n",
      "Epoch: 10/20...  Training Step: 18600...  Training loss: 1.5515...  0.1170 sec/batch\n",
      "Epoch: 10/20...  Training Step: 18700...  Training loss: 1.5561...  0.1218 sec/batch\n",
      "Epoch: 10/20...  Training Step: 18800...  Training loss: 1.5164...  0.1199 sec/batch\n",
      "Epoch: 10/20...  Training Step: 18900...  Training loss: 1.5605...  0.1183 sec/batch\n",
      "Epoch: 10/20...  Training Step: 19000...  Training loss: 1.5906...  0.1205 sec/batch\n",
      "Epoch: 10/20...  Training Step: 19100...  Training loss: 1.6043...  0.1136 sec/batch\n",
      "Epoch: 10/20...  Training Step: 19200...  Training loss: 1.6056...  0.1142 sec/batch\n",
      "Epoch: 10/20...  Training Step: 19300...  Training loss: 1.6157...  0.1095 sec/batch\n",
      "Epoch: 10/20...  Training Step: 19400...  Training loss: 1.6033...  0.1215 sec/batch\n",
      "Epoch: 10/20...  Training Step: 19500...  Training loss: 1.5596...  0.1227 sec/batch\n",
      "Epoch: 10/20...  Training Step: 19600...  Training loss: 1.6420...  0.1113 sec/batch\n",
      "Epoch: 10/20...  Training Step: 19700...  Training loss: 1.6099...  0.1341 sec/batch\n"
     ]
    },
    {
     "name": "stdout",
     "output_type": "stream",
     "text": [
      "Epoch: 10/20...  Training Step: 19800...  Training loss: 1.6453...  0.1157 sec/batch\n",
      "Epoch: 11/20...  Training Step: 19900...  Training loss: 1.5896...  0.1229 sec/batch\n",
      "Epoch: 11/20...  Training Step: 20000...  Training loss: 1.4372...  0.1151 sec/batch\n",
      "Epoch: 11/20...  Training Step: 20100...  Training loss: 1.5498...  0.1078 sec/batch\n",
      "Epoch: 11/20...  Training Step: 20200...  Training loss: 1.5939...  0.1149 sec/batch\n",
      "Epoch: 11/20...  Training Step: 20300...  Training loss: 1.5904...  0.1144 sec/batch\n",
      "Epoch: 11/20...  Training Step: 20400...  Training loss: 1.5507...  0.1172 sec/batch\n",
      "Epoch: 11/20...  Training Step: 20500...  Training loss: 1.4772...  0.1154 sec/batch\n",
      "Epoch: 11/20...  Training Step: 20600...  Training loss: 1.5869...  0.1135 sec/batch\n",
      "Epoch: 11/20...  Training Step: 20700...  Training loss: 1.6040...  0.1220 sec/batch\n",
      "Epoch: 11/20...  Training Step: 20800...  Training loss: 1.4865...  0.1221 sec/batch\n",
      "Epoch: 11/20...  Training Step: 20900...  Training loss: 1.5272...  0.1133 sec/batch\n",
      "Epoch: 11/20...  Training Step: 21000...  Training loss: 1.5652...  0.1157 sec/batch\n",
      "Epoch: 11/20...  Training Step: 21100...  Training loss: 1.5446...  0.1063 sec/batch\n",
      "Epoch: 11/20...  Training Step: 21200...  Training loss: 1.7260...  0.1180 sec/batch\n",
      "Epoch: 11/20...  Training Step: 21300...  Training loss: 1.4626...  0.1191 sec/batch\n",
      "Epoch: 11/20...  Training Step: 21400...  Training loss: 1.4864...  0.1154 sec/batch\n",
      "Epoch: 11/20...  Training Step: 21500...  Training loss: 1.5939...  0.1148 sec/batch\n",
      "Epoch: 11/20...  Training Step: 21600...  Training loss: 1.5992...  0.1142 sec/batch\n",
      "Epoch: 11/20...  Training Step: 21700...  Training loss: 1.5016...  0.1160 sec/batch\n",
      "Epoch: 11/20...  Training Step: 21800...  Training loss: 1.7072...  0.1230 sec/batch\n",
      "Epoch: 12/20...  Training Step: 21900...  Training loss: 1.5977...  0.1188 sec/batch\n",
      "Epoch: 12/20...  Training Step: 22000...  Training loss: 1.6045...  0.1097 sec/batch\n",
      "Epoch: 12/20...  Training Step: 22100...  Training loss: 1.6020...  0.1204 sec/batch\n",
      "Epoch: 12/20...  Training Step: 22200...  Training loss: 1.4882...  0.1183 sec/batch\n",
      "Epoch: 12/20...  Training Step: 22300...  Training loss: 1.5645...  0.1118 sec/batch\n",
      "Epoch: 12/20...  Training Step: 22400...  Training loss: 1.4813...  0.1162 sec/batch\n",
      "Epoch: 12/20...  Training Step: 22500...  Training loss: 1.5910...  0.1179 sec/batch\n",
      "Epoch: 12/20...  Training Step: 22600...  Training loss: 1.6147...  0.1116 sec/batch\n",
      "Epoch: 12/20...  Training Step: 22700...  Training loss: 1.5162...  0.1132 sec/batch\n",
      "Epoch: 12/20...  Training Step: 22800...  Training loss: 1.5890...  0.1133 sec/batch\n",
      "Epoch: 12/20...  Training Step: 22900...  Training loss: 1.5637...  0.1303 sec/batch\n",
      "Epoch: 12/20...  Training Step: 23000...  Training loss: 1.5179...  0.1338 sec/batch\n",
      "Epoch: 12/20...  Training Step: 23100...  Training loss: 1.5191...  0.1123 sec/batch\n",
      "Epoch: 12/20...  Training Step: 23200...  Training loss: 1.5438...  0.1171 sec/batch\n",
      "Epoch: 12/20...  Training Step: 23300...  Training loss: 1.4722...  0.1210 sec/batch\n",
      "Epoch: 12/20...  Training Step: 23400...  Training loss: 1.5011...  0.1086 sec/batch\n",
      "Epoch: 12/20...  Training Step: 23500...  Training loss: 1.6875...  0.1093 sec/batch\n",
      "Epoch: 12/20...  Training Step: 23600...  Training loss: 1.4868...  0.1209 sec/batch\n",
      "Epoch: 12/20...  Training Step: 23700...  Training loss: 1.7288...  0.1225 sec/batch\n",
      "Epoch: 12/20...  Training Step: 23800...  Training loss: 1.6021...  0.1259 sec/batch\n",
      "Epoch: 13/20...  Training Step: 23900...  Training loss: 1.7400...  0.1222 sec/batch\n",
      "Epoch: 13/20...  Training Step: 24000...  Training loss: 1.5429...  0.1134 sec/batch\n",
      "Epoch: 13/20...  Training Step: 24100...  Training loss: 1.5433...  0.1188 sec/batch\n",
      "Epoch: 13/20...  Training Step: 24200...  Training loss: 1.5212...  0.1092 sec/batch\n",
      "Epoch: 13/20...  Training Step: 24300...  Training loss: 1.5194...  0.1286 sec/batch\n",
      "Epoch: 13/20...  Training Step: 24400...  Training loss: 1.4885...  0.1166 sec/batch\n",
      "Epoch: 13/20...  Training Step: 24500...  Training loss: 1.5470...  0.1095 sec/batch\n",
      "Epoch: 13/20...  Training Step: 24600...  Training loss: 1.6052...  0.1179 sec/batch\n",
      "Epoch: 13/20...  Training Step: 24700...  Training loss: 1.5757...  0.1162 sec/batch\n",
      "Epoch: 13/20...  Training Step: 24800...  Training loss: 1.5172...  0.1131 sec/batch\n",
      "Epoch: 13/20...  Training Step: 24900...  Training loss: 1.6485...  0.1100 sec/batch\n",
      "Epoch: 13/20...  Training Step: 25000...  Training loss: 1.5647...  0.1105 sec/batch\n",
      "Epoch: 13/20...  Training Step: 25100...  Training loss: 1.4710...  0.1105 sec/batch\n",
      "Epoch: 13/20...  Training Step: 25200...  Training loss: 1.5391...  0.1117 sec/batch\n",
      "Epoch: 13/20...  Training Step: 25300...  Training loss: 1.5234...  0.1155 sec/batch\n",
      "Epoch: 13/20...  Training Step: 25400...  Training loss: 1.4765...  0.1206 sec/batch\n",
      "Epoch: 13/20...  Training Step: 25500...  Training loss: 1.5309...  0.1185 sec/batch\n",
      "Epoch: 13/20...  Training Step: 25600...  Training loss: 1.5987...  0.1149 sec/batch\n",
      "Epoch: 13/20...  Training Step: 25700...  Training loss: 1.5701...  0.1198 sec/batch\n",
      "Epoch: 13/20...  Training Step: 25800...  Training loss: 1.5270...  0.1232 sec/batch\n",
      "Epoch: 14/20...  Training Step: 25900...  Training loss: 1.5410...  0.1177 sec/batch\n",
      "Epoch: 14/20...  Training Step: 26000...  Training loss: 1.5292...  0.1087 sec/batch\n",
      "Epoch: 14/20...  Training Step: 26100...  Training loss: 1.8236...  0.1187 sec/batch\n",
      "Epoch: 14/20...  Training Step: 26200...  Training loss: 1.6173...  0.1145 sec/batch\n",
      "Epoch: 14/20...  Training Step: 26300...  Training loss: 1.5022...  0.1200 sec/batch\n",
      "Epoch: 14/20...  Training Step: 26400...  Training loss: 1.5018...  0.1075 sec/batch\n",
      "Epoch: 14/20...  Training Step: 26500...  Training loss: 1.5342...  0.1119 sec/batch\n",
      "Epoch: 14/20...  Training Step: 26600...  Training loss: 1.6454...  0.1223 sec/batch\n",
      "Epoch: 14/20...  Training Step: 26700...  Training loss: 1.5570...  0.1127 sec/batch\n",
      "Epoch: 14/20...  Training Step: 26800...  Training loss: 1.5389...  0.1107 sec/batch\n",
      "Epoch: 14/20...  Training Step: 26900...  Training loss: 1.5871...  0.1150 sec/batch\n",
      "Epoch: 14/20...  Training Step: 27000...  Training loss: 1.5939...  0.1060 sec/batch\n",
      "Epoch: 14/20...  Training Step: 27100...  Training loss: 1.5845...  0.1138 sec/batch\n",
      "Epoch: 14/20...  Training Step: 27200...  Training loss: 1.4400...  0.1076 sec/batch\n",
      "Epoch: 14/20...  Training Step: 27300...  Training loss: 1.5794...  0.1093 sec/batch\n",
      "Epoch: 14/20...  Training Step: 27400...  Training loss: 1.5126...  0.1150 sec/batch\n",
      "Epoch: 14/20...  Training Step: 27500...  Training loss: 1.5041...  0.1183 sec/batch\n",
      "Epoch: 14/20...  Training Step: 27600...  Training loss: 1.4936...  0.1130 sec/batch\n",
      "Epoch: 14/20...  Training Step: 27700...  Training loss: 1.5238...  0.1173 sec/batch\n"
     ]
    }
   ],
   "source": [
    "epochs = 20\n",
    "# Save every N iterations\n",
    "save_every_n = 200\n",
    "\n",
    "model = CharRNN(len(vocab), batch_size=batch_size, num_steps=num_steps,\n",
    "                lstm_size=lstm_size, num_layers=num_layers, \n",
    "                learning_rate=learning_rate)\n",
    "\n",
    "saver = tf.train.Saver(max_to_keep=100)\n",
    "with tf.Session() as sess:\n",
    "    sess.run(tf.global_variables_initializer())\n",
    "    \n",
    "    # Use the line below to load a checkpoint and resume training\n",
    "    #saver.restore(sess, 'checkpoints/______.ckpt')\n",
    "    counter = 0\n",
    "    for e in range(epochs):\n",
    "        # Train network\n",
    "        new_state = sess.run(model.initial_state)\n",
    "        loss = 0\n",
    "        for x, y in get_batches(encoded, batch_size, num_steps):\n",
    "            counter += 1\n",
    "            start = time.time()\n",
    "            feed = {model.inputs: x,\n",
    "                    model.targets: y,\n",
    "                    model.keep_prob: keep_prob,\n",
    "                    model.initial_state: new_state}\n",
    "            batch_loss, new_state, _ = sess.run([model.loss, \n",
    "                                                 model.final_state, \n",
    "                                                 model.optimizer], \n",
    "                                                 feed_dict=feed)\n",
    "            \n",
    "            end = time.time()\n",
    "            if counter % 100 == 0:\n",
    "                print('Epoch: {}/{}... '.format(e+1, epochs),\n",
    "                      'Training Step: {}... '.format(counter),\n",
    "                      'Training loss: {:.4f}... '.format(batch_loss),\n",
    "                      '{:.4f} sec/batch'.format((end-start)))\n",
    "        \n",
    "            if (counter % save_every_n == 0):\n",
    "                saver.save(sess, \"checkpoints/i{}_l{}.ckpt\".format(counter, lstm_size))\n",
    "    \n",
    "    saver.save(sess, \"checkpoints/i{}_l{}.ckpt\".format(counter, lstm_size))"
   ]
  },
  {
   "cell_type": "markdown",
   "metadata": {},
   "source": [
    "#### Saved checkpoints\n",
    "\n",
    "Read up on saving and loading checkpoints here: https://www.tensorflow.org/programmers_guide/variables"
   ]
  },
  {
   "cell_type": "code",
   "execution_count": 16,
   "metadata": {},
   "outputs": [
    {
     "data": {
      "text/plain": [
       "model_checkpoint_path: \"checkpoints/i32400_l128.ckpt\"\n",
       "all_model_checkpoint_paths: \"checkpoints/i12600_l128.ckpt\"\n",
       "all_model_checkpoint_paths: \"checkpoints/i12800_l128.ckpt\"\n",
       "all_model_checkpoint_paths: \"checkpoints/i13000_l128.ckpt\"\n",
       "all_model_checkpoint_paths: \"checkpoints/i13200_l128.ckpt\"\n",
       "all_model_checkpoint_paths: \"checkpoints/i13400_l128.ckpt\"\n",
       "all_model_checkpoint_paths: \"checkpoints/i13600_l128.ckpt\"\n",
       "all_model_checkpoint_paths: \"checkpoints/i13800_l128.ckpt\"\n",
       "all_model_checkpoint_paths: \"checkpoints/i14000_l128.ckpt\"\n",
       "all_model_checkpoint_paths: \"checkpoints/i14200_l128.ckpt\"\n",
       "all_model_checkpoint_paths: \"checkpoints/i14400_l128.ckpt\"\n",
       "all_model_checkpoint_paths: \"checkpoints/i14600_l128.ckpt\"\n",
       "all_model_checkpoint_paths: \"checkpoints/i14800_l128.ckpt\"\n",
       "all_model_checkpoint_paths: \"checkpoints/i15000_l128.ckpt\"\n",
       "all_model_checkpoint_paths: \"checkpoints/i15200_l128.ckpt\"\n",
       "all_model_checkpoint_paths: \"checkpoints/i15400_l128.ckpt\"\n",
       "all_model_checkpoint_paths: \"checkpoints/i15600_l128.ckpt\"\n",
       "all_model_checkpoint_paths: \"checkpoints/i15800_l128.ckpt\"\n",
       "all_model_checkpoint_paths: \"checkpoints/i16000_l128.ckpt\"\n",
       "all_model_checkpoint_paths: \"checkpoints/i16200_l128.ckpt\"\n",
       "all_model_checkpoint_paths: \"checkpoints/i16400_l128.ckpt\"\n",
       "all_model_checkpoint_paths: \"checkpoints/i16600_l128.ckpt\"\n",
       "all_model_checkpoint_paths: \"checkpoints/i16800_l128.ckpt\"\n",
       "all_model_checkpoint_paths: \"checkpoints/i17000_l128.ckpt\"\n",
       "all_model_checkpoint_paths: \"checkpoints/i17200_l128.ckpt\"\n",
       "all_model_checkpoint_paths: \"checkpoints/i17400_l128.ckpt\"\n",
       "all_model_checkpoint_paths: \"checkpoints/i17600_l128.ckpt\"\n",
       "all_model_checkpoint_paths: \"checkpoints/i17800_l128.ckpt\"\n",
       "all_model_checkpoint_paths: \"checkpoints/i18000_l128.ckpt\"\n",
       "all_model_checkpoint_paths: \"checkpoints/i18200_l128.ckpt\"\n",
       "all_model_checkpoint_paths: \"checkpoints/i18400_l128.ckpt\"\n",
       "all_model_checkpoint_paths: \"checkpoints/i18600_l128.ckpt\"\n",
       "all_model_checkpoint_paths: \"checkpoints/i18800_l128.ckpt\"\n",
       "all_model_checkpoint_paths: \"checkpoints/i19000_l128.ckpt\"\n",
       "all_model_checkpoint_paths: \"checkpoints/i19200_l128.ckpt\"\n",
       "all_model_checkpoint_paths: \"checkpoints/i19400_l128.ckpt\"\n",
       "all_model_checkpoint_paths: \"checkpoints/i19600_l128.ckpt\"\n",
       "all_model_checkpoint_paths: \"checkpoints/i19800_l128.ckpt\"\n",
       "all_model_checkpoint_paths: \"checkpoints/i20000_l128.ckpt\"\n",
       "all_model_checkpoint_paths: \"checkpoints/i20200_l128.ckpt\"\n",
       "all_model_checkpoint_paths: \"checkpoints/i20400_l128.ckpt\"\n",
       "all_model_checkpoint_paths: \"checkpoints/i20600_l128.ckpt\"\n",
       "all_model_checkpoint_paths: \"checkpoints/i20800_l128.ckpt\"\n",
       "all_model_checkpoint_paths: \"checkpoints/i21000_l128.ckpt\"\n",
       "all_model_checkpoint_paths: \"checkpoints/i21200_l128.ckpt\"\n",
       "all_model_checkpoint_paths: \"checkpoints/i21400_l128.ckpt\"\n",
       "all_model_checkpoint_paths: \"checkpoints/i21600_l128.ckpt\"\n",
       "all_model_checkpoint_paths: \"checkpoints/i21800_l128.ckpt\"\n",
       "all_model_checkpoint_paths: \"checkpoints/i22000_l128.ckpt\"\n",
       "all_model_checkpoint_paths: \"checkpoints/i22200_l128.ckpt\"\n",
       "all_model_checkpoint_paths: \"checkpoints/i22400_l128.ckpt\"\n",
       "all_model_checkpoint_paths: \"checkpoints/i22600_l128.ckpt\"\n",
       "all_model_checkpoint_paths: \"checkpoints/i22800_l128.ckpt\"\n",
       "all_model_checkpoint_paths: \"checkpoints/i23000_l128.ckpt\"\n",
       "all_model_checkpoint_paths: \"checkpoints/i23200_l128.ckpt\"\n",
       "all_model_checkpoint_paths: \"checkpoints/i23400_l128.ckpt\"\n",
       "all_model_checkpoint_paths: \"checkpoints/i23600_l128.ckpt\"\n",
       "all_model_checkpoint_paths: \"checkpoints/i23800_l128.ckpt\"\n",
       "all_model_checkpoint_paths: \"checkpoints/i24000_l128.ckpt\"\n",
       "all_model_checkpoint_paths: \"checkpoints/i24200_l128.ckpt\"\n",
       "all_model_checkpoint_paths: \"checkpoints/i24400_l128.ckpt\"\n",
       "all_model_checkpoint_paths: \"checkpoints/i24600_l128.ckpt\"\n",
       "all_model_checkpoint_paths: \"checkpoints/i24800_l128.ckpt\"\n",
       "all_model_checkpoint_paths: \"checkpoints/i25000_l128.ckpt\"\n",
       "all_model_checkpoint_paths: \"checkpoints/i25200_l128.ckpt\"\n",
       "all_model_checkpoint_paths: \"checkpoints/i25400_l128.ckpt\"\n",
       "all_model_checkpoint_paths: \"checkpoints/i25600_l128.ckpt\"\n",
       "all_model_checkpoint_paths: \"checkpoints/i25800_l128.ckpt\"\n",
       "all_model_checkpoint_paths: \"checkpoints/i26000_l128.ckpt\"\n",
       "all_model_checkpoint_paths: \"checkpoints/i26200_l128.ckpt\"\n",
       "all_model_checkpoint_paths: \"checkpoints/i26400_l128.ckpt\"\n",
       "all_model_checkpoint_paths: \"checkpoints/i26600_l128.ckpt\"\n",
       "all_model_checkpoint_paths: \"checkpoints/i26800_l128.ckpt\"\n",
       "all_model_checkpoint_paths: \"checkpoints/i27000_l128.ckpt\"\n",
       "all_model_checkpoint_paths: \"checkpoints/i27200_l128.ckpt\"\n",
       "all_model_checkpoint_paths: \"checkpoints/i27400_l128.ckpt\"\n",
       "all_model_checkpoint_paths: \"checkpoints/i27600_l128.ckpt\"\n",
       "all_model_checkpoint_paths: \"checkpoints/i27800_l128.ckpt\"\n",
       "all_model_checkpoint_paths: \"checkpoints/i28000_l128.ckpt\"\n",
       "all_model_checkpoint_paths: \"checkpoints/i28200_l128.ckpt\"\n",
       "all_model_checkpoint_paths: \"checkpoints/i28400_l128.ckpt\"\n",
       "all_model_checkpoint_paths: \"checkpoints/i28600_l128.ckpt\"\n",
       "all_model_checkpoint_paths: \"checkpoints/i28800_l128.ckpt\"\n",
       "all_model_checkpoint_paths: \"checkpoints/i29000_l128.ckpt\"\n",
       "all_model_checkpoint_paths: \"checkpoints/i29200_l128.ckpt\"\n",
       "all_model_checkpoint_paths: \"checkpoints/i29400_l128.ckpt\"\n",
       "all_model_checkpoint_paths: \"checkpoints/i29600_l128.ckpt\"\n",
       "all_model_checkpoint_paths: \"checkpoints/i29800_l128.ckpt\"\n",
       "all_model_checkpoint_paths: \"checkpoints/i30000_l128.ckpt\"\n",
       "all_model_checkpoint_paths: \"checkpoints/i30200_l128.ckpt\"\n",
       "all_model_checkpoint_paths: \"checkpoints/i30400_l128.ckpt\"\n",
       "all_model_checkpoint_paths: \"checkpoints/i30600_l128.ckpt\"\n",
       "all_model_checkpoint_paths: \"checkpoints/i30800_l128.ckpt\"\n",
       "all_model_checkpoint_paths: \"checkpoints/i31000_l128.ckpt\"\n",
       "all_model_checkpoint_paths: \"checkpoints/i31200_l128.ckpt\"\n",
       "all_model_checkpoint_paths: \"checkpoints/i31400_l128.ckpt\"\n",
       "all_model_checkpoint_paths: \"checkpoints/i31600_l128.ckpt\"\n",
       "all_model_checkpoint_paths: \"checkpoints/i31800_l128.ckpt\"\n",
       "all_model_checkpoint_paths: \"checkpoints/i32000_l128.ckpt\"\n",
       "all_model_checkpoint_paths: \"checkpoints/i32200_l128.ckpt\"\n",
       "all_model_checkpoint_paths: \"checkpoints/i32400_l128.ckpt\""
      ]
     },
     "execution_count": 16,
     "metadata": {},
     "output_type": "execute_result"
    }
   ],
   "source": [
    "tf.train.get_checkpoint_state('checkpoints')"
   ]
  },
  {
   "cell_type": "markdown",
   "metadata": {},
   "source": [
    "## Sampling\n",
    "\n",
    "Now that the network is trained, we'll can use it to generate new text. The idea is that we pass in a character, then the network will predict the next character. We can use the new one, to predict the next one. And we keep doing this to generate all new text. I also included some functionality to prime the network with some text by passing in a string and building up a state from that.\n",
    "\n",
    "The network gives us predictions for each character. To reduce noise and make things a little less random, I'm going to only choose a new character from the top N most likely characters.\n",
    "\n"
   ]
  },
  {
   "cell_type": "code",
   "execution_count": 17,
   "metadata": {
    "collapsed": true
   },
   "outputs": [],
   "source": [
    "def pick_top_n(preds, vocab_size, top_n=5):\n",
    "    p = np.squeeze(preds)\n",
    "    p[np.argsort(p)[:-top_n]] = 0\n",
    "    p = p / np.sum(p)\n",
    "    c = np.random.choice(vocab_size, 1, p=p)[0]\n",
    "    return c"
   ]
  },
  {
   "cell_type": "code",
   "execution_count": 18,
   "metadata": {
    "collapsed": true
   },
   "outputs": [],
   "source": [
    "def sample(checkpoint, n_samples, lstm_size, vocab_size, prime=\"The \"):\n",
    "    samples = [c for c in prime]\n",
    "    model = CharRNN(len(vocab), lstm_size=lstm_size, sampling=True)\n",
    "    saver = tf.train.Saver()\n",
    "    with tf.Session() as sess:\n",
    "        saver.restore(sess, checkpoint)\n",
    "        new_state = sess.run(model.initial_state)\n",
    "        for c in prime:\n",
    "            x = np.zeros((1, 1))\n",
    "            x[0,0] = vocab_to_int[c]\n",
    "            feed = {model.inputs: x,\n",
    "                    model.keep_prob: 1.,\n",
    "                    model.initial_state: new_state}\n",
    "            preds, new_state = sess.run([model.prediction, model.final_state], \n",
    "                                         feed_dict=feed)\n",
    "\n",
    "        c = pick_top_n(preds, len(vocab))\n",
    "        samples.append(int_to_vocab[c])\n",
    "\n",
    "        for i in range(n_samples):\n",
    "            x[0,0] = c\n",
    "            feed = {model.inputs: x,\n",
    "                    model.keep_prob: 1.,\n",
    "                    model.initial_state: new_state}\n",
    "            preds, new_state = sess.run([model.prediction, model.final_state], \n",
    "                                         feed_dict=feed)\n",
    "\n",
    "            c = pick_top_n(preds, len(vocab))\n",
    "            samples.append(int_to_vocab[c])\n",
    "        \n",
    "    return ''.join(samples)"
   ]
  },
  {
   "cell_type": "markdown",
   "metadata": {},
   "source": [
    "Here, pass in the path to a checkpoint and sample from the network."
   ]
  },
  {
   "cell_type": "code",
   "execution_count": 19,
   "metadata": {},
   "outputs": [
    {
     "data": {
      "text/plain": [
       "'checkpoints/i32400_l128.ckpt'"
      ]
     },
     "execution_count": 19,
     "metadata": {},
     "output_type": "execute_result"
    }
   ],
   "source": [
    "tf.train.latest_checkpoint('checkpoints')"
   ]
  },
  {
   "cell_type": "code",
   "execution_count": 20,
   "metadata": {},
   "outputs": [
    {
     "name": "stdout",
     "output_type": "stream",
     "text": [
      "FarxU@Ox`;q,qx)Ulx4qq@x`;qx*,U@`xsDulsfq`0s@x;UOx4qq@xlsfq`;0@RuU`xUGGrx4y`xUlx;qx)Ulx`U&q@xsDx`;U`rxUlx;qx;UOx@s`xUx`,qUl0 x)qGGrxU@Ox;UOx`sx UfqxU@OxlU0Ox`;qx)0@O0l;q,x`0fqx;0lx`,0qOx`;U`xl`,yl`xU`x`;qx*s0@`lx0@x`;qx UGGxsDxUxl`U,`rx)Ulx`;qLx)q,qx@0 qx`sxlULx)0`;x`;qu ;U,flxU`x`;0lu`;syR;`xsDx`;qufyOx)0`;xUx UfqVxSy`xl;qx)q,qxUll0`UGGLxU@Ox;UOxlqqfqOx;s,lqrx;qx;UOx`sx`sGOx`;qx ;0GO,0@Rx;Uk0@Rx)0`;xUx`;,qqu`sx;0fx;yf4GqrxUxlsfq`;0@RxUx*U,`q,lx)Ulx`sx;s)x`sx`;qx`;syR;`xsDx`;qx*0 &qx)Ulxl`U,GGLx`ss&u;q,rx`;U`x;qxl;UGGx sfqrx`sx`;qx*sll0`0s@xsDx`;qx U,,0URqlxU@Ox)ULx);U`x`;qx`s,OxU@Oxl;ss&xsDx`;qx ,qU`y,qrx`;qxfsl`xlU,qx`;qxl`s*0@Rx;U@OVxX;q,qx)Ulx`;q,qx)UlxU@Ox)Ulxl;qx;UOxl`0GGxl;qx syGOxlULx`;U`x0`x)UlxlU0OxU@Ox ;U@RqOx;q,x`;syR;`rxU@OxU`x`;qxlsy, qx`;U`x;qx;UOx4qq@x`;qxlq@lqx`;U`x;qx)Ulx`q,f0@RxUGGx)0`;xUGGxU@Ox)Ulx;0lx)qU`;q,x`sx;q,VxWqx;UOxl`s**qOx;0frx`,L0@Rx40@OxsDx;0fxUlx`;0lx;UOx4q yfqxs@GLx;qxlqqfqOx`sx`;qu GU`qlx;s)ulU0Ox`sx`;qul;qx;qU,Ox;0lx;qUOx`sx`;qxfq@VxX;qxf0@Orx4q`)qq@u;q,x;qU,`u`;0@&0@RxU@Ox;q,xl0f*GLru`,L0@Rx`sxlqqx`;qx*s`ql`u;U@Ox;Uk0@Rx)UlxUlx;0lx ;0qDx;U0,x`sx40 &x`;qx U,,0URqxsDx;0fxsDx`;q0,x UfqxsDx;0lx ,0l*U,LxU@Ox U,,L0@RrxU@Oxl;0l0@RrxU@Ox;UOxlsfqxU`D,0 0GqxsDx`;qxl;qq*rx4,qU`;qlx)UlxUx`;syR;`x)qGGxU@Ox;Uk0@Rx`;U`x`;q,qx)q,qx4qRU@x`;qx sy@`0@Rx)Ulxl;s,`x)Ulx`;qx`;syR;`lxU@Ou`;qxlUfqxU@Ox;q,x;U@Olx)Ulx@s`x;q,x;U`0lDs,x;0lx;U@Ox`sx;0lxl;q,*0@RuUlx;qxl`s**qOx`;qxls@lxU`x;q,lqGDx`s)U,OlxU`x`;qx*Ullqlx;qu;UOxl*qU&0@Rx)0`;u;U,frx4y`x);q@x`;qLx)Ulx;q,xU,,U@RlxU`x`;qx sU ;x)UlxUllq@ 0@RuU@Ox`;qx GU@Rx0@x`sx;0flqGDx`sx;0,`rxUx ;Ufql`U`qlxU@Ox)s,&x;UlxUxlq,ks@0@Rrx)q,qx`U&0@RxU@Oxl`,0 &q@xs@xUx)U0`q@xUG)ULlx`sx;UkqxU@Ou`;0lxUlx;qx;UOu4qRy@x`;qxl`ssfx)s,,0l;s)xUGGrxU@Oxl`U,`qOxU`x`;qxlsy@Ox`;0lx);0@qxU@Ox)s@Oq,0@Rrx;UOxl`,s@Rq,rx)syGOx;UkqulU0Ox`;qx*sl0`0s@xsDx;0fx`;q,qx)0l;qx`;qxl`U@OVxjGGx)Ulx@s`xlq,`x`;qx*qs*Gqrx)0`;x`;qx`qGGx`sx ;U,RqVxWqx ;0GO,q@x`;,UfqVxjx`,ULx`;s@Rq,u`sx`;qx*sl0`0kqGLVuuCX;q,qclxUxl`U@O0GLxU4sy`x;0frx4y`rx)0GGx`sxfU&qxUxl`U0@lxU`x`\n"
     ]
    }
   ],
   "source": [
    "checkpoint = tf.train.latest_checkpoint('checkpoints')\n",
    "samp = sample(checkpoint, 2000, lstm_size, len(vocab), prime=\"Far\")\n",
    "print(samp)"
   ]
  },
  {
   "cell_type": "code",
   "execution_count": 21,
   "metadata": {},
   "outputs": [
    {
     "ename": "NotFoundError",
     "evalue": "Unsuccessful TensorSliceReader constructor: Failed to find any matching files for checkpoints/i200_l512.ckpt\n\t [[Node: save/RestoreV2 = RestoreV2[dtypes=[DT_FLOAT], _device=\"/job:localhost/replica:0/task:0/cpu:0\"](_recv_save/Const_0, save/RestoreV2/tensor_names, save/RestoreV2/shape_and_slices)]]\n\t [[Node: save/RestoreV2_2/_37 = _Recv[client_terminated=false, recv_device=\"/job:localhost/replica:0/task:0/gpu:0\", send_device=\"/job:localhost/replica:0/task:0/cpu:0\", send_device_incarnation=1, tensor_name=\"edge_99_save/RestoreV2_2\", tensor_type=DT_FLOAT, _device=\"/job:localhost/replica:0/task:0/gpu:0\"]()]]\n\nCaused by op 'save/RestoreV2', defined at:\n  File \"/home/kanamori-kazuki/.pyenv/versions/anaconda3-4.3.1/envs/dlnd/lib/python3.6/runpy.py\", line 193, in _run_module_as_main\n    \"__main__\", mod_spec)\n  File \"/home/kanamori-kazuki/.pyenv/versions/anaconda3-4.3.1/envs/dlnd/lib/python3.6/runpy.py\", line 85, in _run_code\n    exec(code, run_globals)\n  File \"/home/kanamori-kazuki/.pyenv/versions/anaconda3-4.3.1/envs/dlnd/lib/python3.6/site-packages/ipykernel_launcher.py\", line 16, in <module>\n    app.launch_new_instance()\n  File \"/home/kanamori-kazuki/.pyenv/versions/anaconda3-4.3.1/envs/dlnd/lib/python3.6/site-packages/traitlets/config/application.py\", line 658, in launch_instance\n    app.start()\n  File \"/home/kanamori-kazuki/.pyenv/versions/anaconda3-4.3.1/envs/dlnd/lib/python3.6/site-packages/ipykernel/kernelapp.py\", line 477, in start\n    ioloop.IOLoop.instance().start()\n  File \"/home/kanamori-kazuki/.pyenv/versions/anaconda3-4.3.1/envs/dlnd/lib/python3.6/site-packages/zmq/eventloop/ioloop.py\", line 177, in start\n    super(ZMQIOLoop, self).start()\n  File \"/home/kanamori-kazuki/.pyenv/versions/anaconda3-4.3.1/envs/dlnd/lib/python3.6/site-packages/tornado/ioloop.py\", line 888, in start\n    handler_func(fd_obj, events)\n  File \"/home/kanamori-kazuki/.pyenv/versions/anaconda3-4.3.1/envs/dlnd/lib/python3.6/site-packages/tornado/stack_context.py\", line 277, in null_wrapper\n    return fn(*args, **kwargs)\n  File \"/home/kanamori-kazuki/.pyenv/versions/anaconda3-4.3.1/envs/dlnd/lib/python3.6/site-packages/zmq/eventloop/zmqstream.py\", line 440, in _handle_events\n    self._handle_recv()\n  File \"/home/kanamori-kazuki/.pyenv/versions/anaconda3-4.3.1/envs/dlnd/lib/python3.6/site-packages/zmq/eventloop/zmqstream.py\", line 472, in _handle_recv\n    self._run_callback(callback, msg)\n  File \"/home/kanamori-kazuki/.pyenv/versions/anaconda3-4.3.1/envs/dlnd/lib/python3.6/site-packages/zmq/eventloop/zmqstream.py\", line 414, in _run_callback\n    callback(*args, **kwargs)\n  File \"/home/kanamori-kazuki/.pyenv/versions/anaconda3-4.3.1/envs/dlnd/lib/python3.6/site-packages/tornado/stack_context.py\", line 277, in null_wrapper\n    return fn(*args, **kwargs)\n  File \"/home/kanamori-kazuki/.pyenv/versions/anaconda3-4.3.1/envs/dlnd/lib/python3.6/site-packages/ipykernel/kernelbase.py\", line 283, in dispatcher\n    return self.dispatch_shell(stream, msg)\n  File \"/home/kanamori-kazuki/.pyenv/versions/anaconda3-4.3.1/envs/dlnd/lib/python3.6/site-packages/ipykernel/kernelbase.py\", line 235, in dispatch_shell\n    handler(stream, idents, msg)\n  File \"/home/kanamori-kazuki/.pyenv/versions/anaconda3-4.3.1/envs/dlnd/lib/python3.6/site-packages/ipykernel/kernelbase.py\", line 399, in execute_request\n    user_expressions, allow_stdin)\n  File \"/home/kanamori-kazuki/.pyenv/versions/anaconda3-4.3.1/envs/dlnd/lib/python3.6/site-packages/ipykernel/ipkernel.py\", line 196, in do_execute\n    res = shell.run_cell(code, store_history=store_history, silent=silent)\n  File \"/home/kanamori-kazuki/.pyenv/versions/anaconda3-4.3.1/envs/dlnd/lib/python3.6/site-packages/ipykernel/zmqshell.py\", line 533, in run_cell\n    return super(ZMQInteractiveShell, self).run_cell(*args, **kwargs)\n  File \"/home/kanamori-kazuki/.pyenv/versions/anaconda3-4.3.1/envs/dlnd/lib/python3.6/site-packages/IPython/core/interactiveshell.py\", line 2683, in run_cell\n    interactivity=interactivity, compiler=compiler, result=result)\n  File \"/home/kanamori-kazuki/.pyenv/versions/anaconda3-4.3.1/envs/dlnd/lib/python3.6/site-packages/IPython/core/interactiveshell.py\", line 2787, in run_ast_nodes\n    if self.run_code(code, result):\n  File \"/home/kanamori-kazuki/.pyenv/versions/anaconda3-4.3.1/envs/dlnd/lib/python3.6/site-packages/IPython/core/interactiveshell.py\", line 2847, in run_code\n    exec(code_obj, self.user_global_ns, self.user_ns)\n  File \"<ipython-input-21-d1a22da3ba8d>\", line 2, in <module>\n    samp = sample(checkpoint, 1000, lstm_size, len(vocab), prime=\"Far\")\n  File \"<ipython-input-18-8eb787ae9642>\", line 4, in sample\n    saver = tf.train.Saver()\n  File \"/home/kanamori-kazuki/.pyenv/versions/anaconda3-4.3.1/envs/dlnd/lib/python3.6/site-packages/tensorflow/python/training/saver.py\", line 1040, in __init__\n    self.build()\n  File \"/home/kanamori-kazuki/.pyenv/versions/anaconda3-4.3.1/envs/dlnd/lib/python3.6/site-packages/tensorflow/python/training/saver.py\", line 1070, in build\n    restore_sequentially=self._restore_sequentially)\n  File \"/home/kanamori-kazuki/.pyenv/versions/anaconda3-4.3.1/envs/dlnd/lib/python3.6/site-packages/tensorflow/python/training/saver.py\", line 675, in build\n    restore_sequentially, reshape)\n  File \"/home/kanamori-kazuki/.pyenv/versions/anaconda3-4.3.1/envs/dlnd/lib/python3.6/site-packages/tensorflow/python/training/saver.py\", line 402, in _AddRestoreOps\n    tensors = self.restore_op(filename_tensor, saveable, preferred_shard)\n  File \"/home/kanamori-kazuki/.pyenv/versions/anaconda3-4.3.1/envs/dlnd/lib/python3.6/site-packages/tensorflow/python/training/saver.py\", line 242, in restore_op\n    [spec.tensor.dtype])[0])\n  File \"/home/kanamori-kazuki/.pyenv/versions/anaconda3-4.3.1/envs/dlnd/lib/python3.6/site-packages/tensorflow/python/ops/gen_io_ops.py\", line 668, in restore_v2\n    dtypes=dtypes, name=name)\n  File \"/home/kanamori-kazuki/.pyenv/versions/anaconda3-4.3.1/envs/dlnd/lib/python3.6/site-packages/tensorflow/python/framework/op_def_library.py\", line 763, in apply_op\n    op_def=op_def)\n  File \"/home/kanamori-kazuki/.pyenv/versions/anaconda3-4.3.1/envs/dlnd/lib/python3.6/site-packages/tensorflow/python/framework/ops.py\", line 2327, in create_op\n    original_op=self._default_original_op, op_def=op_def)\n  File \"/home/kanamori-kazuki/.pyenv/versions/anaconda3-4.3.1/envs/dlnd/lib/python3.6/site-packages/tensorflow/python/framework/ops.py\", line 1226, in __init__\n    self._traceback = _extract_stack()\n\nNotFoundError (see above for traceback): Unsuccessful TensorSliceReader constructor: Failed to find any matching files for checkpoints/i200_l512.ckpt\n\t [[Node: save/RestoreV2 = RestoreV2[dtypes=[DT_FLOAT], _device=\"/job:localhost/replica:0/task:0/cpu:0\"](_recv_save/Const_0, save/RestoreV2/tensor_names, save/RestoreV2/shape_and_slices)]]\n\t [[Node: save/RestoreV2_2/_37 = _Recv[client_terminated=false, recv_device=\"/job:localhost/replica:0/task:0/gpu:0\", send_device=\"/job:localhost/replica:0/task:0/cpu:0\", send_device_incarnation=1, tensor_name=\"edge_99_save/RestoreV2_2\", tensor_type=DT_FLOAT, _device=\"/job:localhost/replica:0/task:0/gpu:0\"]()]]\n",
     "output_type": "error",
     "traceback": [
      "\u001b[0;31m---------------------------------------------------------------------------\u001b[0m",
      "\u001b[0;31mNotFoundError\u001b[0m                             Traceback (most recent call last)",
      "\u001b[0;32m/home/kanamori-kazuki/.pyenv/versions/anaconda3-4.3.1/envs/dlnd/lib/python3.6/site-packages/tensorflow/python/client/session.py\u001b[0m in \u001b[0;36m_do_call\u001b[0;34m(self, fn, *args)\u001b[0m\n\u001b[1;32m   1021\u001b[0m     \u001b[0;32mtry\u001b[0m\u001b[0;34m:\u001b[0m\u001b[0;34m\u001b[0m\u001b[0m\n\u001b[0;32m-> 1022\u001b[0;31m       \u001b[0;32mreturn\u001b[0m \u001b[0mfn\u001b[0m\u001b[0;34m(\u001b[0m\u001b[0;34m*\u001b[0m\u001b[0margs\u001b[0m\u001b[0;34m)\u001b[0m\u001b[0;34m\u001b[0m\u001b[0m\n\u001b[0m\u001b[1;32m   1023\u001b[0m     \u001b[0;32mexcept\u001b[0m \u001b[0merrors\u001b[0m\u001b[0;34m.\u001b[0m\u001b[0mOpError\u001b[0m \u001b[0;32mas\u001b[0m \u001b[0me\u001b[0m\u001b[0;34m:\u001b[0m\u001b[0;34m\u001b[0m\u001b[0m\n",
      "\u001b[0;32m/home/kanamori-kazuki/.pyenv/versions/anaconda3-4.3.1/envs/dlnd/lib/python3.6/site-packages/tensorflow/python/client/session.py\u001b[0m in \u001b[0;36m_run_fn\u001b[0;34m(session, feed_dict, fetch_list, target_list, options, run_metadata)\u001b[0m\n\u001b[1;32m   1003\u001b[0m                                  \u001b[0mfeed_dict\u001b[0m\u001b[0;34m,\u001b[0m \u001b[0mfetch_list\u001b[0m\u001b[0;34m,\u001b[0m \u001b[0mtarget_list\u001b[0m\u001b[0;34m,\u001b[0m\u001b[0;34m\u001b[0m\u001b[0m\n\u001b[0;32m-> 1004\u001b[0;31m                                  status, run_metadata)\n\u001b[0m\u001b[1;32m   1005\u001b[0m \u001b[0;34m\u001b[0m\u001b[0m\n",
      "\u001b[0;32m/home/kanamori-kazuki/.pyenv/versions/anaconda3-4.3.1/envs/dlnd/lib/python3.6/contextlib.py\u001b[0m in \u001b[0;36m__exit__\u001b[0;34m(self, type, value, traceback)\u001b[0m\n\u001b[1;32m     88\u001b[0m             \u001b[0;32mtry\u001b[0m\u001b[0;34m:\u001b[0m\u001b[0;34m\u001b[0m\u001b[0m\n\u001b[0;32m---> 89\u001b[0;31m                 \u001b[0mnext\u001b[0m\u001b[0;34m(\u001b[0m\u001b[0mself\u001b[0m\u001b[0;34m.\u001b[0m\u001b[0mgen\u001b[0m\u001b[0;34m)\u001b[0m\u001b[0;34m\u001b[0m\u001b[0m\n\u001b[0m\u001b[1;32m     90\u001b[0m             \u001b[0;32mexcept\u001b[0m \u001b[0mStopIteration\u001b[0m\u001b[0;34m:\u001b[0m\u001b[0;34m\u001b[0m\u001b[0m\n",
      "\u001b[0;32m/home/kanamori-kazuki/.pyenv/versions/anaconda3-4.3.1/envs/dlnd/lib/python3.6/site-packages/tensorflow/python/framework/errors_impl.py\u001b[0m in \u001b[0;36mraise_exception_on_not_ok_status\u001b[0;34m()\u001b[0m\n\u001b[1;32m    465\u001b[0m           \u001b[0mcompat\u001b[0m\u001b[0;34m.\u001b[0m\u001b[0mas_text\u001b[0m\u001b[0;34m(\u001b[0m\u001b[0mpywrap_tensorflow\u001b[0m\u001b[0;34m.\u001b[0m\u001b[0mTF_Message\u001b[0m\u001b[0;34m(\u001b[0m\u001b[0mstatus\u001b[0m\u001b[0;34m)\u001b[0m\u001b[0;34m)\u001b[0m\u001b[0;34m,\u001b[0m\u001b[0;34m\u001b[0m\u001b[0m\n\u001b[0;32m--> 466\u001b[0;31m           pywrap_tensorflow.TF_GetCode(status))\n\u001b[0m\u001b[1;32m    467\u001b[0m   \u001b[0;32mfinally\u001b[0m\u001b[0;34m:\u001b[0m\u001b[0;34m\u001b[0m\u001b[0m\n",
      "\u001b[0;31mNotFoundError\u001b[0m: Unsuccessful TensorSliceReader constructor: Failed to find any matching files for checkpoints/i200_l512.ckpt\n\t [[Node: save/RestoreV2 = RestoreV2[dtypes=[DT_FLOAT], _device=\"/job:localhost/replica:0/task:0/cpu:0\"](_recv_save/Const_0, save/RestoreV2/tensor_names, save/RestoreV2/shape_and_slices)]]\n\t [[Node: save/RestoreV2_2/_37 = _Recv[client_terminated=false, recv_device=\"/job:localhost/replica:0/task:0/gpu:0\", send_device=\"/job:localhost/replica:0/task:0/cpu:0\", send_device_incarnation=1, tensor_name=\"edge_99_save/RestoreV2_2\", tensor_type=DT_FLOAT, _device=\"/job:localhost/replica:0/task:0/gpu:0\"]()]]",
      "\nDuring handling of the above exception, another exception occurred:\n",
      "\u001b[0;31mNotFoundError\u001b[0m                             Traceback (most recent call last)",
      "\u001b[0;32m<ipython-input-21-d1a22da3ba8d>\u001b[0m in \u001b[0;36m<module>\u001b[0;34m()\u001b[0m\n\u001b[1;32m      1\u001b[0m \u001b[0mcheckpoint\u001b[0m \u001b[0;34m=\u001b[0m \u001b[0;34m'checkpoints/i200_l512.ckpt'\u001b[0m\u001b[0;34m\u001b[0m\u001b[0m\n\u001b[0;32m----> 2\u001b[0;31m \u001b[0msamp\u001b[0m \u001b[0;34m=\u001b[0m \u001b[0msample\u001b[0m\u001b[0;34m(\u001b[0m\u001b[0mcheckpoint\u001b[0m\u001b[0;34m,\u001b[0m \u001b[0;36m1000\u001b[0m\u001b[0;34m,\u001b[0m \u001b[0mlstm_size\u001b[0m\u001b[0;34m,\u001b[0m \u001b[0mlen\u001b[0m\u001b[0;34m(\u001b[0m\u001b[0mvocab\u001b[0m\u001b[0;34m)\u001b[0m\u001b[0;34m,\u001b[0m \u001b[0mprime\u001b[0m\u001b[0;34m=\u001b[0m\u001b[0;34m\"Far\"\u001b[0m\u001b[0;34m)\u001b[0m\u001b[0;34m\u001b[0m\u001b[0m\n\u001b[0m\u001b[1;32m      3\u001b[0m \u001b[0mprint\u001b[0m\u001b[0;34m(\u001b[0m\u001b[0msamp\u001b[0m\u001b[0;34m)\u001b[0m\u001b[0;34m\u001b[0m\u001b[0m\n",
      "\u001b[0;32m<ipython-input-18-8eb787ae9642>\u001b[0m in \u001b[0;36msample\u001b[0;34m(checkpoint, n_samples, lstm_size, vocab_size, prime)\u001b[0m\n\u001b[1;32m      4\u001b[0m     \u001b[0msaver\u001b[0m \u001b[0;34m=\u001b[0m \u001b[0mtf\u001b[0m\u001b[0;34m.\u001b[0m\u001b[0mtrain\u001b[0m\u001b[0;34m.\u001b[0m\u001b[0mSaver\u001b[0m\u001b[0;34m(\u001b[0m\u001b[0;34m)\u001b[0m\u001b[0;34m\u001b[0m\u001b[0m\n\u001b[1;32m      5\u001b[0m     \u001b[0;32mwith\u001b[0m \u001b[0mtf\u001b[0m\u001b[0;34m.\u001b[0m\u001b[0mSession\u001b[0m\u001b[0;34m(\u001b[0m\u001b[0;34m)\u001b[0m \u001b[0;32mas\u001b[0m \u001b[0msess\u001b[0m\u001b[0;34m:\u001b[0m\u001b[0;34m\u001b[0m\u001b[0m\n\u001b[0;32m----> 6\u001b[0;31m         \u001b[0msaver\u001b[0m\u001b[0;34m.\u001b[0m\u001b[0mrestore\u001b[0m\u001b[0;34m(\u001b[0m\u001b[0msess\u001b[0m\u001b[0;34m,\u001b[0m \u001b[0mcheckpoint\u001b[0m\u001b[0;34m)\u001b[0m\u001b[0;34m\u001b[0m\u001b[0m\n\u001b[0m\u001b[1;32m      7\u001b[0m         \u001b[0mnew_state\u001b[0m \u001b[0;34m=\u001b[0m \u001b[0msess\u001b[0m\u001b[0;34m.\u001b[0m\u001b[0mrun\u001b[0m\u001b[0;34m(\u001b[0m\u001b[0mmodel\u001b[0m\u001b[0;34m.\u001b[0m\u001b[0minitial_state\u001b[0m\u001b[0;34m)\u001b[0m\u001b[0;34m\u001b[0m\u001b[0m\n\u001b[1;32m      8\u001b[0m         \u001b[0;32mfor\u001b[0m \u001b[0mc\u001b[0m \u001b[0;32min\u001b[0m \u001b[0mprime\u001b[0m\u001b[0;34m:\u001b[0m\u001b[0;34m\u001b[0m\u001b[0m\n",
      "\u001b[0;32m/home/kanamori-kazuki/.pyenv/versions/anaconda3-4.3.1/envs/dlnd/lib/python3.6/site-packages/tensorflow/python/training/saver.py\u001b[0m in \u001b[0;36mrestore\u001b[0;34m(self, sess, save_path)\u001b[0m\n\u001b[1;32m   1426\u001b[0m       \u001b[0;32mreturn\u001b[0m\u001b[0;34m\u001b[0m\u001b[0m\n\u001b[1;32m   1427\u001b[0m     sess.run(self.saver_def.restore_op_name,\n\u001b[0;32m-> 1428\u001b[0;31m              {self.saver_def.filename_tensor_name: save_path})\n\u001b[0m\u001b[1;32m   1429\u001b[0m \u001b[0;34m\u001b[0m\u001b[0m\n\u001b[1;32m   1430\u001b[0m   \u001b[0;34m@\u001b[0m\u001b[0mstaticmethod\u001b[0m\u001b[0;34m\u001b[0m\u001b[0m\n",
      "\u001b[0;32m/home/kanamori-kazuki/.pyenv/versions/anaconda3-4.3.1/envs/dlnd/lib/python3.6/site-packages/tensorflow/python/client/session.py\u001b[0m in \u001b[0;36mrun\u001b[0;34m(self, fetches, feed_dict, options, run_metadata)\u001b[0m\n\u001b[1;32m    765\u001b[0m     \u001b[0;32mtry\u001b[0m\u001b[0;34m:\u001b[0m\u001b[0;34m\u001b[0m\u001b[0m\n\u001b[1;32m    766\u001b[0m       result = self._run(None, fetches, feed_dict, options_ptr,\n\u001b[0;32m--> 767\u001b[0;31m                          run_metadata_ptr)\n\u001b[0m\u001b[1;32m    768\u001b[0m       \u001b[0;32mif\u001b[0m \u001b[0mrun_metadata\u001b[0m\u001b[0;34m:\u001b[0m\u001b[0;34m\u001b[0m\u001b[0m\n\u001b[1;32m    769\u001b[0m         \u001b[0mproto_data\u001b[0m \u001b[0;34m=\u001b[0m \u001b[0mtf_session\u001b[0m\u001b[0;34m.\u001b[0m\u001b[0mTF_GetBuffer\u001b[0m\u001b[0;34m(\u001b[0m\u001b[0mrun_metadata_ptr\u001b[0m\u001b[0;34m)\u001b[0m\u001b[0;34m\u001b[0m\u001b[0m\n",
      "\u001b[0;32m/home/kanamori-kazuki/.pyenv/versions/anaconda3-4.3.1/envs/dlnd/lib/python3.6/site-packages/tensorflow/python/client/session.py\u001b[0m in \u001b[0;36m_run\u001b[0;34m(self, handle, fetches, feed_dict, options, run_metadata)\u001b[0m\n\u001b[1;32m    963\u001b[0m     \u001b[0;32mif\u001b[0m \u001b[0mfinal_fetches\u001b[0m \u001b[0;32mor\u001b[0m \u001b[0mfinal_targets\u001b[0m\u001b[0;34m:\u001b[0m\u001b[0;34m\u001b[0m\u001b[0m\n\u001b[1;32m    964\u001b[0m       results = self._do_run(handle, final_targets, final_fetches,\n\u001b[0;32m--> 965\u001b[0;31m                              feed_dict_string, options, run_metadata)\n\u001b[0m\u001b[1;32m    966\u001b[0m     \u001b[0;32melse\u001b[0m\u001b[0;34m:\u001b[0m\u001b[0;34m\u001b[0m\u001b[0m\n\u001b[1;32m    967\u001b[0m       \u001b[0mresults\u001b[0m \u001b[0;34m=\u001b[0m \u001b[0;34m[\u001b[0m\u001b[0;34m]\u001b[0m\u001b[0;34m\u001b[0m\u001b[0m\n",
      "\u001b[0;32m/home/kanamori-kazuki/.pyenv/versions/anaconda3-4.3.1/envs/dlnd/lib/python3.6/site-packages/tensorflow/python/client/session.py\u001b[0m in \u001b[0;36m_do_run\u001b[0;34m(self, handle, target_list, fetch_list, feed_dict, options, run_metadata)\u001b[0m\n\u001b[1;32m   1013\u001b[0m     \u001b[0;32mif\u001b[0m \u001b[0mhandle\u001b[0m \u001b[0;32mis\u001b[0m \u001b[0;32mNone\u001b[0m\u001b[0;34m:\u001b[0m\u001b[0;34m\u001b[0m\u001b[0m\n\u001b[1;32m   1014\u001b[0m       return self._do_call(_run_fn, self._session, feed_dict, fetch_list,\n\u001b[0;32m-> 1015\u001b[0;31m                            target_list, options, run_metadata)\n\u001b[0m\u001b[1;32m   1016\u001b[0m     \u001b[0;32melse\u001b[0m\u001b[0;34m:\u001b[0m\u001b[0;34m\u001b[0m\u001b[0m\n\u001b[1;32m   1017\u001b[0m       return self._do_call(_prun_fn, self._session, handle, feed_dict,\n",
      "\u001b[0;32m/home/kanamori-kazuki/.pyenv/versions/anaconda3-4.3.1/envs/dlnd/lib/python3.6/site-packages/tensorflow/python/client/session.py\u001b[0m in \u001b[0;36m_do_call\u001b[0;34m(self, fn, *args)\u001b[0m\n\u001b[1;32m   1033\u001b[0m         \u001b[0;32mexcept\u001b[0m \u001b[0mKeyError\u001b[0m\u001b[0;34m:\u001b[0m\u001b[0;34m\u001b[0m\u001b[0m\n\u001b[1;32m   1034\u001b[0m           \u001b[0;32mpass\u001b[0m\u001b[0;34m\u001b[0m\u001b[0m\n\u001b[0;32m-> 1035\u001b[0;31m       \u001b[0;32mraise\u001b[0m \u001b[0mtype\u001b[0m\u001b[0;34m(\u001b[0m\u001b[0me\u001b[0m\u001b[0;34m)\u001b[0m\u001b[0;34m(\u001b[0m\u001b[0mnode_def\u001b[0m\u001b[0;34m,\u001b[0m \u001b[0mop\u001b[0m\u001b[0;34m,\u001b[0m \u001b[0mmessage\u001b[0m\u001b[0;34m)\u001b[0m\u001b[0;34m\u001b[0m\u001b[0m\n\u001b[0m\u001b[1;32m   1036\u001b[0m \u001b[0;34m\u001b[0m\u001b[0m\n\u001b[1;32m   1037\u001b[0m   \u001b[0;32mdef\u001b[0m \u001b[0m_extend_graph\u001b[0m\u001b[0;34m(\u001b[0m\u001b[0mself\u001b[0m\u001b[0;34m)\u001b[0m\u001b[0;34m:\u001b[0m\u001b[0;34m\u001b[0m\u001b[0m\n",
      "\u001b[0;31mNotFoundError\u001b[0m: Unsuccessful TensorSliceReader constructor: Failed to find any matching files for checkpoints/i200_l512.ckpt\n\t [[Node: save/RestoreV2 = RestoreV2[dtypes=[DT_FLOAT], _device=\"/job:localhost/replica:0/task:0/cpu:0\"](_recv_save/Const_0, save/RestoreV2/tensor_names, save/RestoreV2/shape_and_slices)]]\n\t [[Node: save/RestoreV2_2/_37 = _Recv[client_terminated=false, recv_device=\"/job:localhost/replica:0/task:0/gpu:0\", send_device=\"/job:localhost/replica:0/task:0/cpu:0\", send_device_incarnation=1, tensor_name=\"edge_99_save/RestoreV2_2\", tensor_type=DT_FLOAT, _device=\"/job:localhost/replica:0/task:0/gpu:0\"]()]]\n\nCaused by op 'save/RestoreV2', defined at:\n  File \"/home/kanamori-kazuki/.pyenv/versions/anaconda3-4.3.1/envs/dlnd/lib/python3.6/runpy.py\", line 193, in _run_module_as_main\n    \"__main__\", mod_spec)\n  File \"/home/kanamori-kazuki/.pyenv/versions/anaconda3-4.3.1/envs/dlnd/lib/python3.6/runpy.py\", line 85, in _run_code\n    exec(code, run_globals)\n  File \"/home/kanamori-kazuki/.pyenv/versions/anaconda3-4.3.1/envs/dlnd/lib/python3.6/site-packages/ipykernel_launcher.py\", line 16, in <module>\n    app.launch_new_instance()\n  File \"/home/kanamori-kazuki/.pyenv/versions/anaconda3-4.3.1/envs/dlnd/lib/python3.6/site-packages/traitlets/config/application.py\", line 658, in launch_instance\n    app.start()\n  File \"/home/kanamori-kazuki/.pyenv/versions/anaconda3-4.3.1/envs/dlnd/lib/python3.6/site-packages/ipykernel/kernelapp.py\", line 477, in start\n    ioloop.IOLoop.instance().start()\n  File \"/home/kanamori-kazuki/.pyenv/versions/anaconda3-4.3.1/envs/dlnd/lib/python3.6/site-packages/zmq/eventloop/ioloop.py\", line 177, in start\n    super(ZMQIOLoop, self).start()\n  File \"/home/kanamori-kazuki/.pyenv/versions/anaconda3-4.3.1/envs/dlnd/lib/python3.6/site-packages/tornado/ioloop.py\", line 888, in start\n    handler_func(fd_obj, events)\n  File \"/home/kanamori-kazuki/.pyenv/versions/anaconda3-4.3.1/envs/dlnd/lib/python3.6/site-packages/tornado/stack_context.py\", line 277, in null_wrapper\n    return fn(*args, **kwargs)\n  File \"/home/kanamori-kazuki/.pyenv/versions/anaconda3-4.3.1/envs/dlnd/lib/python3.6/site-packages/zmq/eventloop/zmqstream.py\", line 440, in _handle_events\n    self._handle_recv()\n  File \"/home/kanamori-kazuki/.pyenv/versions/anaconda3-4.3.1/envs/dlnd/lib/python3.6/site-packages/zmq/eventloop/zmqstream.py\", line 472, in _handle_recv\n    self._run_callback(callback, msg)\n  File \"/home/kanamori-kazuki/.pyenv/versions/anaconda3-4.3.1/envs/dlnd/lib/python3.6/site-packages/zmq/eventloop/zmqstream.py\", line 414, in _run_callback\n    callback(*args, **kwargs)\n  File \"/home/kanamori-kazuki/.pyenv/versions/anaconda3-4.3.1/envs/dlnd/lib/python3.6/site-packages/tornado/stack_context.py\", line 277, in null_wrapper\n    return fn(*args, **kwargs)\n  File \"/home/kanamori-kazuki/.pyenv/versions/anaconda3-4.3.1/envs/dlnd/lib/python3.6/site-packages/ipykernel/kernelbase.py\", line 283, in dispatcher\n    return self.dispatch_shell(stream, msg)\n  File \"/home/kanamori-kazuki/.pyenv/versions/anaconda3-4.3.1/envs/dlnd/lib/python3.6/site-packages/ipykernel/kernelbase.py\", line 235, in dispatch_shell\n    handler(stream, idents, msg)\n  File \"/home/kanamori-kazuki/.pyenv/versions/anaconda3-4.3.1/envs/dlnd/lib/python3.6/site-packages/ipykernel/kernelbase.py\", line 399, in execute_request\n    user_expressions, allow_stdin)\n  File \"/home/kanamori-kazuki/.pyenv/versions/anaconda3-4.3.1/envs/dlnd/lib/python3.6/site-packages/ipykernel/ipkernel.py\", line 196, in do_execute\n    res = shell.run_cell(code, store_history=store_history, silent=silent)\n  File \"/home/kanamori-kazuki/.pyenv/versions/anaconda3-4.3.1/envs/dlnd/lib/python3.6/site-packages/ipykernel/zmqshell.py\", line 533, in run_cell\n    return super(ZMQInteractiveShell, self).run_cell(*args, **kwargs)\n  File \"/home/kanamori-kazuki/.pyenv/versions/anaconda3-4.3.1/envs/dlnd/lib/python3.6/site-packages/IPython/core/interactiveshell.py\", line 2683, in run_cell\n    interactivity=interactivity, compiler=compiler, result=result)\n  File \"/home/kanamori-kazuki/.pyenv/versions/anaconda3-4.3.1/envs/dlnd/lib/python3.6/site-packages/IPython/core/interactiveshell.py\", line 2787, in run_ast_nodes\n    if self.run_code(code, result):\n  File \"/home/kanamori-kazuki/.pyenv/versions/anaconda3-4.3.1/envs/dlnd/lib/python3.6/site-packages/IPython/core/interactiveshell.py\", line 2847, in run_code\n    exec(code_obj, self.user_global_ns, self.user_ns)\n  File \"<ipython-input-21-d1a22da3ba8d>\", line 2, in <module>\n    samp = sample(checkpoint, 1000, lstm_size, len(vocab), prime=\"Far\")\n  File \"<ipython-input-18-8eb787ae9642>\", line 4, in sample\n    saver = tf.train.Saver()\n  File \"/home/kanamori-kazuki/.pyenv/versions/anaconda3-4.3.1/envs/dlnd/lib/python3.6/site-packages/tensorflow/python/training/saver.py\", line 1040, in __init__\n    self.build()\n  File \"/home/kanamori-kazuki/.pyenv/versions/anaconda3-4.3.1/envs/dlnd/lib/python3.6/site-packages/tensorflow/python/training/saver.py\", line 1070, in build\n    restore_sequentially=self._restore_sequentially)\n  File \"/home/kanamori-kazuki/.pyenv/versions/anaconda3-4.3.1/envs/dlnd/lib/python3.6/site-packages/tensorflow/python/training/saver.py\", line 675, in build\n    restore_sequentially, reshape)\n  File \"/home/kanamori-kazuki/.pyenv/versions/anaconda3-4.3.1/envs/dlnd/lib/python3.6/site-packages/tensorflow/python/training/saver.py\", line 402, in _AddRestoreOps\n    tensors = self.restore_op(filename_tensor, saveable, preferred_shard)\n  File \"/home/kanamori-kazuki/.pyenv/versions/anaconda3-4.3.1/envs/dlnd/lib/python3.6/site-packages/tensorflow/python/training/saver.py\", line 242, in restore_op\n    [spec.tensor.dtype])[0])\n  File \"/home/kanamori-kazuki/.pyenv/versions/anaconda3-4.3.1/envs/dlnd/lib/python3.6/site-packages/tensorflow/python/ops/gen_io_ops.py\", line 668, in restore_v2\n    dtypes=dtypes, name=name)\n  File \"/home/kanamori-kazuki/.pyenv/versions/anaconda3-4.3.1/envs/dlnd/lib/python3.6/site-packages/tensorflow/python/framework/op_def_library.py\", line 763, in apply_op\n    op_def=op_def)\n  File \"/home/kanamori-kazuki/.pyenv/versions/anaconda3-4.3.1/envs/dlnd/lib/python3.6/site-packages/tensorflow/python/framework/ops.py\", line 2327, in create_op\n    original_op=self._default_original_op, op_def=op_def)\n  File \"/home/kanamori-kazuki/.pyenv/versions/anaconda3-4.3.1/envs/dlnd/lib/python3.6/site-packages/tensorflow/python/framework/ops.py\", line 1226, in __init__\n    self._traceback = _extract_stack()\n\nNotFoundError (see above for traceback): Unsuccessful TensorSliceReader constructor: Failed to find any matching files for checkpoints/i200_l512.ckpt\n\t [[Node: save/RestoreV2 = RestoreV2[dtypes=[DT_FLOAT], _device=\"/job:localhost/replica:0/task:0/cpu:0\"](_recv_save/Const_0, save/RestoreV2/tensor_names, save/RestoreV2/shape_and_slices)]]\n\t [[Node: save/RestoreV2_2/_37 = _Recv[client_terminated=false, recv_device=\"/job:localhost/replica:0/task:0/gpu:0\", send_device=\"/job:localhost/replica:0/task:0/cpu:0\", send_device_incarnation=1, tensor_name=\"edge_99_save/RestoreV2_2\", tensor_type=DT_FLOAT, _device=\"/job:localhost/replica:0/task:0/gpu:0\"]()]]\n"
     ]
    }
   ],
   "source": [
    "checkpoint = 'checkpoints/i200_l512.ckpt'\n",
    "samp = sample(checkpoint, 1000, lstm_size, len(vocab), prime=\"Far\")\n",
    "print(samp)"
   ]
  },
  {
   "cell_type": "code",
   "execution_count": 22,
   "metadata": {},
   "outputs": [
    {
     "ename": "NotFoundError",
     "evalue": "Unsuccessful TensorSliceReader constructor: Failed to find any matching files for checkpoints/i600_l512.ckpt\n\t [[Node: save/RestoreV2_3 = RestoreV2[dtypes=[DT_FLOAT], _device=\"/job:localhost/replica:0/task:0/cpu:0\"](_recv_save/Const_0, save/RestoreV2_3/tensor_names, save/RestoreV2_3/shape_and_slices)]]\n\t [[Node: save/RestoreV2_7/_21 = _Recv[client_terminated=false, recv_device=\"/job:localhost/replica:0/task:0/gpu:0\", send_device=\"/job:localhost/replica:0/task:0/cpu:0\", send_device_incarnation=1, tensor_name=\"edge_82_save/RestoreV2_7\", tensor_type=DT_FLOAT, _device=\"/job:localhost/replica:0/task:0/gpu:0\"]()]]\n\nCaused by op 'save/RestoreV2_3', defined at:\n  File \"/home/kanamori-kazuki/.pyenv/versions/anaconda3-4.3.1/envs/dlnd/lib/python3.6/runpy.py\", line 193, in _run_module_as_main\n    \"__main__\", mod_spec)\n  File \"/home/kanamori-kazuki/.pyenv/versions/anaconda3-4.3.1/envs/dlnd/lib/python3.6/runpy.py\", line 85, in _run_code\n    exec(code, run_globals)\n  File \"/home/kanamori-kazuki/.pyenv/versions/anaconda3-4.3.1/envs/dlnd/lib/python3.6/site-packages/ipykernel_launcher.py\", line 16, in <module>\n    app.launch_new_instance()\n  File \"/home/kanamori-kazuki/.pyenv/versions/anaconda3-4.3.1/envs/dlnd/lib/python3.6/site-packages/traitlets/config/application.py\", line 658, in launch_instance\n    app.start()\n  File \"/home/kanamori-kazuki/.pyenv/versions/anaconda3-4.3.1/envs/dlnd/lib/python3.6/site-packages/ipykernel/kernelapp.py\", line 477, in start\n    ioloop.IOLoop.instance().start()\n  File \"/home/kanamori-kazuki/.pyenv/versions/anaconda3-4.3.1/envs/dlnd/lib/python3.6/site-packages/zmq/eventloop/ioloop.py\", line 177, in start\n    super(ZMQIOLoop, self).start()\n  File \"/home/kanamori-kazuki/.pyenv/versions/anaconda3-4.3.1/envs/dlnd/lib/python3.6/site-packages/tornado/ioloop.py\", line 888, in start\n    handler_func(fd_obj, events)\n  File \"/home/kanamori-kazuki/.pyenv/versions/anaconda3-4.3.1/envs/dlnd/lib/python3.6/site-packages/tornado/stack_context.py\", line 277, in null_wrapper\n    return fn(*args, **kwargs)\n  File \"/home/kanamori-kazuki/.pyenv/versions/anaconda3-4.3.1/envs/dlnd/lib/python3.6/site-packages/zmq/eventloop/zmqstream.py\", line 440, in _handle_events\n    self._handle_recv()\n  File \"/home/kanamori-kazuki/.pyenv/versions/anaconda3-4.3.1/envs/dlnd/lib/python3.6/site-packages/zmq/eventloop/zmqstream.py\", line 472, in _handle_recv\n    self._run_callback(callback, msg)\n  File \"/home/kanamori-kazuki/.pyenv/versions/anaconda3-4.3.1/envs/dlnd/lib/python3.6/site-packages/zmq/eventloop/zmqstream.py\", line 414, in _run_callback\n    callback(*args, **kwargs)\n  File \"/home/kanamori-kazuki/.pyenv/versions/anaconda3-4.3.1/envs/dlnd/lib/python3.6/site-packages/tornado/stack_context.py\", line 277, in null_wrapper\n    return fn(*args, **kwargs)\n  File \"/home/kanamori-kazuki/.pyenv/versions/anaconda3-4.3.1/envs/dlnd/lib/python3.6/site-packages/ipykernel/kernelbase.py\", line 283, in dispatcher\n    return self.dispatch_shell(stream, msg)\n  File \"/home/kanamori-kazuki/.pyenv/versions/anaconda3-4.3.1/envs/dlnd/lib/python3.6/site-packages/ipykernel/kernelbase.py\", line 235, in dispatch_shell\n    handler(stream, idents, msg)\n  File \"/home/kanamori-kazuki/.pyenv/versions/anaconda3-4.3.1/envs/dlnd/lib/python3.6/site-packages/ipykernel/kernelbase.py\", line 399, in execute_request\n    user_expressions, allow_stdin)\n  File \"/home/kanamori-kazuki/.pyenv/versions/anaconda3-4.3.1/envs/dlnd/lib/python3.6/site-packages/ipykernel/ipkernel.py\", line 196, in do_execute\n    res = shell.run_cell(code, store_history=store_history, silent=silent)\n  File \"/home/kanamori-kazuki/.pyenv/versions/anaconda3-4.3.1/envs/dlnd/lib/python3.6/site-packages/ipykernel/zmqshell.py\", line 533, in run_cell\n    return super(ZMQInteractiveShell, self).run_cell(*args, **kwargs)\n  File \"/home/kanamori-kazuki/.pyenv/versions/anaconda3-4.3.1/envs/dlnd/lib/python3.6/site-packages/IPython/core/interactiveshell.py\", line 2683, in run_cell\n    interactivity=interactivity, compiler=compiler, result=result)\n  File \"/home/kanamori-kazuki/.pyenv/versions/anaconda3-4.3.1/envs/dlnd/lib/python3.6/site-packages/IPython/core/interactiveshell.py\", line 2787, in run_ast_nodes\n    if self.run_code(code, result):\n  File \"/home/kanamori-kazuki/.pyenv/versions/anaconda3-4.3.1/envs/dlnd/lib/python3.6/site-packages/IPython/core/interactiveshell.py\", line 2847, in run_code\n    exec(code_obj, self.user_global_ns, self.user_ns)\n  File \"<ipython-input-22-7c4e18bbddc1>\", line 2, in <module>\n    samp = sample(checkpoint, 1000, lstm_size, len(vocab), prime=\"Far\")\n  File \"<ipython-input-18-8eb787ae9642>\", line 4, in sample\n    saver = tf.train.Saver()\n  File \"/home/kanamori-kazuki/.pyenv/versions/anaconda3-4.3.1/envs/dlnd/lib/python3.6/site-packages/tensorflow/python/training/saver.py\", line 1040, in __init__\n    self.build()\n  File \"/home/kanamori-kazuki/.pyenv/versions/anaconda3-4.3.1/envs/dlnd/lib/python3.6/site-packages/tensorflow/python/training/saver.py\", line 1070, in build\n    restore_sequentially=self._restore_sequentially)\n  File \"/home/kanamori-kazuki/.pyenv/versions/anaconda3-4.3.1/envs/dlnd/lib/python3.6/site-packages/tensorflow/python/training/saver.py\", line 675, in build\n    restore_sequentially, reshape)\n  File \"/home/kanamori-kazuki/.pyenv/versions/anaconda3-4.3.1/envs/dlnd/lib/python3.6/site-packages/tensorflow/python/training/saver.py\", line 402, in _AddRestoreOps\n    tensors = self.restore_op(filename_tensor, saveable, preferred_shard)\n  File \"/home/kanamori-kazuki/.pyenv/versions/anaconda3-4.3.1/envs/dlnd/lib/python3.6/site-packages/tensorflow/python/training/saver.py\", line 242, in restore_op\n    [spec.tensor.dtype])[0])\n  File \"/home/kanamori-kazuki/.pyenv/versions/anaconda3-4.3.1/envs/dlnd/lib/python3.6/site-packages/tensorflow/python/ops/gen_io_ops.py\", line 668, in restore_v2\n    dtypes=dtypes, name=name)\n  File \"/home/kanamori-kazuki/.pyenv/versions/anaconda3-4.3.1/envs/dlnd/lib/python3.6/site-packages/tensorflow/python/framework/op_def_library.py\", line 763, in apply_op\n    op_def=op_def)\n  File \"/home/kanamori-kazuki/.pyenv/versions/anaconda3-4.3.1/envs/dlnd/lib/python3.6/site-packages/tensorflow/python/framework/ops.py\", line 2327, in create_op\n    original_op=self._default_original_op, op_def=op_def)\n  File \"/home/kanamori-kazuki/.pyenv/versions/anaconda3-4.3.1/envs/dlnd/lib/python3.6/site-packages/tensorflow/python/framework/ops.py\", line 1226, in __init__\n    self._traceback = _extract_stack()\n\nNotFoundError (see above for traceback): Unsuccessful TensorSliceReader constructor: Failed to find any matching files for checkpoints/i600_l512.ckpt\n\t [[Node: save/RestoreV2_3 = RestoreV2[dtypes=[DT_FLOAT], _device=\"/job:localhost/replica:0/task:0/cpu:0\"](_recv_save/Const_0, save/RestoreV2_3/tensor_names, save/RestoreV2_3/shape_and_slices)]]\n\t [[Node: save/RestoreV2_7/_21 = _Recv[client_terminated=false, recv_device=\"/job:localhost/replica:0/task:0/gpu:0\", send_device=\"/job:localhost/replica:0/task:0/cpu:0\", send_device_incarnation=1, tensor_name=\"edge_82_save/RestoreV2_7\", tensor_type=DT_FLOAT, _device=\"/job:localhost/replica:0/task:0/gpu:0\"]()]]\n",
     "output_type": "error",
     "traceback": [
      "\u001b[0;31m---------------------------------------------------------------------------\u001b[0m",
      "\u001b[0;31mNotFoundError\u001b[0m                             Traceback (most recent call last)",
      "\u001b[0;32m/home/kanamori-kazuki/.pyenv/versions/anaconda3-4.3.1/envs/dlnd/lib/python3.6/site-packages/tensorflow/python/client/session.py\u001b[0m in \u001b[0;36m_do_call\u001b[0;34m(self, fn, *args)\u001b[0m\n\u001b[1;32m   1021\u001b[0m     \u001b[0;32mtry\u001b[0m\u001b[0;34m:\u001b[0m\u001b[0;34m\u001b[0m\u001b[0m\n\u001b[0;32m-> 1022\u001b[0;31m       \u001b[0;32mreturn\u001b[0m \u001b[0mfn\u001b[0m\u001b[0;34m(\u001b[0m\u001b[0;34m*\u001b[0m\u001b[0margs\u001b[0m\u001b[0;34m)\u001b[0m\u001b[0;34m\u001b[0m\u001b[0m\n\u001b[0m\u001b[1;32m   1023\u001b[0m     \u001b[0;32mexcept\u001b[0m \u001b[0merrors\u001b[0m\u001b[0;34m.\u001b[0m\u001b[0mOpError\u001b[0m \u001b[0;32mas\u001b[0m \u001b[0me\u001b[0m\u001b[0;34m:\u001b[0m\u001b[0;34m\u001b[0m\u001b[0m\n",
      "\u001b[0;32m/home/kanamori-kazuki/.pyenv/versions/anaconda3-4.3.1/envs/dlnd/lib/python3.6/site-packages/tensorflow/python/client/session.py\u001b[0m in \u001b[0;36m_run_fn\u001b[0;34m(session, feed_dict, fetch_list, target_list, options, run_metadata)\u001b[0m\n\u001b[1;32m   1003\u001b[0m                                  \u001b[0mfeed_dict\u001b[0m\u001b[0;34m,\u001b[0m \u001b[0mfetch_list\u001b[0m\u001b[0;34m,\u001b[0m \u001b[0mtarget_list\u001b[0m\u001b[0;34m,\u001b[0m\u001b[0;34m\u001b[0m\u001b[0m\n\u001b[0;32m-> 1004\u001b[0;31m                                  status, run_metadata)\n\u001b[0m\u001b[1;32m   1005\u001b[0m \u001b[0;34m\u001b[0m\u001b[0m\n",
      "\u001b[0;32m/home/kanamori-kazuki/.pyenv/versions/anaconda3-4.3.1/envs/dlnd/lib/python3.6/contextlib.py\u001b[0m in \u001b[0;36m__exit__\u001b[0;34m(self, type, value, traceback)\u001b[0m\n\u001b[1;32m     88\u001b[0m             \u001b[0;32mtry\u001b[0m\u001b[0;34m:\u001b[0m\u001b[0;34m\u001b[0m\u001b[0m\n\u001b[0;32m---> 89\u001b[0;31m                 \u001b[0mnext\u001b[0m\u001b[0;34m(\u001b[0m\u001b[0mself\u001b[0m\u001b[0;34m.\u001b[0m\u001b[0mgen\u001b[0m\u001b[0;34m)\u001b[0m\u001b[0;34m\u001b[0m\u001b[0m\n\u001b[0m\u001b[1;32m     90\u001b[0m             \u001b[0;32mexcept\u001b[0m \u001b[0mStopIteration\u001b[0m\u001b[0;34m:\u001b[0m\u001b[0;34m\u001b[0m\u001b[0m\n",
      "\u001b[0;32m/home/kanamori-kazuki/.pyenv/versions/anaconda3-4.3.1/envs/dlnd/lib/python3.6/site-packages/tensorflow/python/framework/errors_impl.py\u001b[0m in \u001b[0;36mraise_exception_on_not_ok_status\u001b[0;34m()\u001b[0m\n\u001b[1;32m    465\u001b[0m           \u001b[0mcompat\u001b[0m\u001b[0;34m.\u001b[0m\u001b[0mas_text\u001b[0m\u001b[0;34m(\u001b[0m\u001b[0mpywrap_tensorflow\u001b[0m\u001b[0;34m.\u001b[0m\u001b[0mTF_Message\u001b[0m\u001b[0;34m(\u001b[0m\u001b[0mstatus\u001b[0m\u001b[0;34m)\u001b[0m\u001b[0;34m)\u001b[0m\u001b[0;34m,\u001b[0m\u001b[0;34m\u001b[0m\u001b[0m\n\u001b[0;32m--> 466\u001b[0;31m           pywrap_tensorflow.TF_GetCode(status))\n\u001b[0m\u001b[1;32m    467\u001b[0m   \u001b[0;32mfinally\u001b[0m\u001b[0;34m:\u001b[0m\u001b[0;34m\u001b[0m\u001b[0m\n",
      "\u001b[0;31mNotFoundError\u001b[0m: Unsuccessful TensorSliceReader constructor: Failed to find any matching files for checkpoints/i600_l512.ckpt\n\t [[Node: save/RestoreV2_3 = RestoreV2[dtypes=[DT_FLOAT], _device=\"/job:localhost/replica:0/task:0/cpu:0\"](_recv_save/Const_0, save/RestoreV2_3/tensor_names, save/RestoreV2_3/shape_and_slices)]]\n\t [[Node: save/RestoreV2_7/_21 = _Recv[client_terminated=false, recv_device=\"/job:localhost/replica:0/task:0/gpu:0\", send_device=\"/job:localhost/replica:0/task:0/cpu:0\", send_device_incarnation=1, tensor_name=\"edge_82_save/RestoreV2_7\", tensor_type=DT_FLOAT, _device=\"/job:localhost/replica:0/task:0/gpu:0\"]()]]",
      "\nDuring handling of the above exception, another exception occurred:\n",
      "\u001b[0;31mNotFoundError\u001b[0m                             Traceback (most recent call last)",
      "\u001b[0;32m<ipython-input-22-7c4e18bbddc1>\u001b[0m in \u001b[0;36m<module>\u001b[0;34m()\u001b[0m\n\u001b[1;32m      1\u001b[0m \u001b[0mcheckpoint\u001b[0m \u001b[0;34m=\u001b[0m \u001b[0;34m'checkpoints/i600_l512.ckpt'\u001b[0m\u001b[0;34m\u001b[0m\u001b[0m\n\u001b[0;32m----> 2\u001b[0;31m \u001b[0msamp\u001b[0m \u001b[0;34m=\u001b[0m \u001b[0msample\u001b[0m\u001b[0;34m(\u001b[0m\u001b[0mcheckpoint\u001b[0m\u001b[0;34m,\u001b[0m \u001b[0;36m1000\u001b[0m\u001b[0;34m,\u001b[0m \u001b[0mlstm_size\u001b[0m\u001b[0;34m,\u001b[0m \u001b[0mlen\u001b[0m\u001b[0;34m(\u001b[0m\u001b[0mvocab\u001b[0m\u001b[0;34m)\u001b[0m\u001b[0;34m,\u001b[0m \u001b[0mprime\u001b[0m\u001b[0;34m=\u001b[0m\u001b[0;34m\"Far\"\u001b[0m\u001b[0;34m)\u001b[0m\u001b[0;34m\u001b[0m\u001b[0m\n\u001b[0m\u001b[1;32m      3\u001b[0m \u001b[0mprint\u001b[0m\u001b[0;34m(\u001b[0m\u001b[0msamp\u001b[0m\u001b[0;34m)\u001b[0m\u001b[0;34m\u001b[0m\u001b[0m\n",
      "\u001b[0;32m<ipython-input-18-8eb787ae9642>\u001b[0m in \u001b[0;36msample\u001b[0;34m(checkpoint, n_samples, lstm_size, vocab_size, prime)\u001b[0m\n\u001b[1;32m      4\u001b[0m     \u001b[0msaver\u001b[0m \u001b[0;34m=\u001b[0m \u001b[0mtf\u001b[0m\u001b[0;34m.\u001b[0m\u001b[0mtrain\u001b[0m\u001b[0;34m.\u001b[0m\u001b[0mSaver\u001b[0m\u001b[0;34m(\u001b[0m\u001b[0;34m)\u001b[0m\u001b[0;34m\u001b[0m\u001b[0m\n\u001b[1;32m      5\u001b[0m     \u001b[0;32mwith\u001b[0m \u001b[0mtf\u001b[0m\u001b[0;34m.\u001b[0m\u001b[0mSession\u001b[0m\u001b[0;34m(\u001b[0m\u001b[0;34m)\u001b[0m \u001b[0;32mas\u001b[0m \u001b[0msess\u001b[0m\u001b[0;34m:\u001b[0m\u001b[0;34m\u001b[0m\u001b[0m\n\u001b[0;32m----> 6\u001b[0;31m         \u001b[0msaver\u001b[0m\u001b[0;34m.\u001b[0m\u001b[0mrestore\u001b[0m\u001b[0;34m(\u001b[0m\u001b[0msess\u001b[0m\u001b[0;34m,\u001b[0m \u001b[0mcheckpoint\u001b[0m\u001b[0;34m)\u001b[0m\u001b[0;34m\u001b[0m\u001b[0m\n\u001b[0m\u001b[1;32m      7\u001b[0m         \u001b[0mnew_state\u001b[0m \u001b[0;34m=\u001b[0m \u001b[0msess\u001b[0m\u001b[0;34m.\u001b[0m\u001b[0mrun\u001b[0m\u001b[0;34m(\u001b[0m\u001b[0mmodel\u001b[0m\u001b[0;34m.\u001b[0m\u001b[0minitial_state\u001b[0m\u001b[0;34m)\u001b[0m\u001b[0;34m\u001b[0m\u001b[0m\n\u001b[1;32m      8\u001b[0m         \u001b[0;32mfor\u001b[0m \u001b[0mc\u001b[0m \u001b[0;32min\u001b[0m \u001b[0mprime\u001b[0m\u001b[0;34m:\u001b[0m\u001b[0;34m\u001b[0m\u001b[0m\n",
      "\u001b[0;32m/home/kanamori-kazuki/.pyenv/versions/anaconda3-4.3.1/envs/dlnd/lib/python3.6/site-packages/tensorflow/python/training/saver.py\u001b[0m in \u001b[0;36mrestore\u001b[0;34m(self, sess, save_path)\u001b[0m\n\u001b[1;32m   1426\u001b[0m       \u001b[0;32mreturn\u001b[0m\u001b[0;34m\u001b[0m\u001b[0m\n\u001b[1;32m   1427\u001b[0m     sess.run(self.saver_def.restore_op_name,\n\u001b[0;32m-> 1428\u001b[0;31m              {self.saver_def.filename_tensor_name: save_path})\n\u001b[0m\u001b[1;32m   1429\u001b[0m \u001b[0;34m\u001b[0m\u001b[0m\n\u001b[1;32m   1430\u001b[0m   \u001b[0;34m@\u001b[0m\u001b[0mstaticmethod\u001b[0m\u001b[0;34m\u001b[0m\u001b[0m\n",
      "\u001b[0;32m/home/kanamori-kazuki/.pyenv/versions/anaconda3-4.3.1/envs/dlnd/lib/python3.6/site-packages/tensorflow/python/client/session.py\u001b[0m in \u001b[0;36mrun\u001b[0;34m(self, fetches, feed_dict, options, run_metadata)\u001b[0m\n\u001b[1;32m    765\u001b[0m     \u001b[0;32mtry\u001b[0m\u001b[0;34m:\u001b[0m\u001b[0;34m\u001b[0m\u001b[0m\n\u001b[1;32m    766\u001b[0m       result = self._run(None, fetches, feed_dict, options_ptr,\n\u001b[0;32m--> 767\u001b[0;31m                          run_metadata_ptr)\n\u001b[0m\u001b[1;32m    768\u001b[0m       \u001b[0;32mif\u001b[0m \u001b[0mrun_metadata\u001b[0m\u001b[0;34m:\u001b[0m\u001b[0;34m\u001b[0m\u001b[0m\n\u001b[1;32m    769\u001b[0m         \u001b[0mproto_data\u001b[0m \u001b[0;34m=\u001b[0m \u001b[0mtf_session\u001b[0m\u001b[0;34m.\u001b[0m\u001b[0mTF_GetBuffer\u001b[0m\u001b[0;34m(\u001b[0m\u001b[0mrun_metadata_ptr\u001b[0m\u001b[0;34m)\u001b[0m\u001b[0;34m\u001b[0m\u001b[0m\n",
      "\u001b[0;32m/home/kanamori-kazuki/.pyenv/versions/anaconda3-4.3.1/envs/dlnd/lib/python3.6/site-packages/tensorflow/python/client/session.py\u001b[0m in \u001b[0;36m_run\u001b[0;34m(self, handle, fetches, feed_dict, options, run_metadata)\u001b[0m\n\u001b[1;32m    963\u001b[0m     \u001b[0;32mif\u001b[0m \u001b[0mfinal_fetches\u001b[0m \u001b[0;32mor\u001b[0m \u001b[0mfinal_targets\u001b[0m\u001b[0;34m:\u001b[0m\u001b[0;34m\u001b[0m\u001b[0m\n\u001b[1;32m    964\u001b[0m       results = self._do_run(handle, final_targets, final_fetches,\n\u001b[0;32m--> 965\u001b[0;31m                              feed_dict_string, options, run_metadata)\n\u001b[0m\u001b[1;32m    966\u001b[0m     \u001b[0;32melse\u001b[0m\u001b[0;34m:\u001b[0m\u001b[0;34m\u001b[0m\u001b[0m\n\u001b[1;32m    967\u001b[0m       \u001b[0mresults\u001b[0m \u001b[0;34m=\u001b[0m \u001b[0;34m[\u001b[0m\u001b[0;34m]\u001b[0m\u001b[0;34m\u001b[0m\u001b[0m\n",
      "\u001b[0;32m/home/kanamori-kazuki/.pyenv/versions/anaconda3-4.3.1/envs/dlnd/lib/python3.6/site-packages/tensorflow/python/client/session.py\u001b[0m in \u001b[0;36m_do_run\u001b[0;34m(self, handle, target_list, fetch_list, feed_dict, options, run_metadata)\u001b[0m\n\u001b[1;32m   1013\u001b[0m     \u001b[0;32mif\u001b[0m \u001b[0mhandle\u001b[0m \u001b[0;32mis\u001b[0m \u001b[0;32mNone\u001b[0m\u001b[0;34m:\u001b[0m\u001b[0;34m\u001b[0m\u001b[0m\n\u001b[1;32m   1014\u001b[0m       return self._do_call(_run_fn, self._session, feed_dict, fetch_list,\n\u001b[0;32m-> 1015\u001b[0;31m                            target_list, options, run_metadata)\n\u001b[0m\u001b[1;32m   1016\u001b[0m     \u001b[0;32melse\u001b[0m\u001b[0;34m:\u001b[0m\u001b[0;34m\u001b[0m\u001b[0m\n\u001b[1;32m   1017\u001b[0m       return self._do_call(_prun_fn, self._session, handle, feed_dict,\n",
      "\u001b[0;32m/home/kanamori-kazuki/.pyenv/versions/anaconda3-4.3.1/envs/dlnd/lib/python3.6/site-packages/tensorflow/python/client/session.py\u001b[0m in \u001b[0;36m_do_call\u001b[0;34m(self, fn, *args)\u001b[0m\n\u001b[1;32m   1033\u001b[0m         \u001b[0;32mexcept\u001b[0m \u001b[0mKeyError\u001b[0m\u001b[0;34m:\u001b[0m\u001b[0;34m\u001b[0m\u001b[0m\n\u001b[1;32m   1034\u001b[0m           \u001b[0;32mpass\u001b[0m\u001b[0;34m\u001b[0m\u001b[0m\n\u001b[0;32m-> 1035\u001b[0;31m       \u001b[0;32mraise\u001b[0m \u001b[0mtype\u001b[0m\u001b[0;34m(\u001b[0m\u001b[0me\u001b[0m\u001b[0;34m)\u001b[0m\u001b[0;34m(\u001b[0m\u001b[0mnode_def\u001b[0m\u001b[0;34m,\u001b[0m \u001b[0mop\u001b[0m\u001b[0;34m,\u001b[0m \u001b[0mmessage\u001b[0m\u001b[0;34m)\u001b[0m\u001b[0;34m\u001b[0m\u001b[0m\n\u001b[0m\u001b[1;32m   1036\u001b[0m \u001b[0;34m\u001b[0m\u001b[0m\n\u001b[1;32m   1037\u001b[0m   \u001b[0;32mdef\u001b[0m \u001b[0m_extend_graph\u001b[0m\u001b[0;34m(\u001b[0m\u001b[0mself\u001b[0m\u001b[0;34m)\u001b[0m\u001b[0;34m:\u001b[0m\u001b[0;34m\u001b[0m\u001b[0m\n",
      "\u001b[0;31mNotFoundError\u001b[0m: Unsuccessful TensorSliceReader constructor: Failed to find any matching files for checkpoints/i600_l512.ckpt\n\t [[Node: save/RestoreV2_3 = RestoreV2[dtypes=[DT_FLOAT], _device=\"/job:localhost/replica:0/task:0/cpu:0\"](_recv_save/Const_0, save/RestoreV2_3/tensor_names, save/RestoreV2_3/shape_and_slices)]]\n\t [[Node: save/RestoreV2_7/_21 = _Recv[client_terminated=false, recv_device=\"/job:localhost/replica:0/task:0/gpu:0\", send_device=\"/job:localhost/replica:0/task:0/cpu:0\", send_device_incarnation=1, tensor_name=\"edge_82_save/RestoreV2_7\", tensor_type=DT_FLOAT, _device=\"/job:localhost/replica:0/task:0/gpu:0\"]()]]\n\nCaused by op 'save/RestoreV2_3', defined at:\n  File \"/home/kanamori-kazuki/.pyenv/versions/anaconda3-4.3.1/envs/dlnd/lib/python3.6/runpy.py\", line 193, in _run_module_as_main\n    \"__main__\", mod_spec)\n  File \"/home/kanamori-kazuki/.pyenv/versions/anaconda3-4.3.1/envs/dlnd/lib/python3.6/runpy.py\", line 85, in _run_code\n    exec(code, run_globals)\n  File \"/home/kanamori-kazuki/.pyenv/versions/anaconda3-4.3.1/envs/dlnd/lib/python3.6/site-packages/ipykernel_launcher.py\", line 16, in <module>\n    app.launch_new_instance()\n  File \"/home/kanamori-kazuki/.pyenv/versions/anaconda3-4.3.1/envs/dlnd/lib/python3.6/site-packages/traitlets/config/application.py\", line 658, in launch_instance\n    app.start()\n  File \"/home/kanamori-kazuki/.pyenv/versions/anaconda3-4.3.1/envs/dlnd/lib/python3.6/site-packages/ipykernel/kernelapp.py\", line 477, in start\n    ioloop.IOLoop.instance().start()\n  File \"/home/kanamori-kazuki/.pyenv/versions/anaconda3-4.3.1/envs/dlnd/lib/python3.6/site-packages/zmq/eventloop/ioloop.py\", line 177, in start\n    super(ZMQIOLoop, self).start()\n  File \"/home/kanamori-kazuki/.pyenv/versions/anaconda3-4.3.1/envs/dlnd/lib/python3.6/site-packages/tornado/ioloop.py\", line 888, in start\n    handler_func(fd_obj, events)\n  File \"/home/kanamori-kazuki/.pyenv/versions/anaconda3-4.3.1/envs/dlnd/lib/python3.6/site-packages/tornado/stack_context.py\", line 277, in null_wrapper\n    return fn(*args, **kwargs)\n  File \"/home/kanamori-kazuki/.pyenv/versions/anaconda3-4.3.1/envs/dlnd/lib/python3.6/site-packages/zmq/eventloop/zmqstream.py\", line 440, in _handle_events\n    self._handle_recv()\n  File \"/home/kanamori-kazuki/.pyenv/versions/anaconda3-4.3.1/envs/dlnd/lib/python3.6/site-packages/zmq/eventloop/zmqstream.py\", line 472, in _handle_recv\n    self._run_callback(callback, msg)\n  File \"/home/kanamori-kazuki/.pyenv/versions/anaconda3-4.3.1/envs/dlnd/lib/python3.6/site-packages/zmq/eventloop/zmqstream.py\", line 414, in _run_callback\n    callback(*args, **kwargs)\n  File \"/home/kanamori-kazuki/.pyenv/versions/anaconda3-4.3.1/envs/dlnd/lib/python3.6/site-packages/tornado/stack_context.py\", line 277, in null_wrapper\n    return fn(*args, **kwargs)\n  File \"/home/kanamori-kazuki/.pyenv/versions/anaconda3-4.3.1/envs/dlnd/lib/python3.6/site-packages/ipykernel/kernelbase.py\", line 283, in dispatcher\n    return self.dispatch_shell(stream, msg)\n  File \"/home/kanamori-kazuki/.pyenv/versions/anaconda3-4.3.1/envs/dlnd/lib/python3.6/site-packages/ipykernel/kernelbase.py\", line 235, in dispatch_shell\n    handler(stream, idents, msg)\n  File \"/home/kanamori-kazuki/.pyenv/versions/anaconda3-4.3.1/envs/dlnd/lib/python3.6/site-packages/ipykernel/kernelbase.py\", line 399, in execute_request\n    user_expressions, allow_stdin)\n  File \"/home/kanamori-kazuki/.pyenv/versions/anaconda3-4.3.1/envs/dlnd/lib/python3.6/site-packages/ipykernel/ipkernel.py\", line 196, in do_execute\n    res = shell.run_cell(code, store_history=store_history, silent=silent)\n  File \"/home/kanamori-kazuki/.pyenv/versions/anaconda3-4.3.1/envs/dlnd/lib/python3.6/site-packages/ipykernel/zmqshell.py\", line 533, in run_cell\n    return super(ZMQInteractiveShell, self).run_cell(*args, **kwargs)\n  File \"/home/kanamori-kazuki/.pyenv/versions/anaconda3-4.3.1/envs/dlnd/lib/python3.6/site-packages/IPython/core/interactiveshell.py\", line 2683, in run_cell\n    interactivity=interactivity, compiler=compiler, result=result)\n  File \"/home/kanamori-kazuki/.pyenv/versions/anaconda3-4.3.1/envs/dlnd/lib/python3.6/site-packages/IPython/core/interactiveshell.py\", line 2787, in run_ast_nodes\n    if self.run_code(code, result):\n  File \"/home/kanamori-kazuki/.pyenv/versions/anaconda3-4.3.1/envs/dlnd/lib/python3.6/site-packages/IPython/core/interactiveshell.py\", line 2847, in run_code\n    exec(code_obj, self.user_global_ns, self.user_ns)\n  File \"<ipython-input-22-7c4e18bbddc1>\", line 2, in <module>\n    samp = sample(checkpoint, 1000, lstm_size, len(vocab), prime=\"Far\")\n  File \"<ipython-input-18-8eb787ae9642>\", line 4, in sample\n    saver = tf.train.Saver()\n  File \"/home/kanamori-kazuki/.pyenv/versions/anaconda3-4.3.1/envs/dlnd/lib/python3.6/site-packages/tensorflow/python/training/saver.py\", line 1040, in __init__\n    self.build()\n  File \"/home/kanamori-kazuki/.pyenv/versions/anaconda3-4.3.1/envs/dlnd/lib/python3.6/site-packages/tensorflow/python/training/saver.py\", line 1070, in build\n    restore_sequentially=self._restore_sequentially)\n  File \"/home/kanamori-kazuki/.pyenv/versions/anaconda3-4.3.1/envs/dlnd/lib/python3.6/site-packages/tensorflow/python/training/saver.py\", line 675, in build\n    restore_sequentially, reshape)\n  File \"/home/kanamori-kazuki/.pyenv/versions/anaconda3-4.3.1/envs/dlnd/lib/python3.6/site-packages/tensorflow/python/training/saver.py\", line 402, in _AddRestoreOps\n    tensors = self.restore_op(filename_tensor, saveable, preferred_shard)\n  File \"/home/kanamori-kazuki/.pyenv/versions/anaconda3-4.3.1/envs/dlnd/lib/python3.6/site-packages/tensorflow/python/training/saver.py\", line 242, in restore_op\n    [spec.tensor.dtype])[0])\n  File \"/home/kanamori-kazuki/.pyenv/versions/anaconda3-4.3.1/envs/dlnd/lib/python3.6/site-packages/tensorflow/python/ops/gen_io_ops.py\", line 668, in restore_v2\n    dtypes=dtypes, name=name)\n  File \"/home/kanamori-kazuki/.pyenv/versions/anaconda3-4.3.1/envs/dlnd/lib/python3.6/site-packages/tensorflow/python/framework/op_def_library.py\", line 763, in apply_op\n    op_def=op_def)\n  File \"/home/kanamori-kazuki/.pyenv/versions/anaconda3-4.3.1/envs/dlnd/lib/python3.6/site-packages/tensorflow/python/framework/ops.py\", line 2327, in create_op\n    original_op=self._default_original_op, op_def=op_def)\n  File \"/home/kanamori-kazuki/.pyenv/versions/anaconda3-4.3.1/envs/dlnd/lib/python3.6/site-packages/tensorflow/python/framework/ops.py\", line 1226, in __init__\n    self._traceback = _extract_stack()\n\nNotFoundError (see above for traceback): Unsuccessful TensorSliceReader constructor: Failed to find any matching files for checkpoints/i600_l512.ckpt\n\t [[Node: save/RestoreV2_3 = RestoreV2[dtypes=[DT_FLOAT], _device=\"/job:localhost/replica:0/task:0/cpu:0\"](_recv_save/Const_0, save/RestoreV2_3/tensor_names, save/RestoreV2_3/shape_and_slices)]]\n\t [[Node: save/RestoreV2_7/_21 = _Recv[client_terminated=false, recv_device=\"/job:localhost/replica:0/task:0/gpu:0\", send_device=\"/job:localhost/replica:0/task:0/cpu:0\", send_device_incarnation=1, tensor_name=\"edge_82_save/RestoreV2_7\", tensor_type=DT_FLOAT, _device=\"/job:localhost/replica:0/task:0/gpu:0\"]()]]\n"
     ]
    }
   ],
   "source": [
    "checkpoint = 'checkpoints/i600_l512.ckpt'\n",
    "samp = sample(checkpoint, 1000, lstm_size, len(vocab), prime=\"Far\")\n",
    "print(samp)"
   ]
  },
  {
   "cell_type": "code",
   "execution_count": 23,
   "metadata": {},
   "outputs": [
    {
     "ename": "NotFoundError",
     "evalue": "Unsuccessful TensorSliceReader constructor: Failed to find any matching files for checkpoints/i1200_l512.ckpt\n\t [[Node: save/RestoreV2 = RestoreV2[dtypes=[DT_FLOAT], _device=\"/job:localhost/replica:0/task:0/cpu:0\"](_recv_save/Const_0, save/RestoreV2/tensor_names, save/RestoreV2/shape_and_slices)]]\n\t [[Node: save/RestoreV2_7/_21 = _Recv[client_terminated=false, recv_device=\"/job:localhost/replica:0/task:0/gpu:0\", send_device=\"/job:localhost/replica:0/task:0/cpu:0\", send_device_incarnation=1, tensor_name=\"edge_82_save/RestoreV2_7\", tensor_type=DT_FLOAT, _device=\"/job:localhost/replica:0/task:0/gpu:0\"]()]]\n\nCaused by op 'save/RestoreV2', defined at:\n  File \"/home/kanamori-kazuki/.pyenv/versions/anaconda3-4.3.1/envs/dlnd/lib/python3.6/runpy.py\", line 193, in _run_module_as_main\n    \"__main__\", mod_spec)\n  File \"/home/kanamori-kazuki/.pyenv/versions/anaconda3-4.3.1/envs/dlnd/lib/python3.6/runpy.py\", line 85, in _run_code\n    exec(code, run_globals)\n  File \"/home/kanamori-kazuki/.pyenv/versions/anaconda3-4.3.1/envs/dlnd/lib/python3.6/site-packages/ipykernel_launcher.py\", line 16, in <module>\n    app.launch_new_instance()\n  File \"/home/kanamori-kazuki/.pyenv/versions/anaconda3-4.3.1/envs/dlnd/lib/python3.6/site-packages/traitlets/config/application.py\", line 658, in launch_instance\n    app.start()\n  File \"/home/kanamori-kazuki/.pyenv/versions/anaconda3-4.3.1/envs/dlnd/lib/python3.6/site-packages/ipykernel/kernelapp.py\", line 477, in start\n    ioloop.IOLoop.instance().start()\n  File \"/home/kanamori-kazuki/.pyenv/versions/anaconda3-4.3.1/envs/dlnd/lib/python3.6/site-packages/zmq/eventloop/ioloop.py\", line 177, in start\n    super(ZMQIOLoop, self).start()\n  File \"/home/kanamori-kazuki/.pyenv/versions/anaconda3-4.3.1/envs/dlnd/lib/python3.6/site-packages/tornado/ioloop.py\", line 888, in start\n    handler_func(fd_obj, events)\n  File \"/home/kanamori-kazuki/.pyenv/versions/anaconda3-4.3.1/envs/dlnd/lib/python3.6/site-packages/tornado/stack_context.py\", line 277, in null_wrapper\n    return fn(*args, **kwargs)\n  File \"/home/kanamori-kazuki/.pyenv/versions/anaconda3-4.3.1/envs/dlnd/lib/python3.6/site-packages/zmq/eventloop/zmqstream.py\", line 440, in _handle_events\n    self._handle_recv()\n  File \"/home/kanamori-kazuki/.pyenv/versions/anaconda3-4.3.1/envs/dlnd/lib/python3.6/site-packages/zmq/eventloop/zmqstream.py\", line 472, in _handle_recv\n    self._run_callback(callback, msg)\n  File \"/home/kanamori-kazuki/.pyenv/versions/anaconda3-4.3.1/envs/dlnd/lib/python3.6/site-packages/zmq/eventloop/zmqstream.py\", line 414, in _run_callback\n    callback(*args, **kwargs)\n  File \"/home/kanamori-kazuki/.pyenv/versions/anaconda3-4.3.1/envs/dlnd/lib/python3.6/site-packages/tornado/stack_context.py\", line 277, in null_wrapper\n    return fn(*args, **kwargs)\n  File \"/home/kanamori-kazuki/.pyenv/versions/anaconda3-4.3.1/envs/dlnd/lib/python3.6/site-packages/ipykernel/kernelbase.py\", line 283, in dispatcher\n    return self.dispatch_shell(stream, msg)\n  File \"/home/kanamori-kazuki/.pyenv/versions/anaconda3-4.3.1/envs/dlnd/lib/python3.6/site-packages/ipykernel/kernelbase.py\", line 235, in dispatch_shell\n    handler(stream, idents, msg)\n  File \"/home/kanamori-kazuki/.pyenv/versions/anaconda3-4.3.1/envs/dlnd/lib/python3.6/site-packages/ipykernel/kernelbase.py\", line 399, in execute_request\n    user_expressions, allow_stdin)\n  File \"/home/kanamori-kazuki/.pyenv/versions/anaconda3-4.3.1/envs/dlnd/lib/python3.6/site-packages/ipykernel/ipkernel.py\", line 196, in do_execute\n    res = shell.run_cell(code, store_history=store_history, silent=silent)\n  File \"/home/kanamori-kazuki/.pyenv/versions/anaconda3-4.3.1/envs/dlnd/lib/python3.6/site-packages/ipykernel/zmqshell.py\", line 533, in run_cell\n    return super(ZMQInteractiveShell, self).run_cell(*args, **kwargs)\n  File \"/home/kanamori-kazuki/.pyenv/versions/anaconda3-4.3.1/envs/dlnd/lib/python3.6/site-packages/IPython/core/interactiveshell.py\", line 2683, in run_cell\n    interactivity=interactivity, compiler=compiler, result=result)\n  File \"/home/kanamori-kazuki/.pyenv/versions/anaconda3-4.3.1/envs/dlnd/lib/python3.6/site-packages/IPython/core/interactiveshell.py\", line 2787, in run_ast_nodes\n    if self.run_code(code, result):\n  File \"/home/kanamori-kazuki/.pyenv/versions/anaconda3-4.3.1/envs/dlnd/lib/python3.6/site-packages/IPython/core/interactiveshell.py\", line 2847, in run_code\n    exec(code_obj, self.user_global_ns, self.user_ns)\n  File \"<ipython-input-23-3e7aa01c7a19>\", line 2, in <module>\n    samp = sample(checkpoint, 1000, lstm_size, len(vocab), prime=\"Far\")\n  File \"<ipython-input-18-8eb787ae9642>\", line 4, in sample\n    saver = tf.train.Saver()\n  File \"/home/kanamori-kazuki/.pyenv/versions/anaconda3-4.3.1/envs/dlnd/lib/python3.6/site-packages/tensorflow/python/training/saver.py\", line 1040, in __init__\n    self.build()\n  File \"/home/kanamori-kazuki/.pyenv/versions/anaconda3-4.3.1/envs/dlnd/lib/python3.6/site-packages/tensorflow/python/training/saver.py\", line 1070, in build\n    restore_sequentially=self._restore_sequentially)\n  File \"/home/kanamori-kazuki/.pyenv/versions/anaconda3-4.3.1/envs/dlnd/lib/python3.6/site-packages/tensorflow/python/training/saver.py\", line 675, in build\n    restore_sequentially, reshape)\n  File \"/home/kanamori-kazuki/.pyenv/versions/anaconda3-4.3.1/envs/dlnd/lib/python3.6/site-packages/tensorflow/python/training/saver.py\", line 402, in _AddRestoreOps\n    tensors = self.restore_op(filename_tensor, saveable, preferred_shard)\n  File \"/home/kanamori-kazuki/.pyenv/versions/anaconda3-4.3.1/envs/dlnd/lib/python3.6/site-packages/tensorflow/python/training/saver.py\", line 242, in restore_op\n    [spec.tensor.dtype])[0])\n  File \"/home/kanamori-kazuki/.pyenv/versions/anaconda3-4.3.1/envs/dlnd/lib/python3.6/site-packages/tensorflow/python/ops/gen_io_ops.py\", line 668, in restore_v2\n    dtypes=dtypes, name=name)\n  File \"/home/kanamori-kazuki/.pyenv/versions/anaconda3-4.3.1/envs/dlnd/lib/python3.6/site-packages/tensorflow/python/framework/op_def_library.py\", line 763, in apply_op\n    op_def=op_def)\n  File \"/home/kanamori-kazuki/.pyenv/versions/anaconda3-4.3.1/envs/dlnd/lib/python3.6/site-packages/tensorflow/python/framework/ops.py\", line 2327, in create_op\n    original_op=self._default_original_op, op_def=op_def)\n  File \"/home/kanamori-kazuki/.pyenv/versions/anaconda3-4.3.1/envs/dlnd/lib/python3.6/site-packages/tensorflow/python/framework/ops.py\", line 1226, in __init__\n    self._traceback = _extract_stack()\n\nNotFoundError (see above for traceback): Unsuccessful TensorSliceReader constructor: Failed to find any matching files for checkpoints/i1200_l512.ckpt\n\t [[Node: save/RestoreV2 = RestoreV2[dtypes=[DT_FLOAT], _device=\"/job:localhost/replica:0/task:0/cpu:0\"](_recv_save/Const_0, save/RestoreV2/tensor_names, save/RestoreV2/shape_and_slices)]]\n\t [[Node: save/RestoreV2_7/_21 = _Recv[client_terminated=false, recv_device=\"/job:localhost/replica:0/task:0/gpu:0\", send_device=\"/job:localhost/replica:0/task:0/cpu:0\", send_device_incarnation=1, tensor_name=\"edge_82_save/RestoreV2_7\", tensor_type=DT_FLOAT, _device=\"/job:localhost/replica:0/task:0/gpu:0\"]()]]\n",
     "output_type": "error",
     "traceback": [
      "\u001b[0;31m---------------------------------------------------------------------------\u001b[0m",
      "\u001b[0;31mNotFoundError\u001b[0m                             Traceback (most recent call last)",
      "\u001b[0;32m/home/kanamori-kazuki/.pyenv/versions/anaconda3-4.3.1/envs/dlnd/lib/python3.6/site-packages/tensorflow/python/client/session.py\u001b[0m in \u001b[0;36m_do_call\u001b[0;34m(self, fn, *args)\u001b[0m\n\u001b[1;32m   1021\u001b[0m     \u001b[0;32mtry\u001b[0m\u001b[0;34m:\u001b[0m\u001b[0;34m\u001b[0m\u001b[0m\n\u001b[0;32m-> 1022\u001b[0;31m       \u001b[0;32mreturn\u001b[0m \u001b[0mfn\u001b[0m\u001b[0;34m(\u001b[0m\u001b[0;34m*\u001b[0m\u001b[0margs\u001b[0m\u001b[0;34m)\u001b[0m\u001b[0;34m\u001b[0m\u001b[0m\n\u001b[0m\u001b[1;32m   1023\u001b[0m     \u001b[0;32mexcept\u001b[0m \u001b[0merrors\u001b[0m\u001b[0;34m.\u001b[0m\u001b[0mOpError\u001b[0m \u001b[0;32mas\u001b[0m \u001b[0me\u001b[0m\u001b[0;34m:\u001b[0m\u001b[0;34m\u001b[0m\u001b[0m\n",
      "\u001b[0;32m/home/kanamori-kazuki/.pyenv/versions/anaconda3-4.3.1/envs/dlnd/lib/python3.6/site-packages/tensorflow/python/client/session.py\u001b[0m in \u001b[0;36m_run_fn\u001b[0;34m(session, feed_dict, fetch_list, target_list, options, run_metadata)\u001b[0m\n\u001b[1;32m   1003\u001b[0m                                  \u001b[0mfeed_dict\u001b[0m\u001b[0;34m,\u001b[0m \u001b[0mfetch_list\u001b[0m\u001b[0;34m,\u001b[0m \u001b[0mtarget_list\u001b[0m\u001b[0;34m,\u001b[0m\u001b[0;34m\u001b[0m\u001b[0m\n\u001b[0;32m-> 1004\u001b[0;31m                                  status, run_metadata)\n\u001b[0m\u001b[1;32m   1005\u001b[0m \u001b[0;34m\u001b[0m\u001b[0m\n",
      "\u001b[0;32m/home/kanamori-kazuki/.pyenv/versions/anaconda3-4.3.1/envs/dlnd/lib/python3.6/contextlib.py\u001b[0m in \u001b[0;36m__exit__\u001b[0;34m(self, type, value, traceback)\u001b[0m\n\u001b[1;32m     88\u001b[0m             \u001b[0;32mtry\u001b[0m\u001b[0;34m:\u001b[0m\u001b[0;34m\u001b[0m\u001b[0m\n\u001b[0;32m---> 89\u001b[0;31m                 \u001b[0mnext\u001b[0m\u001b[0;34m(\u001b[0m\u001b[0mself\u001b[0m\u001b[0;34m.\u001b[0m\u001b[0mgen\u001b[0m\u001b[0;34m)\u001b[0m\u001b[0;34m\u001b[0m\u001b[0m\n\u001b[0m\u001b[1;32m     90\u001b[0m             \u001b[0;32mexcept\u001b[0m \u001b[0mStopIteration\u001b[0m\u001b[0;34m:\u001b[0m\u001b[0;34m\u001b[0m\u001b[0m\n",
      "\u001b[0;32m/home/kanamori-kazuki/.pyenv/versions/anaconda3-4.3.1/envs/dlnd/lib/python3.6/site-packages/tensorflow/python/framework/errors_impl.py\u001b[0m in \u001b[0;36mraise_exception_on_not_ok_status\u001b[0;34m()\u001b[0m\n\u001b[1;32m    465\u001b[0m           \u001b[0mcompat\u001b[0m\u001b[0;34m.\u001b[0m\u001b[0mas_text\u001b[0m\u001b[0;34m(\u001b[0m\u001b[0mpywrap_tensorflow\u001b[0m\u001b[0;34m.\u001b[0m\u001b[0mTF_Message\u001b[0m\u001b[0;34m(\u001b[0m\u001b[0mstatus\u001b[0m\u001b[0;34m)\u001b[0m\u001b[0;34m)\u001b[0m\u001b[0;34m,\u001b[0m\u001b[0;34m\u001b[0m\u001b[0m\n\u001b[0;32m--> 466\u001b[0;31m           pywrap_tensorflow.TF_GetCode(status))\n\u001b[0m\u001b[1;32m    467\u001b[0m   \u001b[0;32mfinally\u001b[0m\u001b[0;34m:\u001b[0m\u001b[0;34m\u001b[0m\u001b[0m\n",
      "\u001b[0;31mNotFoundError\u001b[0m: Unsuccessful TensorSliceReader constructor: Failed to find any matching files for checkpoints/i1200_l512.ckpt\n\t [[Node: save/RestoreV2 = RestoreV2[dtypes=[DT_FLOAT], _device=\"/job:localhost/replica:0/task:0/cpu:0\"](_recv_save/Const_0, save/RestoreV2/tensor_names, save/RestoreV2/shape_and_slices)]]\n\t [[Node: save/RestoreV2_7/_21 = _Recv[client_terminated=false, recv_device=\"/job:localhost/replica:0/task:0/gpu:0\", send_device=\"/job:localhost/replica:0/task:0/cpu:0\", send_device_incarnation=1, tensor_name=\"edge_82_save/RestoreV2_7\", tensor_type=DT_FLOAT, _device=\"/job:localhost/replica:0/task:0/gpu:0\"]()]]",
      "\nDuring handling of the above exception, another exception occurred:\n",
      "\u001b[0;31mNotFoundError\u001b[0m                             Traceback (most recent call last)",
      "\u001b[0;32m<ipython-input-23-3e7aa01c7a19>\u001b[0m in \u001b[0;36m<module>\u001b[0;34m()\u001b[0m\n\u001b[1;32m      1\u001b[0m \u001b[0mcheckpoint\u001b[0m \u001b[0;34m=\u001b[0m \u001b[0;34m'checkpoints/i1200_l512.ckpt'\u001b[0m\u001b[0;34m\u001b[0m\u001b[0m\n\u001b[0;32m----> 2\u001b[0;31m \u001b[0msamp\u001b[0m \u001b[0;34m=\u001b[0m \u001b[0msample\u001b[0m\u001b[0;34m(\u001b[0m\u001b[0mcheckpoint\u001b[0m\u001b[0;34m,\u001b[0m \u001b[0;36m1000\u001b[0m\u001b[0;34m,\u001b[0m \u001b[0mlstm_size\u001b[0m\u001b[0;34m,\u001b[0m \u001b[0mlen\u001b[0m\u001b[0;34m(\u001b[0m\u001b[0mvocab\u001b[0m\u001b[0;34m)\u001b[0m\u001b[0;34m,\u001b[0m \u001b[0mprime\u001b[0m\u001b[0;34m=\u001b[0m\u001b[0;34m\"Far\"\u001b[0m\u001b[0;34m)\u001b[0m\u001b[0;34m\u001b[0m\u001b[0m\n\u001b[0m\u001b[1;32m      3\u001b[0m \u001b[0mprint\u001b[0m\u001b[0;34m(\u001b[0m\u001b[0msamp\u001b[0m\u001b[0;34m)\u001b[0m\u001b[0;34m\u001b[0m\u001b[0m\n",
      "\u001b[0;32m<ipython-input-18-8eb787ae9642>\u001b[0m in \u001b[0;36msample\u001b[0;34m(checkpoint, n_samples, lstm_size, vocab_size, prime)\u001b[0m\n\u001b[1;32m      4\u001b[0m     \u001b[0msaver\u001b[0m \u001b[0;34m=\u001b[0m \u001b[0mtf\u001b[0m\u001b[0;34m.\u001b[0m\u001b[0mtrain\u001b[0m\u001b[0;34m.\u001b[0m\u001b[0mSaver\u001b[0m\u001b[0;34m(\u001b[0m\u001b[0;34m)\u001b[0m\u001b[0;34m\u001b[0m\u001b[0m\n\u001b[1;32m      5\u001b[0m     \u001b[0;32mwith\u001b[0m \u001b[0mtf\u001b[0m\u001b[0;34m.\u001b[0m\u001b[0mSession\u001b[0m\u001b[0;34m(\u001b[0m\u001b[0;34m)\u001b[0m \u001b[0;32mas\u001b[0m \u001b[0msess\u001b[0m\u001b[0;34m:\u001b[0m\u001b[0;34m\u001b[0m\u001b[0m\n\u001b[0;32m----> 6\u001b[0;31m         \u001b[0msaver\u001b[0m\u001b[0;34m.\u001b[0m\u001b[0mrestore\u001b[0m\u001b[0;34m(\u001b[0m\u001b[0msess\u001b[0m\u001b[0;34m,\u001b[0m \u001b[0mcheckpoint\u001b[0m\u001b[0;34m)\u001b[0m\u001b[0;34m\u001b[0m\u001b[0m\n\u001b[0m\u001b[1;32m      7\u001b[0m         \u001b[0mnew_state\u001b[0m \u001b[0;34m=\u001b[0m \u001b[0msess\u001b[0m\u001b[0;34m.\u001b[0m\u001b[0mrun\u001b[0m\u001b[0;34m(\u001b[0m\u001b[0mmodel\u001b[0m\u001b[0;34m.\u001b[0m\u001b[0minitial_state\u001b[0m\u001b[0;34m)\u001b[0m\u001b[0;34m\u001b[0m\u001b[0m\n\u001b[1;32m      8\u001b[0m         \u001b[0;32mfor\u001b[0m \u001b[0mc\u001b[0m \u001b[0;32min\u001b[0m \u001b[0mprime\u001b[0m\u001b[0;34m:\u001b[0m\u001b[0;34m\u001b[0m\u001b[0m\n",
      "\u001b[0;32m/home/kanamori-kazuki/.pyenv/versions/anaconda3-4.3.1/envs/dlnd/lib/python3.6/site-packages/tensorflow/python/training/saver.py\u001b[0m in \u001b[0;36mrestore\u001b[0;34m(self, sess, save_path)\u001b[0m\n\u001b[1;32m   1426\u001b[0m       \u001b[0;32mreturn\u001b[0m\u001b[0;34m\u001b[0m\u001b[0m\n\u001b[1;32m   1427\u001b[0m     sess.run(self.saver_def.restore_op_name,\n\u001b[0;32m-> 1428\u001b[0;31m              {self.saver_def.filename_tensor_name: save_path})\n\u001b[0m\u001b[1;32m   1429\u001b[0m \u001b[0;34m\u001b[0m\u001b[0m\n\u001b[1;32m   1430\u001b[0m   \u001b[0;34m@\u001b[0m\u001b[0mstaticmethod\u001b[0m\u001b[0;34m\u001b[0m\u001b[0m\n",
      "\u001b[0;32m/home/kanamori-kazuki/.pyenv/versions/anaconda3-4.3.1/envs/dlnd/lib/python3.6/site-packages/tensorflow/python/client/session.py\u001b[0m in \u001b[0;36mrun\u001b[0;34m(self, fetches, feed_dict, options, run_metadata)\u001b[0m\n\u001b[1;32m    765\u001b[0m     \u001b[0;32mtry\u001b[0m\u001b[0;34m:\u001b[0m\u001b[0;34m\u001b[0m\u001b[0m\n\u001b[1;32m    766\u001b[0m       result = self._run(None, fetches, feed_dict, options_ptr,\n\u001b[0;32m--> 767\u001b[0;31m                          run_metadata_ptr)\n\u001b[0m\u001b[1;32m    768\u001b[0m       \u001b[0;32mif\u001b[0m \u001b[0mrun_metadata\u001b[0m\u001b[0;34m:\u001b[0m\u001b[0;34m\u001b[0m\u001b[0m\n\u001b[1;32m    769\u001b[0m         \u001b[0mproto_data\u001b[0m \u001b[0;34m=\u001b[0m \u001b[0mtf_session\u001b[0m\u001b[0;34m.\u001b[0m\u001b[0mTF_GetBuffer\u001b[0m\u001b[0;34m(\u001b[0m\u001b[0mrun_metadata_ptr\u001b[0m\u001b[0;34m)\u001b[0m\u001b[0;34m\u001b[0m\u001b[0m\n",
      "\u001b[0;32m/home/kanamori-kazuki/.pyenv/versions/anaconda3-4.3.1/envs/dlnd/lib/python3.6/site-packages/tensorflow/python/client/session.py\u001b[0m in \u001b[0;36m_run\u001b[0;34m(self, handle, fetches, feed_dict, options, run_metadata)\u001b[0m\n\u001b[1;32m    963\u001b[0m     \u001b[0;32mif\u001b[0m \u001b[0mfinal_fetches\u001b[0m \u001b[0;32mor\u001b[0m \u001b[0mfinal_targets\u001b[0m\u001b[0;34m:\u001b[0m\u001b[0;34m\u001b[0m\u001b[0m\n\u001b[1;32m    964\u001b[0m       results = self._do_run(handle, final_targets, final_fetches,\n\u001b[0;32m--> 965\u001b[0;31m                              feed_dict_string, options, run_metadata)\n\u001b[0m\u001b[1;32m    966\u001b[0m     \u001b[0;32melse\u001b[0m\u001b[0;34m:\u001b[0m\u001b[0;34m\u001b[0m\u001b[0m\n\u001b[1;32m    967\u001b[0m       \u001b[0mresults\u001b[0m \u001b[0;34m=\u001b[0m \u001b[0;34m[\u001b[0m\u001b[0;34m]\u001b[0m\u001b[0;34m\u001b[0m\u001b[0m\n",
      "\u001b[0;32m/home/kanamori-kazuki/.pyenv/versions/anaconda3-4.3.1/envs/dlnd/lib/python3.6/site-packages/tensorflow/python/client/session.py\u001b[0m in \u001b[0;36m_do_run\u001b[0;34m(self, handle, target_list, fetch_list, feed_dict, options, run_metadata)\u001b[0m\n\u001b[1;32m   1013\u001b[0m     \u001b[0;32mif\u001b[0m \u001b[0mhandle\u001b[0m \u001b[0;32mis\u001b[0m \u001b[0;32mNone\u001b[0m\u001b[0;34m:\u001b[0m\u001b[0;34m\u001b[0m\u001b[0m\n\u001b[1;32m   1014\u001b[0m       return self._do_call(_run_fn, self._session, feed_dict, fetch_list,\n\u001b[0;32m-> 1015\u001b[0;31m                            target_list, options, run_metadata)\n\u001b[0m\u001b[1;32m   1016\u001b[0m     \u001b[0;32melse\u001b[0m\u001b[0;34m:\u001b[0m\u001b[0;34m\u001b[0m\u001b[0m\n\u001b[1;32m   1017\u001b[0m       return self._do_call(_prun_fn, self._session, handle, feed_dict,\n",
      "\u001b[0;32m/home/kanamori-kazuki/.pyenv/versions/anaconda3-4.3.1/envs/dlnd/lib/python3.6/site-packages/tensorflow/python/client/session.py\u001b[0m in \u001b[0;36m_do_call\u001b[0;34m(self, fn, *args)\u001b[0m\n\u001b[1;32m   1033\u001b[0m         \u001b[0;32mexcept\u001b[0m \u001b[0mKeyError\u001b[0m\u001b[0;34m:\u001b[0m\u001b[0;34m\u001b[0m\u001b[0m\n\u001b[1;32m   1034\u001b[0m           \u001b[0;32mpass\u001b[0m\u001b[0;34m\u001b[0m\u001b[0m\n\u001b[0;32m-> 1035\u001b[0;31m       \u001b[0;32mraise\u001b[0m \u001b[0mtype\u001b[0m\u001b[0;34m(\u001b[0m\u001b[0me\u001b[0m\u001b[0;34m)\u001b[0m\u001b[0;34m(\u001b[0m\u001b[0mnode_def\u001b[0m\u001b[0;34m,\u001b[0m \u001b[0mop\u001b[0m\u001b[0;34m,\u001b[0m \u001b[0mmessage\u001b[0m\u001b[0;34m)\u001b[0m\u001b[0;34m\u001b[0m\u001b[0m\n\u001b[0m\u001b[1;32m   1036\u001b[0m \u001b[0;34m\u001b[0m\u001b[0m\n\u001b[1;32m   1037\u001b[0m   \u001b[0;32mdef\u001b[0m \u001b[0m_extend_graph\u001b[0m\u001b[0;34m(\u001b[0m\u001b[0mself\u001b[0m\u001b[0;34m)\u001b[0m\u001b[0;34m:\u001b[0m\u001b[0;34m\u001b[0m\u001b[0m\n",
      "\u001b[0;31mNotFoundError\u001b[0m: Unsuccessful TensorSliceReader constructor: Failed to find any matching files for checkpoints/i1200_l512.ckpt\n\t [[Node: save/RestoreV2 = RestoreV2[dtypes=[DT_FLOAT], _device=\"/job:localhost/replica:0/task:0/cpu:0\"](_recv_save/Const_0, save/RestoreV2/tensor_names, save/RestoreV2/shape_and_slices)]]\n\t [[Node: save/RestoreV2_7/_21 = _Recv[client_terminated=false, recv_device=\"/job:localhost/replica:0/task:0/gpu:0\", send_device=\"/job:localhost/replica:0/task:0/cpu:0\", send_device_incarnation=1, tensor_name=\"edge_82_save/RestoreV2_7\", tensor_type=DT_FLOAT, _device=\"/job:localhost/replica:0/task:0/gpu:0\"]()]]\n\nCaused by op 'save/RestoreV2', defined at:\n  File \"/home/kanamori-kazuki/.pyenv/versions/anaconda3-4.3.1/envs/dlnd/lib/python3.6/runpy.py\", line 193, in _run_module_as_main\n    \"__main__\", mod_spec)\n  File \"/home/kanamori-kazuki/.pyenv/versions/anaconda3-4.3.1/envs/dlnd/lib/python3.6/runpy.py\", line 85, in _run_code\n    exec(code, run_globals)\n  File \"/home/kanamori-kazuki/.pyenv/versions/anaconda3-4.3.1/envs/dlnd/lib/python3.6/site-packages/ipykernel_launcher.py\", line 16, in <module>\n    app.launch_new_instance()\n  File \"/home/kanamori-kazuki/.pyenv/versions/anaconda3-4.3.1/envs/dlnd/lib/python3.6/site-packages/traitlets/config/application.py\", line 658, in launch_instance\n    app.start()\n  File \"/home/kanamori-kazuki/.pyenv/versions/anaconda3-4.3.1/envs/dlnd/lib/python3.6/site-packages/ipykernel/kernelapp.py\", line 477, in start\n    ioloop.IOLoop.instance().start()\n  File \"/home/kanamori-kazuki/.pyenv/versions/anaconda3-4.3.1/envs/dlnd/lib/python3.6/site-packages/zmq/eventloop/ioloop.py\", line 177, in start\n    super(ZMQIOLoop, self).start()\n  File \"/home/kanamori-kazuki/.pyenv/versions/anaconda3-4.3.1/envs/dlnd/lib/python3.6/site-packages/tornado/ioloop.py\", line 888, in start\n    handler_func(fd_obj, events)\n  File \"/home/kanamori-kazuki/.pyenv/versions/anaconda3-4.3.1/envs/dlnd/lib/python3.6/site-packages/tornado/stack_context.py\", line 277, in null_wrapper\n    return fn(*args, **kwargs)\n  File \"/home/kanamori-kazuki/.pyenv/versions/anaconda3-4.3.1/envs/dlnd/lib/python3.6/site-packages/zmq/eventloop/zmqstream.py\", line 440, in _handle_events\n    self._handle_recv()\n  File \"/home/kanamori-kazuki/.pyenv/versions/anaconda3-4.3.1/envs/dlnd/lib/python3.6/site-packages/zmq/eventloop/zmqstream.py\", line 472, in _handle_recv\n    self._run_callback(callback, msg)\n  File \"/home/kanamori-kazuki/.pyenv/versions/anaconda3-4.3.1/envs/dlnd/lib/python3.6/site-packages/zmq/eventloop/zmqstream.py\", line 414, in _run_callback\n    callback(*args, **kwargs)\n  File \"/home/kanamori-kazuki/.pyenv/versions/anaconda3-4.3.1/envs/dlnd/lib/python3.6/site-packages/tornado/stack_context.py\", line 277, in null_wrapper\n    return fn(*args, **kwargs)\n  File \"/home/kanamori-kazuki/.pyenv/versions/anaconda3-4.3.1/envs/dlnd/lib/python3.6/site-packages/ipykernel/kernelbase.py\", line 283, in dispatcher\n    return self.dispatch_shell(stream, msg)\n  File \"/home/kanamori-kazuki/.pyenv/versions/anaconda3-4.3.1/envs/dlnd/lib/python3.6/site-packages/ipykernel/kernelbase.py\", line 235, in dispatch_shell\n    handler(stream, idents, msg)\n  File \"/home/kanamori-kazuki/.pyenv/versions/anaconda3-4.3.1/envs/dlnd/lib/python3.6/site-packages/ipykernel/kernelbase.py\", line 399, in execute_request\n    user_expressions, allow_stdin)\n  File \"/home/kanamori-kazuki/.pyenv/versions/anaconda3-4.3.1/envs/dlnd/lib/python3.6/site-packages/ipykernel/ipkernel.py\", line 196, in do_execute\n    res = shell.run_cell(code, store_history=store_history, silent=silent)\n  File \"/home/kanamori-kazuki/.pyenv/versions/anaconda3-4.3.1/envs/dlnd/lib/python3.6/site-packages/ipykernel/zmqshell.py\", line 533, in run_cell\n    return super(ZMQInteractiveShell, self).run_cell(*args, **kwargs)\n  File \"/home/kanamori-kazuki/.pyenv/versions/anaconda3-4.3.1/envs/dlnd/lib/python3.6/site-packages/IPython/core/interactiveshell.py\", line 2683, in run_cell\n    interactivity=interactivity, compiler=compiler, result=result)\n  File \"/home/kanamori-kazuki/.pyenv/versions/anaconda3-4.3.1/envs/dlnd/lib/python3.6/site-packages/IPython/core/interactiveshell.py\", line 2787, in run_ast_nodes\n    if self.run_code(code, result):\n  File \"/home/kanamori-kazuki/.pyenv/versions/anaconda3-4.3.1/envs/dlnd/lib/python3.6/site-packages/IPython/core/interactiveshell.py\", line 2847, in run_code\n    exec(code_obj, self.user_global_ns, self.user_ns)\n  File \"<ipython-input-23-3e7aa01c7a19>\", line 2, in <module>\n    samp = sample(checkpoint, 1000, lstm_size, len(vocab), prime=\"Far\")\n  File \"<ipython-input-18-8eb787ae9642>\", line 4, in sample\n    saver = tf.train.Saver()\n  File \"/home/kanamori-kazuki/.pyenv/versions/anaconda3-4.3.1/envs/dlnd/lib/python3.6/site-packages/tensorflow/python/training/saver.py\", line 1040, in __init__\n    self.build()\n  File \"/home/kanamori-kazuki/.pyenv/versions/anaconda3-4.3.1/envs/dlnd/lib/python3.6/site-packages/tensorflow/python/training/saver.py\", line 1070, in build\n    restore_sequentially=self._restore_sequentially)\n  File \"/home/kanamori-kazuki/.pyenv/versions/anaconda3-4.3.1/envs/dlnd/lib/python3.6/site-packages/tensorflow/python/training/saver.py\", line 675, in build\n    restore_sequentially, reshape)\n  File \"/home/kanamori-kazuki/.pyenv/versions/anaconda3-4.3.1/envs/dlnd/lib/python3.6/site-packages/tensorflow/python/training/saver.py\", line 402, in _AddRestoreOps\n    tensors = self.restore_op(filename_tensor, saveable, preferred_shard)\n  File \"/home/kanamori-kazuki/.pyenv/versions/anaconda3-4.3.1/envs/dlnd/lib/python3.6/site-packages/tensorflow/python/training/saver.py\", line 242, in restore_op\n    [spec.tensor.dtype])[0])\n  File \"/home/kanamori-kazuki/.pyenv/versions/anaconda3-4.3.1/envs/dlnd/lib/python3.6/site-packages/tensorflow/python/ops/gen_io_ops.py\", line 668, in restore_v2\n    dtypes=dtypes, name=name)\n  File \"/home/kanamori-kazuki/.pyenv/versions/anaconda3-4.3.1/envs/dlnd/lib/python3.6/site-packages/tensorflow/python/framework/op_def_library.py\", line 763, in apply_op\n    op_def=op_def)\n  File \"/home/kanamori-kazuki/.pyenv/versions/anaconda3-4.3.1/envs/dlnd/lib/python3.6/site-packages/tensorflow/python/framework/ops.py\", line 2327, in create_op\n    original_op=self._default_original_op, op_def=op_def)\n  File \"/home/kanamori-kazuki/.pyenv/versions/anaconda3-4.3.1/envs/dlnd/lib/python3.6/site-packages/tensorflow/python/framework/ops.py\", line 1226, in __init__\n    self._traceback = _extract_stack()\n\nNotFoundError (see above for traceback): Unsuccessful TensorSliceReader constructor: Failed to find any matching files for checkpoints/i1200_l512.ckpt\n\t [[Node: save/RestoreV2 = RestoreV2[dtypes=[DT_FLOAT], _device=\"/job:localhost/replica:0/task:0/cpu:0\"](_recv_save/Const_0, save/RestoreV2/tensor_names, save/RestoreV2/shape_and_slices)]]\n\t [[Node: save/RestoreV2_7/_21 = _Recv[client_terminated=false, recv_device=\"/job:localhost/replica:0/task:0/gpu:0\", send_device=\"/job:localhost/replica:0/task:0/cpu:0\", send_device_incarnation=1, tensor_name=\"edge_82_save/RestoreV2_7\", tensor_type=DT_FLOAT, _device=\"/job:localhost/replica:0/task:0/gpu:0\"]()]]\n"
     ]
    }
   ],
   "source": [
    "checkpoint = 'checkpoints/i1200_l512.ckpt'\n",
    "samp = sample(checkpoint, 1000, lstm_size, len(vocab), prime=\"Far\")\n",
    "print(samp)"
   ]
  }
 ],
 "metadata": {
  "kernelspec": {
   "display_name": "Python 3",
   "language": "python",
   "name": "python3"
  },
  "language_info": {
   "codemirror_mode": {
    "name": "ipython",
    "version": 3
   },
   "file_extension": ".py",
   "mimetype": "text/x-python",
   "name": "python",
   "nbconvert_exporter": "python",
   "pygments_lexer": "ipython3",
   "version": "3.6.1"
  }
 },
 "nbformat": 4,
 "nbformat_minor": 2
}
