{
 "cells": [
  {
   "cell_type": "markdown",
   "metadata": {},
   "source": [
    "# Anna KaRNNa\n",
    "\n",
    "In this notebook, we'll build a character-wise RNN trained on Anna Karenina, one of my all-time favorite books. It'll be able to generate new text based on the text from the book.\n",
    "\n",
    "This network is based off of Andrej Karpathy's [post on RNNs](http://karpathy.github.io/2015/05/21/rnn-effectiveness/) and [implementation in Torch](https://github.com/karpathy/char-rnn). Also, some information [here at r2rt](http://r2rt.com/recurrent-neural-networks-in-tensorflow-ii.html) and from [Sherjil Ozair](https://github.com/sherjilozair/char-rnn-tensorflow) on GitHub. Below is the general architecture of the character-wise RNN.\n",
    "\n",
    "<img src=\"assets/charseq.jpeg\" width=\"500\">"
   ]
  },
  {
   "cell_type": "code",
   "execution_count": 1,
   "metadata": {
    "collapsed": true
   },
   "outputs": [],
   "source": [
    "import time\n",
    "from collections import namedtuple\n",
    "\n",
    "import numpy as np\n",
    "import tensorflow as tf"
   ]
  },
  {
   "cell_type": "markdown",
   "metadata": {},
   "source": [
    "First we'll load the text file and convert it into integers for our network to use. Here I'm creating a couple dictionaries to convert the characters to and from integers. Encoding the characters as integers makes it easier to use as input in the network."
   ]
  },
  {
   "cell_type": "code",
   "execution_count": 2,
   "metadata": {},
   "outputs": [],
   "source": [
    "with open('anna.txt', 'r') as f:\n",
    "    text=f.read()\n",
    "vocab = set(text)\n",
    "vocab_to_int = {c: i for i, c in enumerate(vocab)}\n",
    "int_to_vocab = dict(enumerate(vocab))\n",
    "encoded = np.array([vocab_to_int[c] for c in text], dtype=np.int32)"
   ]
  },
  {
   "cell_type": "markdown",
   "metadata": {},
   "source": [
    "Let's check out the first 100 characters, make sure everything is peachy. According to the [American Book Review](http://americanbookreview.org/100bestlines.asp), this is the 6th best first line of a book ever."
   ]
  },
  {
   "cell_type": "code",
   "execution_count": 3,
   "metadata": {},
   "outputs": [
    {
     "data": {
      "text/plain": [
       "'Chapter 1\\n\\n\\nHappy families are all alike; every unhappy family is unhappy in its own\\nway.\\n\\nEverythin'"
      ]
     },
     "execution_count": 3,
     "metadata": {},
     "output_type": "execute_result"
    }
   ],
   "source": [
    "text[:100]"
   ]
  },
  {
   "cell_type": "markdown",
   "metadata": {},
   "source": [
    "And we can see the characters encoded as integers."
   ]
  },
  {
   "cell_type": "code",
   "execution_count": 4,
   "metadata": {},
   "outputs": [
    {
     "data": {
      "text/plain": [
       "array([12, 26, 31, 14, 15, 20, 63, 40, 66, 60, 60, 60, 32, 31, 14, 14,  1,\n",
       "       40, 81, 31, 17, 58,  0, 58, 20, 24, 40, 31, 63, 20, 40, 31,  0,  0,\n",
       "       40, 31,  0, 58, 33, 20, 52, 40, 20, 68, 20, 63,  1, 40,  4, 55, 26,\n",
       "       31, 14, 14,  1, 40, 81, 31, 17, 58,  0,  1, 40, 58, 24, 40,  4, 55,\n",
       "       26, 31, 14, 14,  1, 40, 58, 55, 40, 58, 15, 24, 40, 65, 35, 55, 60,\n",
       "       35, 31,  1, 67, 60, 60,  6, 68, 20, 63,  1, 15, 26, 58, 55], dtype=int32)"
      ]
     },
     "execution_count": 4,
     "metadata": {},
     "output_type": "execute_result"
    }
   ],
   "source": [
    "encoded[:100]"
   ]
  },
  {
   "cell_type": "markdown",
   "metadata": {},
   "source": [
    "Since the network is working with individual characters, it's similar to a classification problem in which we are trying to predict the next character from the previous text.  Here's how many 'classes' our network has to pick from."
   ]
  },
  {
   "cell_type": "code",
   "execution_count": 5,
   "metadata": {},
   "outputs": [
    {
     "data": {
      "text/plain": [
       "83"
      ]
     },
     "execution_count": 5,
     "metadata": {},
     "output_type": "execute_result"
    }
   ],
   "source": [
    "len(vocab)"
   ]
  },
  {
   "cell_type": "markdown",
   "metadata": {},
   "source": [
    "## Making training mini-batches\n",
    "\n",
    "Here is where we'll make our mini-batches for training. Remember that we want our batches to be multiple sequences of some desired number of sequence steps. Considering a simple example, our batches would look like this:\n",
    "\n",
    "<img src=\"assets/sequence_batching@1x.png\" width=500px>\n",
    "\n",
    "\n",
    "<br>\n",
    "We have our text encoded as integers as one long array in `encoded`. Let's create a function that will give us an iterator for our batches. I like using [generator functions](https://jeffknupp.com/blog/2013/04/07/improve-your-python-yield-and-generators-explained/) to do this. Then we can pass `encoded` into this function and get our batch generator.\n",
    "\n",
    "The first thing we need to do is discard some of the text so we only have completely full batches. Each batch contains $N \\times M$ characters, where $N$ is the batch size (the number of sequences) and $M$ is the number of steps. Then, to get the number of batches we can make from some array `arr`, you divide the length of `arr` by the batch size. Once you know the number of batches and the batch size, you can get the total number of characters to keep.\n",
    "\n",
    "After that, we need to split `arr` into $N$ sequences. You can do this using `arr.reshape(size)` where `size` is a tuple containing the dimensions sizes of the reshaped array. We know we want $N$ sequences (`n_seqs` below), let's make that the size of the first dimension. For the second dimension, you can use `-1` as a placeholder in the size, it'll fill up the array with the appropriate data for you. After this, you should have an array that is $N \\times (M * K)$ where $K$ is the number of batches.\n",
    "\n",
    "Now that we have this array, we can iterate through it to get our batches. The idea is each batch is a $N \\times M$ window on the array. For each subsequent batch, the window moves over by `n_steps`. We also want to create both the input and target arrays. Remember that the targets are the inputs shifted over one character. You'll usually see the first input character used as the last target character, so something like this:\n",
    "```python\n",
    "y[:, :-1], y[:, -1] = x[:, 1:], x[:, 0]\n",
    "```\n",
    "where `x` is the input batch and `y` is the target batch.\n",
    "\n",
    "The way I like to do this window is use `range` to take steps of size `n_steps` from $0$ to `arr.shape[1]`, the total number of steps in each sequence. That way, the integers you get from `range` always point to the start of a batch, and each window is `n_steps` wide.\n",
    "\n",
    "> **Exercise:** Write the code for creating batches in the function below. The exercises in this notebook _will not be easy_. I've provided a notebook with solutions alongside this notebook. If you get stuck, checkout the solutions. The most important thing is that you don't copy and paste the code into here, **type out the solution code yourself.**"
   ]
  },
  {
   "cell_type": "code",
   "execution_count": 6,
   "metadata": {
    "collapsed": true
   },
   "outputs": [],
   "source": [
    "def get_batches(arr, n_seqs, n_steps):\n",
    "    '''Create a generator that returns batches of size\n",
    "       n_seqs x n_steps from arr.\n",
    "       \n",
    "       Arguments\n",
    "       ---------\n",
    "       arr: Array you want to make batches from\n",
    "       n_seqs: Batch size, the number of sequences per batch\n",
    "       n_steps: Number of sequence steps per batch\n",
    "    '''\n",
    "    # Get the batch size and number of batches we can make\n",
    "    batch_size = n_seqs * n_steps\n",
    "    n_batches = len(arr) // batch_size\n",
    "    \n",
    "    # Keep only enough characters to make full batches\n",
    "    arr = arr[0:batch_size * n_batches]\n",
    "    \n",
    "    # Reshape into n_seqs rows\n",
    "    arr = np.reshape(arr, (n_seqs, -1))\n",
    "    \n",
    "    for n in range(0, arr.shape[1], n_steps):\n",
    "        # The features\n",
    "        x = arr[:, n:n+n_steps]\n",
    "        # The targets, shifted by one\n",
    "        y = np.zeros((arr.shape[0], n_steps), dtype=np.int32)\n",
    "        y[:, :-1], y[:, -1] = x[:, 1:], x[:, 0]\n",
    "        yield x, y"
   ]
  },
  {
   "cell_type": "markdown",
   "metadata": {},
   "source": [
    "Now I'll make my data sets and we can check out what's going on here. Here I'm going to use a batch size of 10 and 50 sequence steps."
   ]
  },
  {
   "cell_type": "code",
   "execution_count": 7,
   "metadata": {},
   "outputs": [],
   "source": [
    "batches = get_batches(encoded, 10, 50)\n",
    "x, y = next(batches)"
   ]
  },
  {
   "cell_type": "code",
   "execution_count": 8,
   "metadata": {},
   "outputs": [
    {
     "name": "stdout",
     "output_type": "stream",
     "text": [
      "x\n",
      " [[12 26 31 14 15 20 63 40 66 60]\n",
      " [40 31 17 40 55 65 15 40 16 65]\n",
      " [68 58 55 67 60 60 34 78 20 24]\n",
      " [55 40 79  4 63 58 55 16 40 26]\n",
      " [40 58 15 40 58 24 61 40 24 58]\n",
      " [40 74 15 40 35 31 24 60 65 55]\n",
      " [26 20 55 40 18 65 17 20 40 81]\n",
      " [52 40 80  4 15 40 55 65 35 40]\n",
      " [15 40 58 24 55 48 15 67 40 11]\n",
      " [40 24 31 58 79 40 15 65 40 26]]\n",
      "\n",
      "y\n",
      " [[26 31 14 15 20 63 40 66 60 60]\n",
      " [31 17 40 55 65 15 40 16 65 58]\n",
      " [58 55 67 60 60 34 78 20 24 61]\n",
      " [40 79  4 63 58 55 16 40 26 58]\n",
      " [58 15 40 58 24 61 40 24 58 63]\n",
      " [74 15 40 35 31 24 60 65 55  0]\n",
      " [20 55 40 18 65 17 20 40 81 65]\n",
      " [40 80  4 15 40 55 65 35 40 24]\n",
      " [40 58 24 55 48 15 67 40 11 26]\n",
      " [24 31 58 79 40 15 65 40 26 20]]\n"
     ]
    }
   ],
   "source": [
    "print('x\\n', x[:10, :10])\n",
    "print('\\ny\\n', y[:10, :10])"
   ]
  },
  {
   "cell_type": "markdown",
   "metadata": {},
   "source": [
    "If you implemented `get_batches` correctly, the above output should look something like \n",
    "```\n",
    "x\n",
    " [[55 63 69 22  6 76 45  5 16 35]\n",
    " [ 5 69  1  5 12 52  6  5 56 52]\n",
    " [48 29 12 61 35 35  8 64 76 78]\n",
    " [12  5 24 39 45 29 12 56  5 63]\n",
    " [ 5 29  6  5 29 78 28  5 78 29]\n",
    " [ 5 13  6  5 36 69 78 35 52 12]\n",
    " [63 76 12  5 18 52  1 76  5 58]\n",
    " [34  5 73 39  6  5 12 52 36  5]\n",
    " [ 6  5 29 78 12 79  6 61  5 59]\n",
    " [ 5 78 69 29 24  5  6 52  5 63]]\n",
    "\n",
    "y\n",
    " [[63 69 22  6 76 45  5 16 35 35]\n",
    " [69  1  5 12 52  6  5 56 52 29]\n",
    " [29 12 61 35 35  8 64 76 78 28]\n",
    " [ 5 24 39 45 29 12 56  5 63 29]\n",
    " [29  6  5 29 78 28  5 78 29 45]\n",
    " [13  6  5 36 69 78 35 52 12 43]\n",
    " [76 12  5 18 52  1 76  5 58 52]\n",
    " [ 5 73 39  6  5 12 52 36  5 78]\n",
    " [ 5 29 78 12 79  6 61  5 59 63]\n",
    " [78 69 29 24  5  6 52  5 63 76]]\n",
    " ```\n",
    " although the exact numbers will be different. Check to make sure the data is shifted over one step for `y`."
   ]
  },
  {
   "cell_type": "markdown",
   "metadata": {},
   "source": [
    "## Building the model\n",
    "\n",
    "Below is where you'll build the network. We'll break it up into parts so it's easier to reason about each bit. Then we can connect them up into the whole network.\n",
    "\n",
    "<img src=\"assets/charRNN.png\" width=500px>\n",
    "\n",
    "\n",
    "### Inputs\n",
    "\n",
    "First off we'll create our input placeholders. As usual we need placeholders for the training data and the targets. We'll also create a placeholder for dropout layers called `keep_prob`. This will be a scalar, that is a 0-D tensor. To make a scalar, you create a placeholder without giving it a size.\n",
    "\n",
    "> **Exercise:** Create the input placeholders in the function below."
   ]
  },
  {
   "cell_type": "code",
   "execution_count": 92,
   "metadata": {
    "collapsed": true
   },
   "outputs": [],
   "source": [
    "def build_inputs(batch_size, num_steps):\n",
    "    ''' Define placeholders for inputs, targets, and dropout \n",
    "    \n",
    "        Arguments\n",
    "        ---------\n",
    "        batch_size: Batch size, number of sequences per batch\n",
    "        num_steps: Number of sequence steps in a batch\n",
    "        \n",
    "    '''\n",
    "    # Declare placeholders we'll feed into the graph\n",
    "    inputs = tf.placeholder(tf.int32, (batch_size, num_steps), name='inputs')\n",
    "    targets = tf.placeholder(tf.int32, (batch_size, num_steps), name='targets')\n",
    "    \n",
    "    # Keep probability placeholder for drop out layers\n",
    "    keep_prob = tf.placeholder(tf.float32, name='keep_prob')\n",
    "    \n",
    "    return inputs, targets, keep_prob"
   ]
  },
  {
   "cell_type": "markdown",
   "metadata": {},
   "source": [
    "### LSTM Cell\n",
    "\n",
    "Here we will create the LSTM cell we'll use in the hidden layer. We'll use this cell as a building block for the RNN. So we aren't actually defining the RNN here, just the type of cell we'll use in the hidden layer.\n",
    "\n",
    "We first create a basic LSTM cell with\n",
    "\n",
    "```python\n",
    "lstm = tf.contrib.rnn.BasicLSTMCell(num_units)\n",
    "```\n",
    "\n",
    "where `num_units` is the number of units in the hidden layers in the cell. Then we can add dropout by wrapping it with \n",
    "\n",
    "```python\n",
    "tf.contrib.rnn.DropoutWrapper(lstm, output_keep_prob=keep_prob)\n",
    "```\n",
    "You pass in a cell and it will automatically add dropout to the inputs or outputs. Finally, we can stack up the LSTM cells into layers with [`tf.contrib.rnn.MultiRNNCell`](https://www.tensorflow.org/versions/r1.0/api_docs/python/tf/contrib/rnn/MultiRNNCell). With this, you pass in a list of cells and it will send the output of one cell into the next cell. For example,\n",
    "\n",
    "```python\n",
    "tf.contrib.rnn.MultiRNNCell([cell]*num_layers)\n",
    "```\n",
    "\n",
    "This might look a little weird if you know Python well because this will create a list of the same `cell` object. However, TensorFlow will create different weight matrices for all `cell` objects. Even though this is actually multiple LSTM cells stacked on each other, you can treat the multiple layers as one cell.\n",
    "\n",
    "We also need to create an initial cell state of all zeros. This can be done like so\n",
    "\n",
    "```python\n",
    "initial_state = cell.zero_state(batch_size, tf.float32)\n",
    "```\n",
    "\n",
    "> **Exercise:** Below, implement the `build_lstm` function to create these LSTM cells and the initial state."
   ]
  },
  {
   "cell_type": "code",
   "execution_count": 121,
   "metadata": {
    "collapsed": true
   },
   "outputs": [],
   "source": [
    "def build_lstm(lstm_size, num_layers, batch_size, keep_prob):\n",
    "    ''' Build LSTM cell.\n",
    "    \n",
    "        Arguments\n",
    "        ---------\n",
    "        keep_prob: Scalar tensor (tf.placeholder) for the dropout keep probability\n",
    "        lstm_size: Size of the hidden layers in the LSTM cells\n",
    "        num_layers: Number of LSTM layers\n",
    "        batch_size: Batch size\n",
    "\n",
    "    '''\n",
    "    ### Build the LSTM Cell\n",
    "    # Use a basic LSTM cell\n",
    "    # lstm = tf.contrib.rnn.BasicLSTMCell(lstm_size)\n",
    "    \n",
    "    # Add dropout to the cell outputs\n",
    "    # drop = tf.contrib.rnn.DropoutWrapper(lstm, output_keep_prob=keep_prob)\n",
    "    \n",
    "    # Stack up multiple LSTM layers, for deep learning\n",
    "    cell = tf.contrib.rnn.MultiRNNCell([tf.contrib.rnn.DropoutWrapper(tf.contrib.rnn.BasicLSTMCell(lstm_size), output_keep_prob=keep_prob) for _ in range(num_layers)])\n",
    "    initial_state = cell.zero_state(batch_size, tf.float32)\n",
    "    \n",
    "    return cell, initial_state"
   ]
  },
  {
   "cell_type": "markdown",
   "metadata": {},
   "source": [
    "### RNN Output\n",
    "\n",
    "Here we'll create the output layer. We need to connect the output of the RNN cells to a full connected layer with a softmax output. The softmax output gives us a probability distribution we can use to predict the next character, so we want this layer to have size $C$, the number of classes/characters we have in our text.\n",
    "\n",
    "If our input has batch size $N$, number of steps $M$, and the hidden layer has $L$ hidden units, then the output is a 3D tensor with size $N \\times M \\times L$. The output of each LSTM cell has size $L$, we have $M$ of them, one for each sequence step, and we have $N$ sequences. So the total size is $N \\times M \\times L$. \n",
    "\n",
    "We are using the same fully connected layer, the same weights, for each of the outputs. Then, to make things easier, we should reshape the outputs into a 2D tensor with shape $(M * N) \\times L$. That is, one row for each sequence and step, where the values of each row are the output from the LSTM cells. We get the LSTM output as a list, `lstm_output`. First we need to concatenate this whole list into one array with [`tf.concat`](https://www.tensorflow.org/api_docs/python/tf/concat). Then, reshape it (with `tf.reshape`) to size $(M * N) \\times L$.\n",
    "\n",
    "One we have the outputs reshaped, we can do the matrix multiplication with the weights. We need to wrap the weight and bias variables in a variable scope with `tf.variable_scope(scope_name)` because there are weights being created in the LSTM cells. TensorFlow will throw an error if the weights created here have the same names as the weights created in the LSTM cells, which they will be default. To avoid this, we wrap the variables in a variable scope so we can give them unique names.\n",
    "\n",
    "> **Exercise:** Implement the output layer in the function below."
   ]
  },
  {
   "cell_type": "code",
   "execution_count": 122,
   "metadata": {},
   "outputs": [],
   "source": [
    "def build_output(lstm_output, in_size, out_size):\n",
    "    ''' Build a softmax layer, return the softmax output and logits.\n",
    "    \n",
    "        Arguments\n",
    "        ---------\n",
    "        \n",
    "        lstm_output: List of output tensors from the LSTM layer\n",
    "        in_size: Size of the input tensor, for example, size of the LSTM cells\n",
    "        out_size: Size of this softmax layer\n",
    "    \n",
    "    '''\n",
    "\n",
    "    # Reshape output so it's a bunch of rows, one row for each step for each sequence.\n",
    "    # Concatenate lstm_output over axis 1 (the columns)\n",
    "    seq_output = tf.concat(lstm_output, axis=1)\n",
    "    # Reshape seq_output to a 2D tensor with lstm_size columns\n",
    "    x = tf.reshape(seq_output, [-1, in_size])\n",
    "    \n",
    "    # Connect the RNN outputs to a softmax layer\n",
    "    with tf.variable_scope('softmax'):\n",
    "        # Create the weight and bias variables here\n",
    "        softmax_w = tf.Variable(tf.truncated_normal((in_size, out_size), stddev=0.1), name='softmax_w')\n",
    "        softmax_b = tf.Variable(tf.zeros(out_size), name='softmax_b')\n",
    "    \n",
    "    # Since output is a bunch of rows of RNN cell outputs, logits will be a bunch\n",
    "    # of rows of logit outputs, one for each step and sequence\n",
    "    logits = tf.add(tf.matmul(x, softmax_w), softmax_b)\n",
    "    \n",
    "    # Use softmax to get the probabilities for predicted characters\n",
    "    out = tf.nn.softmax(logits, name='predictions')\n",
    "    \n",
    "    return out, logits"
   ]
  },
  {
   "cell_type": "markdown",
   "metadata": {},
   "source": [
    "### Training loss\n",
    "\n",
    "Next up is the training loss. We get the logits and targets and calculate the softmax cross-entropy loss. First we need to one-hot encode the targets, we're getting them as encoded characters. Then, reshape the one-hot targets so it's a 2D tensor with size $(M*N) \\times C$ where $C$ is the number of classes/characters we have. Remember that we reshaped the LSTM outputs and ran them through a fully connected layer with $C$ units. So our logits will also have size $(M*N) \\times C$.\n",
    "\n",
    "Then we run the logits and targets through `tf.nn.softmax_cross_entropy_with_logits` and find the mean to get the loss.\n",
    "\n",
    ">**Exercise:** Implement the loss calculation in the function below."
   ]
  },
  {
   "cell_type": "code",
   "execution_count": 123,
   "metadata": {
    "collapsed": true
   },
   "outputs": [],
   "source": [
    "def build_loss(logits, targets, lstm_size, num_classes):\n",
    "    ''' Calculate the loss from the logits and the targets.\n",
    "    \n",
    "        Arguments\n",
    "        ---------\n",
    "        logits: Logits from final fully connected layer\n",
    "        targets: Targets for supervised learning\n",
    "        lstm_size: Number of LSTM hidden units\n",
    "        num_classes: Number of classes in targets\n",
    "        \n",
    "    '''\n",
    "    \n",
    "    # One-hot encode targets and reshape to match logits, one row per sequence per step\n",
    "    y_one_hot = tf.one_hot(targets, num_classes, on_value=1., off_value=0.)\n",
    "    y_reshaped = tf.reshape(y_one_hot, logits.shape)\n",
    "    \n",
    "    # Softmax cross entropy loss\n",
    "    loss = tf.nn.softmax_cross_entropy_with_logits(labels=y_reshaped, logits=logits)\n",
    "    loss = tf.reduce_mean(loss)\n",
    "    \n",
    "    return loss"
   ]
  },
  {
   "cell_type": "markdown",
   "metadata": {},
   "source": [
    "### Optimizer\n",
    "\n",
    "Here we build the optimizer. Normal RNNs have have issues gradients exploding and disappearing. LSTMs fix the disappearance problem, but the gradients can still grow without bound. To fix this, we can clip the gradients above some threshold. That is, if a gradient is larger than that threshold, we set it to the threshold. This will ensure the gradients never grow overly large. Then we use an AdamOptimizer for the learning step."
   ]
  },
  {
   "cell_type": "code",
   "execution_count": 124,
   "metadata": {
    "collapsed": true
   },
   "outputs": [],
   "source": [
    "def build_optimizer(loss, learning_rate, grad_clip):\n",
    "    ''' Build optmizer for training, using gradient clipping.\n",
    "    \n",
    "        Arguments:\n",
    "        loss: Network loss\n",
    "        learning_rate: Learning rate for optimizer\n",
    "    \n",
    "    '''\n",
    "    \n",
    "    # Optimizer for training, using gradient clipping to control exploding gradients\n",
    "    tvars = tf.trainable_variables()\n",
    "    grads, _ = tf.clip_by_global_norm(tf.gradients(loss, tvars), grad_clip)\n",
    "    train_op = tf.train.AdamOptimizer(learning_rate)\n",
    "    optimizer = train_op.apply_gradients(zip(grads, tvars))\n",
    "    \n",
    "    return optimizer"
   ]
  },
  {
   "cell_type": "markdown",
   "metadata": {},
   "source": [
    "### Build the network\n",
    "\n",
    "Now we can put all the pieces together and build a class for the network. To actually run data through the LSTM cells, we will use [`tf.nn.dynamic_rnn`](https://www.tensorflow.org/versions/r1.0/api_docs/python/tf/nn/dynamic_rnn). This function will pass the hidden and cell states across LSTM cells appropriately for us. It returns the outputs for each LSTM cell at each step for each sequence in the mini-batch. It also gives us the final LSTM state. We want to save this state as `final_state` so we can pass it to the first LSTM cell in the the next mini-batch run. For `tf.nn.dynamic_rnn`, we pass in the cell and initial state we get from `build_lstm`, as well as our input sequences. Also, we need to one-hot encode the inputs before going into the RNN. \n",
    "\n",
    "> **Exercise:** Use the functions you've implemented previously and `tf.nn.dynamic_rnn` to build the network."
   ]
  },
  {
   "cell_type": "code",
   "execution_count": 125,
   "metadata": {
    "collapsed": true
   },
   "outputs": [],
   "source": [
    "class CharRNN:\n",
    "    \n",
    "    def __init__(self, num_classes, batch_size=64, num_steps=50, \n",
    "                       lstm_size=128, num_layers=2, learning_rate=0.001, \n",
    "                       grad_clip=5, sampling=False):\n",
    "    \n",
    "        # When we're using this network for sampling later, we'll be passing in\n",
    "        # one character at a time, so providing an option for that\n",
    "        if sampling == True:\n",
    "            batch_size, num_steps = 1, 1\n",
    "        else:\n",
    "            batch_size, num_steps = batch_size, num_steps\n",
    "\n",
    "        tf.reset_default_graph()\n",
    "        \n",
    "        # Build the input placeholder tensors\n",
    "        self.inputs, self.targets, self.keep_prob = build_inputs(batch_size, num_steps)\n",
    "\n",
    "        # Build the LSTM cell\n",
    "        cell, self.initial_state = build_lstm(lstm_size, num_layers, batch_size, self.keep_prob)\n",
    "\n",
    "        ### Run the data through the RNN layers\n",
    "        # First, one-hot encode the input tokens\n",
    "        x_one_hot = tf.one_hot(self.inputs, num_classes)\n",
    "        \n",
    "        # Run each sequence step through the RNN with tf.nn.dynamic_rnn \n",
    "        outputs, state = tf.nn.dynamic_rnn(cell, x_one_hot, initial_state=self.initial_state)\n",
    "        self.final_state = state\n",
    "        \n",
    "        # Get softmax predictions and logits\n",
    "        self.prediction, self.logits = build_output(outputs, lstm_size, num_classes)\n",
    "        \n",
    "        # Loss and optimizer (with gradient clipping)\n",
    "        self.loss = build_loss(self.logits, self.targets, lstm_size, num_classes)\n",
    "        self.optimizer = build_optimizer(self.loss, learning_rate, grad_clip)"
   ]
  },
  {
   "cell_type": "markdown",
   "metadata": {},
   "source": [
    "## Hyperparameters\n",
    "\n",
    "Here are the hyperparameters for the network.\n",
    "\n",
    "* `batch_size` - Number of sequences running through the network in one pass.\n",
    "* `num_steps` - Number of characters in the sequence the network is trained on. Larger is better typically, the network will learn more long range dependencies. But it takes longer to train. 100 is typically a good number here.\n",
    "* `lstm_size` - The number of units in the hidden layers.\n",
    "* `num_layers` - Number of hidden LSTM layers to use\n",
    "* `learning_rate` - Learning rate for training\n",
    "* `keep_prob` - The dropout keep probability when training. If you're network is overfitting, try decreasing this.\n",
    "\n",
    "Here's some good advice from Andrej Karpathy on training the network. I'm going to copy it in here for your benefit, but also link to [where it originally came from](https://github.com/karpathy/char-rnn#tips-and-tricks).\n",
    "\n",
    "> ## Tips and Tricks\n",
    "\n",
    ">### Monitoring Validation Loss vs. Training Loss\n",
    ">If you're somewhat new to Machine Learning or Neural Networks it can take a bit of expertise to get good models. The most important quantity to keep track of is the difference between your training loss (printed during training) and the validation loss (printed once in a while when the RNN is run on the validation data (by default every 1000 iterations)). In particular:\n",
    "\n",
    "> - If your training loss is much lower than validation loss then this means the network might be **overfitting**. Solutions to this are to decrease your network size, or to increase dropout. For example you could try dropout of 0.5 and so on.\n",
    "> - If your training/validation loss are about equal then your model is **underfitting**. Increase the size of your model (either number of layers or the raw number of neurons per layer)\n",
    "\n",
    "> ### Approximate number of parameters\n",
    "\n",
    "> The two most important parameters that control the model are `lstm_size` and `num_layers`. I would advise that you always use `num_layers` of either 2/3. The `lstm_size` can be adjusted based on how much data you have. The two important quantities to keep track of here are:\n",
    "\n",
    "> - The number of parameters in your model. This is printed when you start training.\n",
    "> - The size of your dataset. 1MB file is approximately 1 million characters.\n",
    "\n",
    ">These two should be about the same order of magnitude. It's a little tricky to tell. Here are some examples:\n",
    "\n",
    "> - I have a 100MB dataset and I'm using the default parameter settings (which currently print 150K parameters). My data size is significantly larger (100 mil >> 0.15 mil), so I expect to heavily underfit. I am thinking I can comfortably afford to make `lstm_size` larger.\n",
    "> - I have a 10MB dataset and running a 10 million parameter model. I'm slightly nervous and I'm carefully monitoring my validation loss. If it's larger than my training loss then I may want to try to increase dropout a bit and see if that helps the validation loss.\n",
    "\n",
    "> ### Best models strategy\n",
    "\n",
    ">The winning strategy to obtaining very good models (if you have the compute time) is to always err on making the network larger (as large as you're willing to wait for it to compute) and then try different dropout values (between 0,1). Whatever model has the best validation performance (the loss, written in the checkpoint filename, low is good) is the one you should use in the end.\n",
    "\n",
    ">It is very common in deep learning to run many different models with many different hyperparameter settings, and in the end take whatever checkpoint gave the best validation performance.\n",
    "\n",
    ">By the way, the size of your training and validation splits are also parameters. Make sure you have a decent amount of data in your validation set or otherwise the validation performance will be noisy and not very informative."
   ]
  },
  {
   "cell_type": "code",
   "execution_count": 134,
   "metadata": {
    "collapsed": true
   },
   "outputs": [],
   "source": [
    "batch_size = 10         # Sequences per batch\n",
    "num_steps = 100          # Number of sequence steps per batch\n",
    "lstm_size = 128         # Size of hidden layers in LSTMs\n",
    "num_layers = 2         # Number of LSTM layers\n",
    "learning_rate = 0.01    # Learning rate\n",
    "keep_prob = 0.5         # Dropout keep probability"
   ]
  },
  {
   "cell_type": "markdown",
   "metadata": {},
   "source": [
    "## Time for training\n",
    "\n",
    "This is typical training code, passing inputs and targets into the network, then running the optimizer. Here we also get back the final LSTM state for the mini-batch. Then, we pass that state back into the network so the next batch can continue the state from the previous batch. And every so often (set by `save_every_n`) I save a checkpoint.\n",
    "\n",
    "Here I'm saving checkpoints with the format\n",
    "\n",
    "`i{iteration number}_l{# hidden layer units}.ckpt`\n",
    "\n",
    "> **Exercise:** Set the hyperparameters above to train the network. Watch the training loss, it should be consistently dropping. Also, I highly advise running this on a GPU."
   ]
  },
  {
   "cell_type": "code",
   "execution_count": 135,
   "metadata": {
    "scrolled": false
   },
   "outputs": [
    {
     "name": "stdout",
     "output_type": "stream",
     "text": [
      "Epoch: 1/20...  Training Step: 1...  Training loss: 4.4226...  0.1781 sec/batch\n",
      "Epoch: 1/20...  Training Step: 2...  Training loss: 4.3319...  0.1515 sec/batch\n",
      "Epoch: 1/20...  Training Step: 3...  Training loss: 3.6329...  0.1676 sec/batch\n",
      "Epoch: 1/20...  Training Step: 4...  Training loss: 3.4832...  0.1510 sec/batch\n",
      "Epoch: 1/20...  Training Step: 5...  Training loss: 3.3479...  0.1661 sec/batch\n",
      "Epoch: 1/20...  Training Step: 6...  Training loss: 3.3016...  0.1511 sec/batch\n",
      "Epoch: 1/20...  Training Step: 7...  Training loss: 3.2469...  0.1598 sec/batch\n",
      "Epoch: 1/20...  Training Step: 8...  Training loss: 3.1779...  0.1510 sec/batch\n",
      "Epoch: 1/20...  Training Step: 9...  Training loss: 3.2522...  0.1577 sec/batch\n",
      "Epoch: 1/20...  Training Step: 10...  Training loss: 3.2257...  0.1511 sec/batch\n",
      "Epoch: 1/20...  Training Step: 11...  Training loss: 3.2731...  0.1612 sec/batch\n",
      "Epoch: 1/20...  Training Step: 12...  Training loss: 3.2172...  0.1500 sec/batch\n",
      "Epoch: 1/20...  Training Step: 13...  Training loss: 3.1584...  0.1605 sec/batch\n",
      "Epoch: 1/20...  Training Step: 14...  Training loss: 3.1485...  0.1509 sec/batch\n",
      "Epoch: 1/20...  Training Step: 15...  Training loss: 3.1861...  0.1577 sec/batch\n",
      "Epoch: 1/20...  Training Step: 16...  Training loss: 3.2198...  0.1531 sec/batch\n",
      "Epoch: 1/20...  Training Step: 17...  Training loss: 3.2458...  0.1604 sec/batch\n",
      "Epoch: 1/20...  Training Step: 18...  Training loss: 3.1867...  0.1510 sec/batch\n",
      "Epoch: 1/20...  Training Step: 19...  Training loss: 3.2344...  0.1612 sec/batch\n",
      "Epoch: 1/20...  Training Step: 20...  Training loss: 3.1186...  0.1518 sec/batch\n",
      "Epoch: 1/20...  Training Step: 21...  Training loss: 3.1758...  0.1581 sec/batch\n",
      "Epoch: 1/20...  Training Step: 22...  Training loss: 3.1568...  0.1565 sec/batch\n",
      "Epoch: 1/20...  Training Step: 23...  Training loss: 3.3480...  0.2271 sec/batch\n",
      "Epoch: 1/20...  Training Step: 24...  Training loss: 3.3581...  0.2244 sec/batch\n",
      "Epoch: 1/20...  Training Step: 25...  Training loss: 3.1774...  0.1570 sec/batch\n",
      "Epoch: 1/20...  Training Step: 26...  Training loss: 3.1182...  0.1766 sec/batch\n",
      "Epoch: 1/20...  Training Step: 27...  Training loss: 3.1580...  0.1633 sec/batch\n",
      "Epoch: 1/20...  Training Step: 28...  Training loss: 3.1191...  0.1675 sec/batch\n",
      "Epoch: 1/20...  Training Step: 29...  Training loss: 3.1216...  0.1622 sec/batch\n",
      "Epoch: 1/20...  Training Step: 30...  Training loss: 3.1059...  0.1648 sec/batch\n",
      "Epoch: 1/20...  Training Step: 31...  Training loss: 3.1570...  0.1551 sec/batch\n",
      "Epoch: 1/20...  Training Step: 32...  Training loss: 3.1066...  0.1642 sec/batch\n",
      "Epoch: 1/20...  Training Step: 33...  Training loss: 3.0957...  0.1701 sec/batch\n",
      "Epoch: 1/20...  Training Step: 34...  Training loss: 3.1361...  0.1590 sec/batch\n",
      "Epoch: 1/20...  Training Step: 35...  Training loss: 3.1083...  0.1699 sec/batch\n",
      "Epoch: 1/20...  Training Step: 36...  Training loss: 3.1319...  0.1869 sec/batch\n",
      "Epoch: 1/20...  Training Step: 37...  Training loss: 3.1063...  0.1524 sec/batch\n",
      "Epoch: 1/20...  Training Step: 38...  Training loss: 3.1273...  0.1581 sec/batch\n",
      "Epoch: 1/20...  Training Step: 39...  Training loss: 3.1289...  0.1574 sec/batch\n",
      "Epoch: 1/20...  Training Step: 40...  Training loss: 3.1186...  0.1748 sec/batch\n",
      "Epoch: 1/20...  Training Step: 41...  Training loss: 3.1736...  0.1725 sec/batch\n",
      "Epoch: 1/20...  Training Step: 42...  Training loss: 3.1043...  0.1841 sec/batch\n",
      "Epoch: 1/20...  Training Step: 43...  Training loss: 3.1210...  0.1736 sec/batch\n",
      "Epoch: 1/20...  Training Step: 44...  Training loss: 3.0514...  0.1636 sec/batch\n",
      "Epoch: 1/20...  Training Step: 45...  Training loss: 3.0610...  0.1724 sec/batch\n",
      "Epoch: 1/20...  Training Step: 46...  Training loss: 3.1319...  0.1899 sec/batch\n",
      "Epoch: 1/20...  Training Step: 47...  Training loss: 3.1434...  0.1623 sec/batch\n",
      "Epoch: 1/20...  Training Step: 48...  Training loss: 3.1147...  0.1580 sec/batch\n",
      "Epoch: 1/20...  Training Step: 49...  Training loss: 3.1360...  0.1582 sec/batch\n",
      "Epoch: 1/20...  Training Step: 50...  Training loss: 3.1029...  0.1689 sec/batch\n",
      "Epoch: 1/20...  Training Step: 51...  Training loss: 3.1008...  0.1673 sec/batch\n",
      "Epoch: 1/20...  Training Step: 52...  Training loss: 3.0599...  0.1608 sec/batch\n",
      "Epoch: 1/20...  Training Step: 53...  Training loss: 3.1871...  0.1905 sec/batch\n",
      "Epoch: 1/20...  Training Step: 54...  Training loss: 3.1268...  0.1832 sec/batch\n",
      "Epoch: 1/20...  Training Step: 55...  Training loss: 3.1225...  0.1829 sec/batch\n",
      "Epoch: 1/20...  Training Step: 56...  Training loss: 3.0867...  0.1810 sec/batch\n",
      "Epoch: 1/20...  Training Step: 57...  Training loss: 3.1066...  0.1853 sec/batch\n",
      "Epoch: 1/20...  Training Step: 58...  Training loss: 3.1503...  0.1604 sec/batch\n",
      "Epoch: 1/20...  Training Step: 59...  Training loss: 3.0591...  0.1580 sec/batch\n",
      "Epoch: 1/20...  Training Step: 60...  Training loss: 3.0655...  0.1634 sec/batch\n",
      "Epoch: 1/20...  Training Step: 61...  Training loss: 3.0894...  0.1842 sec/batch\n",
      "Epoch: 1/20...  Training Step: 62...  Training loss: 3.0617...  0.2031 sec/batch\n",
      "Epoch: 1/20...  Training Step: 63...  Training loss: 3.0619...  0.1616 sec/batch\n",
      "Epoch: 1/20...  Training Step: 64...  Training loss: 3.0451...  0.1632 sec/batch\n",
      "Epoch: 1/20...  Training Step: 65...  Training loss: 2.9998...  0.1624 sec/batch\n",
      "Epoch: 1/20...  Training Step: 66...  Training loss: 2.9946...  0.1919 sec/batch\n",
      "Epoch: 1/20...  Training Step: 67...  Training loss: 3.0231...  0.1587 sec/batch\n",
      "Epoch: 1/20...  Training Step: 68...  Training loss: 3.0481...  0.1641 sec/batch\n",
      "Epoch: 1/20...  Training Step: 69...  Training loss: 3.0650...  0.1573 sec/batch\n",
      "Epoch: 1/20...  Training Step: 70...  Training loss: 3.0386...  0.1651 sec/batch\n",
      "Epoch: 1/20...  Training Step: 71...  Training loss: 3.0278...  0.1676 sec/batch\n",
      "Epoch: 1/20...  Training Step: 72...  Training loss: 3.0317...  0.2177 sec/batch\n",
      "Epoch: 1/20...  Training Step: 73...  Training loss: 2.9566...  0.1513 sec/batch\n",
      "Epoch: 1/20...  Training Step: 74...  Training loss: 2.9741...  0.1711 sec/batch\n",
      "Epoch: 1/20...  Training Step: 75...  Training loss: 2.9772...  0.1939 sec/batch\n",
      "Epoch: 1/20...  Training Step: 76...  Training loss: 2.9807...  0.2334 sec/batch\n",
      "Epoch: 1/20...  Training Step: 77...  Training loss: 2.9702...  0.2384 sec/batch\n",
      "Epoch: 1/20...  Training Step: 78...  Training loss: 3.0044...  0.2031 sec/batch\n",
      "Epoch: 1/20...  Training Step: 79...  Training loss: 2.9031...  0.1598 sec/batch\n",
      "Epoch: 1/20...  Training Step: 80...  Training loss: 3.0102...  0.1656 sec/batch\n",
      "Epoch: 1/20...  Training Step: 81...  Training loss: 2.8940...  0.1584 sec/batch\n",
      "Epoch: 1/20...  Training Step: 82...  Training loss: 2.8693...  0.1709 sec/batch\n",
      "Epoch: 1/20...  Training Step: 83...  Training loss: 2.8933...  0.1571 sec/batch\n",
      "Epoch: 1/20...  Training Step: 84...  Training loss: 2.9590...  0.1593 sec/batch\n",
      "Epoch: 1/20...  Training Step: 85...  Training loss: 2.9926...  0.1572 sec/batch\n",
      "Epoch: 1/20...  Training Step: 86...  Training loss: 2.9027...  0.1842 sec/batch\n",
      "Epoch: 1/20...  Training Step: 87...  Training loss: 2.8859...  0.1701 sec/batch\n",
      "Epoch: 1/20...  Training Step: 88...  Training loss: 2.8723...  0.1860 sec/batch\n",
      "Epoch: 1/20...  Training Step: 89...  Training loss: 2.8389...  0.1722 sec/batch\n",
      "Epoch: 1/20...  Training Step: 90...  Training loss: 2.8788...  0.1826 sec/batch\n",
      "Epoch: 1/20...  Training Step: 91...  Training loss: 2.8032...  0.1646 sec/batch\n",
      "Epoch: 1/20...  Training Step: 92...  Training loss: 2.8258...  0.1651 sec/batch\n",
      "Epoch: 1/20...  Training Step: 93...  Training loss: 2.8362...  0.1521 sec/batch\n",
      "Epoch: 1/20...  Training Step: 94...  Training loss: 2.7574...  0.1600 sec/batch\n",
      "Epoch: 1/20...  Training Step: 95...  Training loss: 2.8567...  0.1500 sec/batch\n",
      "Epoch: 1/20...  Training Step: 96...  Training loss: 2.8106...  0.1665 sec/batch\n",
      "Epoch: 1/20...  Training Step: 97...  Training loss: 2.8367...  0.1562 sec/batch\n",
      "Epoch: 1/20...  Training Step: 98...  Training loss: 2.8650...  0.1695 sec/batch\n",
      "Epoch: 1/20...  Training Step: 99...  Training loss: 2.7659...  0.1650 sec/batch\n",
      "Epoch: 1/20...  Training Step: 100...  Training loss: 2.8865...  0.1770 sec/batch\n",
      "Epoch: 1/20...  Training Step: 101...  Training loss: 2.7549...  0.1646 sec/batch\n",
      "Epoch: 1/20...  Training Step: 102...  Training loss: 2.8209...  0.1724 sec/batch\n",
      "Epoch: 1/20...  Training Step: 103...  Training loss: 2.7259...  0.1642 sec/batch\n"
     ]
    },
    {
     "name": "stdout",
     "output_type": "stream",
     "text": [
      "Epoch: 1/20...  Training Step: 104...  Training loss: 2.7655...  0.1828 sec/batch\n",
      "Epoch: 1/20...  Training Step: 105...  Training loss: 2.6788...  0.1911 sec/batch\n",
      "Epoch: 1/20...  Training Step: 106...  Training loss: 2.7081...  0.2119 sec/batch\n",
      "Epoch: 1/20...  Training Step: 107...  Training loss: 2.7486...  0.1971 sec/batch\n",
      "Epoch: 1/20...  Training Step: 108...  Training loss: 2.6987...  0.2119 sec/batch\n",
      "Epoch: 1/20...  Training Step: 109...  Training loss: 2.7076...  0.2293 sec/batch\n",
      "Epoch: 1/20...  Training Step: 110...  Training loss: 2.6370...  0.2557 sec/batch\n",
      "Epoch: 1/20...  Training Step: 111...  Training loss: 2.7263...  0.2719 sec/batch\n",
      "Epoch: 1/20...  Training Step: 112...  Training loss: 2.6578...  0.2016 sec/batch\n",
      "Epoch: 1/20...  Training Step: 113...  Training loss: 2.7398...  0.1915 sec/batch\n",
      "Epoch: 1/20...  Training Step: 114...  Training loss: 2.7397...  0.1929 sec/batch\n",
      "Epoch: 1/20...  Training Step: 115...  Training loss: 2.6369...  0.1747 sec/batch\n",
      "Epoch: 1/20...  Training Step: 116...  Training loss: 2.5971...  0.1714 sec/batch\n",
      "Epoch: 1/20...  Training Step: 117...  Training loss: 2.6618...  0.1596 sec/batch\n",
      "Epoch: 1/20...  Training Step: 118...  Training loss: 2.7258...  0.1704 sec/batch\n",
      "Epoch: 1/20...  Training Step: 119...  Training loss: 2.6812...  0.1615 sec/batch\n",
      "Epoch: 1/20...  Training Step: 120...  Training loss: 2.5900...  0.1686 sec/batch\n",
      "Epoch: 1/20...  Training Step: 121...  Training loss: 2.6931...  0.1555 sec/batch\n",
      "Epoch: 1/20...  Training Step: 122...  Training loss: 2.7696...  0.1702 sec/batch\n",
      "Epoch: 1/20...  Training Step: 123...  Training loss: 2.6635...  0.1582 sec/batch\n",
      "Epoch: 1/20...  Training Step: 124...  Training loss: 2.5779...  0.1683 sec/batch\n",
      "Epoch: 1/20...  Training Step: 125...  Training loss: 2.6013...  0.1583 sec/batch\n",
      "Epoch: 1/20...  Training Step: 126...  Training loss: 2.6687...  0.1735 sec/batch\n",
      "Epoch: 1/20...  Training Step: 127...  Training loss: 2.5841...  0.1644 sec/batch\n",
      "Epoch: 1/20...  Training Step: 128...  Training loss: 2.6167...  0.1733 sec/batch\n",
      "Epoch: 1/20...  Training Step: 129...  Training loss: 2.6111...  0.1763 sec/batch\n",
      "Epoch: 1/20...  Training Step: 130...  Training loss: 2.5849...  0.2238 sec/batch\n",
      "Epoch: 1/20...  Training Step: 131...  Training loss: 2.5349...  0.1960 sec/batch\n",
      "Epoch: 1/20...  Training Step: 132...  Training loss: 2.5724...  0.1830 sec/batch\n",
      "Epoch: 1/20...  Training Step: 133...  Training loss: 2.5017...  0.1663 sec/batch\n",
      "Epoch: 1/20...  Training Step: 134...  Training loss: 2.5667...  0.2278 sec/batch\n",
      "Epoch: 1/20...  Training Step: 135...  Training loss: 2.5614...  0.3126 sec/batch\n",
      "Epoch: 1/20...  Training Step: 136...  Training loss: 2.5839...  0.2829 sec/batch\n",
      "Epoch: 1/20...  Training Step: 137...  Training loss: 2.6523...  0.1841 sec/batch\n",
      "Epoch: 1/20...  Training Step: 138...  Training loss: 2.5423...  0.2638 sec/batch\n",
      "Epoch: 1/20...  Training Step: 139...  Training loss: 2.6258...  0.2379 sec/batch\n",
      "Epoch: 1/20...  Training Step: 140...  Training loss: 2.4896...  0.2522 sec/batch\n",
      "Epoch: 1/20...  Training Step: 141...  Training loss: 2.5755...  0.1820 sec/batch\n",
      "Epoch: 1/20...  Training Step: 142...  Training loss: 2.5388...  0.1860 sec/batch\n",
      "Epoch: 1/20...  Training Step: 143...  Training loss: 2.4512...  0.1766 sec/batch\n",
      "Epoch: 1/20...  Training Step: 144...  Training loss: 2.5511...  0.1878 sec/batch\n",
      "Epoch: 1/20...  Training Step: 145...  Training loss: 2.4998...  0.1680 sec/batch\n",
      "Epoch: 1/20...  Training Step: 146...  Training loss: 2.4774...  0.1699 sec/batch\n",
      "Epoch: 1/20...  Training Step: 147...  Training loss: 2.5097...  0.1598 sec/batch\n",
      "Epoch: 1/20...  Training Step: 148...  Training loss: 2.5822...  0.1782 sec/batch\n",
      "Epoch: 1/20...  Training Step: 149...  Training loss: 2.4385...  0.1642 sec/batch\n",
      "Epoch: 1/20...  Training Step: 150...  Training loss: 2.4739...  0.1731 sec/batch\n",
      "Epoch: 1/20...  Training Step: 151...  Training loss: 2.5164...  0.1627 sec/batch\n",
      "Epoch: 1/20...  Training Step: 152...  Training loss: 2.4767...  0.1749 sec/batch\n",
      "Epoch: 1/20...  Training Step: 153...  Training loss: 2.4518...  0.1631 sec/batch\n",
      "Epoch: 1/20...  Training Step: 154...  Training loss: 2.5202...  0.1740 sec/batch\n",
      "Epoch: 1/20...  Training Step: 155...  Training loss: 2.4884...  0.1668 sec/batch\n",
      "Epoch: 1/20...  Training Step: 156...  Training loss: 2.4939...  0.2280 sec/batch\n",
      "Epoch: 1/20...  Training Step: 157...  Training loss: 2.4332...  0.2123 sec/batch\n",
      "Epoch: 1/20...  Training Step: 158...  Training loss: 2.4707...  0.2388 sec/batch\n",
      "Epoch: 1/20...  Training Step: 159...  Training loss: 2.5436...  0.1806 sec/batch\n",
      "Epoch: 1/20...  Training Step: 160...  Training loss: 2.4587...  0.1941 sec/batch\n",
      "Epoch: 1/20...  Training Step: 161...  Training loss: 2.4337...  0.1842 sec/batch\n",
      "Epoch: 1/20...  Training Step: 162...  Training loss: 2.4687...  0.1952 sec/batch\n",
      "Epoch: 1/20...  Training Step: 163...  Training loss: 2.4326...  0.1633 sec/batch\n",
      "Epoch: 1/20...  Training Step: 164...  Training loss: 2.4484...  0.1714 sec/batch\n",
      "Epoch: 1/20...  Training Step: 165...  Training loss: 2.5190...  0.1864 sec/batch\n",
      "Epoch: 1/20...  Training Step: 166...  Training loss: 2.4868...  0.2267 sec/batch\n",
      "Epoch: 1/20...  Training Step: 167...  Training loss: 2.4678...  0.2121 sec/batch\n",
      "Epoch: 1/20...  Training Step: 168...  Training loss: 2.5065...  0.2330 sec/batch\n",
      "Epoch: 1/20...  Training Step: 169...  Training loss: 2.4311...  0.1771 sec/batch\n",
      "Epoch: 1/20...  Training Step: 170...  Training loss: 2.4778...  0.1863 sec/batch\n",
      "Epoch: 1/20...  Training Step: 171...  Training loss: 2.5641...  0.1719 sec/batch\n",
      "Epoch: 1/20...  Training Step: 172...  Training loss: 2.5601...  0.1901 sec/batch\n",
      "Epoch: 1/20...  Training Step: 173...  Training loss: 2.4840...  0.1702 sec/batch\n",
      "Epoch: 1/20...  Training Step: 174...  Training loss: 2.4699...  0.1763 sec/batch\n",
      "Epoch: 1/20...  Training Step: 175...  Training loss: 2.4080...  0.1635 sec/batch\n",
      "Epoch: 1/20...  Training Step: 176...  Training loss: 2.4482...  0.1843 sec/batch\n",
      "Epoch: 1/20...  Training Step: 177...  Training loss: 2.5334...  0.2153 sec/batch\n",
      "Epoch: 1/20...  Training Step: 178...  Training loss: 2.4871...  0.1907 sec/batch\n",
      "Epoch: 1/20...  Training Step: 179...  Training loss: 2.4928...  0.1702 sec/batch\n",
      "Epoch: 1/20...  Training Step: 180...  Training loss: 2.4439...  0.1833 sec/batch\n",
      "Epoch: 1/20...  Training Step: 181...  Training loss: 2.4458...  0.2499 sec/batch\n",
      "Epoch: 1/20...  Training Step: 182...  Training loss: 2.5258...  0.2245 sec/batch\n",
      "Epoch: 1/20...  Training Step: 183...  Training loss: 2.4752...  0.2385 sec/batch\n",
      "Epoch: 1/20...  Training Step: 184...  Training loss: 2.4789...  0.1749 sec/batch\n",
      "Epoch: 1/20...  Training Step: 185...  Training loss: 2.3999...  0.1803 sec/batch\n",
      "Epoch: 1/20...  Training Step: 186...  Training loss: 2.4035...  0.1739 sec/batch\n",
      "Epoch: 1/20...  Training Step: 187...  Training loss: 2.3316...  0.1868 sec/batch\n",
      "Epoch: 1/20...  Training Step: 188...  Training loss: 2.4266...  0.1687 sec/batch\n",
      "Epoch: 1/20...  Training Step: 189...  Training loss: 2.4263...  0.1768 sec/batch\n",
      "Epoch: 1/20...  Training Step: 190...  Training loss: 2.3514...  0.1639 sec/batch\n",
      "Epoch: 1/20...  Training Step: 191...  Training loss: 2.3766...  0.1827 sec/batch\n",
      "Epoch: 1/20...  Training Step: 192...  Training loss: 2.5138...  0.1674 sec/batch\n",
      "Epoch: 1/20...  Training Step: 193...  Training loss: 2.4187...  0.1795 sec/batch\n",
      "Epoch: 1/20...  Training Step: 194...  Training loss: 2.4347...  0.1659 sec/batch\n",
      "Epoch: 1/20...  Training Step: 195...  Training loss: 2.3407...  0.1796 sec/batch\n",
      "Epoch: 1/20...  Training Step: 196...  Training loss: 2.3149...  0.1685 sec/batch\n",
      "Epoch: 1/20...  Training Step: 197...  Training loss: 2.4361...  0.1863 sec/batch\n",
      "Epoch: 1/20...  Training Step: 198...  Training loss: 2.3833...  0.2470 sec/batch\n",
      "Epoch: 1/20...  Training Step: 199...  Training loss: 2.4089...  0.1605 sec/batch\n",
      "Epoch: 1/20...  Training Step: 200...  Training loss: 2.3767...  0.1747 sec/batch\n",
      "Epoch: 1/20...  Training Step: 201...  Training loss: 2.3239...  0.1527 sec/batch\n",
      "Epoch: 1/20...  Training Step: 202...  Training loss: 2.3851...  0.1583 sec/batch\n",
      "Epoch: 1/20...  Training Step: 203...  Training loss: 2.3897...  0.1730 sec/batch\n",
      "Epoch: 1/20...  Training Step: 204...  Training loss: 2.4125...  0.1604 sec/batch\n"
     ]
    },
    {
     "name": "stdout",
     "output_type": "stream",
     "text": [
      "Epoch: 1/20...  Training Step: 205...  Training loss: 2.3658...  0.1729 sec/batch\n",
      "Epoch: 1/20...  Training Step: 206...  Training loss: 2.3632...  0.1622 sec/batch\n",
      "Epoch: 1/20...  Training Step: 207...  Training loss: 2.3734...  0.1772 sec/batch\n",
      "Epoch: 1/20...  Training Step: 208...  Training loss: 2.3070...  0.2091 sec/batch\n",
      "Epoch: 1/20...  Training Step: 209...  Training loss: 2.3399...  0.2454 sec/batch\n",
      "Epoch: 1/20...  Training Step: 210...  Training loss: 2.3290...  0.2388 sec/batch\n",
      "Epoch: 1/20...  Training Step: 211...  Training loss: 2.3420...  0.2401 sec/batch\n",
      "Epoch: 1/20...  Training Step: 212...  Training loss: 2.4076...  0.1950 sec/batch\n",
      "Epoch: 1/20...  Training Step: 213...  Training loss: 2.3276...  0.2332 sec/batch\n",
      "Epoch: 1/20...  Training Step: 214...  Training loss: 2.2905...  0.1697 sec/batch\n",
      "Epoch: 1/20...  Training Step: 215...  Training loss: 2.3129...  0.1875 sec/batch\n",
      "Epoch: 1/20...  Training Step: 216...  Training loss: 2.2521...  0.1642 sec/batch\n",
      "Epoch: 1/20...  Training Step: 217...  Training loss: 2.2908...  0.1738 sec/batch\n",
      "Epoch: 1/20...  Training Step: 218...  Training loss: 2.2751...  0.1653 sec/batch\n",
      "Epoch: 1/20...  Training Step: 219...  Training loss: 2.2741...  0.1861 sec/batch\n",
      "Epoch: 1/20...  Training Step: 220...  Training loss: 2.3469...  0.1675 sec/batch\n",
      "Epoch: 1/20...  Training Step: 221...  Training loss: 2.3378...  0.1765 sec/batch\n",
      "Epoch: 1/20...  Training Step: 222...  Training loss: 2.2748...  0.1647 sec/batch\n",
      "Epoch: 1/20...  Training Step: 223...  Training loss: 2.2685...  0.1767 sec/batch\n",
      "Epoch: 1/20...  Training Step: 224...  Training loss: 2.2849...  0.1653 sec/batch\n",
      "Epoch: 1/20...  Training Step: 225...  Training loss: 2.2993...  0.1738 sec/batch\n",
      "Epoch: 1/20...  Training Step: 226...  Training loss: 2.2782...  0.1619 sec/batch\n",
      "Epoch: 1/20...  Training Step: 227...  Training loss: 2.2756...  0.2464 sec/batch\n",
      "Epoch: 1/20...  Training Step: 228...  Training loss: 2.3203...  0.1582 sec/batch\n",
      "Epoch: 1/20...  Training Step: 229...  Training loss: 2.3823...  0.1737 sec/batch\n",
      "Epoch: 1/20...  Training Step: 230...  Training loss: 2.3701...  0.1627 sec/batch\n",
      "Epoch: 1/20...  Training Step: 231...  Training loss: 2.2849...  0.1755 sec/batch\n",
      "Epoch: 1/20...  Training Step: 232...  Training loss: 2.3018...  0.1650 sec/batch\n",
      "Epoch: 1/20...  Training Step: 233...  Training loss: 2.3400...  0.2332 sec/batch\n",
      "Epoch: 1/20...  Training Step: 234...  Training loss: 2.2133...  0.2220 sec/batch\n",
      "Epoch: 1/20...  Training Step: 235...  Training loss: 2.2263...  0.2351 sec/batch\n",
      "Epoch: 1/20...  Training Step: 236...  Training loss: 2.2494...  0.2146 sec/batch\n",
      "Epoch: 1/20...  Training Step: 237...  Training loss: 2.3191...  0.1722 sec/batch\n",
      "Epoch: 1/20...  Training Step: 238...  Training loss: 2.2674...  0.1856 sec/batch\n",
      "Epoch: 1/20...  Training Step: 239...  Training loss: 2.2396...  0.1755 sec/batch\n",
      "Epoch: 1/20...  Training Step: 240...  Training loss: 2.2573...  0.1923 sec/batch\n",
      "Epoch: 1/20...  Training Step: 241...  Training loss: 2.2741...  0.1655 sec/batch\n",
      "Epoch: 1/20...  Training Step: 242...  Training loss: 2.2829...  0.1801 sec/batch\n",
      "Epoch: 1/20...  Training Step: 243...  Training loss: 2.3484...  0.1662 sec/batch\n",
      "Epoch: 1/20...  Training Step: 244...  Training loss: 2.2802...  0.2133 sec/batch\n",
      "Epoch: 1/20...  Training Step: 245...  Training loss: 2.3448...  0.1854 sec/batch\n",
      "Epoch: 1/20...  Training Step: 246...  Training loss: 2.2924...  0.1753 sec/batch\n",
      "Epoch: 1/20...  Training Step: 247...  Training loss: 2.3953...  0.1664 sec/batch\n",
      "Epoch: 1/20...  Training Step: 248...  Training loss: 2.2359...  0.1896 sec/batch\n",
      "Epoch: 1/20...  Training Step: 249...  Training loss: 2.2271...  0.1749 sec/batch\n",
      "Epoch: 1/20...  Training Step: 250...  Training loss: 2.3204...  0.1820 sec/batch\n",
      "Epoch: 1/20...  Training Step: 251...  Training loss: 2.2600...  0.1653 sec/batch\n",
      "Epoch: 1/20...  Training Step: 252...  Training loss: 2.2447...  0.1837 sec/batch\n",
      "Epoch: 1/20...  Training Step: 253...  Training loss: 2.2393...  0.1668 sec/batch\n",
      "Epoch: 1/20...  Training Step: 254...  Training loss: 2.3239...  0.2460 sec/batch\n",
      "Epoch: 1/20...  Training Step: 255...  Training loss: 2.3086...  0.1628 sec/batch\n",
      "Epoch: 1/20...  Training Step: 256...  Training loss: 2.3745...  0.1737 sec/batch\n",
      "Epoch: 1/20...  Training Step: 257...  Training loss: 2.2750...  0.1653 sec/batch\n",
      "Epoch: 1/20...  Training Step: 258...  Training loss: 2.3306...  0.1846 sec/batch\n",
      "Epoch: 1/20...  Training Step: 259...  Training loss: 2.2953...  0.2031 sec/batch\n",
      "Epoch: 1/20...  Training Step: 260...  Training loss: 2.2814...  0.2167 sec/batch\n",
      "Epoch: 1/20...  Training Step: 261...  Training loss: 2.2215...  0.1715 sec/batch\n",
      "Epoch: 1/20...  Training Step: 262...  Training loss: 2.2867...  0.1788 sec/batch\n",
      "Epoch: 1/20...  Training Step: 263...  Training loss: 2.2354...  0.1767 sec/batch\n",
      "Epoch: 1/20...  Training Step: 264...  Training loss: 2.2409...  0.1915 sec/batch\n",
      "Epoch: 1/20...  Training Step: 265...  Training loss: 2.2390...  0.1679 sec/batch\n",
      "Epoch: 1/20...  Training Step: 266...  Training loss: 2.2627...  0.2297 sec/batch\n",
      "Epoch: 1/20...  Training Step: 267...  Training loss: 2.1792...  0.1834 sec/batch\n",
      "Epoch: 1/20...  Training Step: 268...  Training loss: 2.3098...  0.1815 sec/batch\n",
      "Epoch: 1/20...  Training Step: 269...  Training loss: 2.0855...  0.1654 sec/batch\n",
      "Epoch: 1/20...  Training Step: 270...  Training loss: 2.1731...  0.1792 sec/batch\n",
      "Epoch: 1/20...  Training Step: 271...  Training loss: 2.2561...  0.1638 sec/batch\n",
      "Epoch: 1/20...  Training Step: 272...  Training loss: 2.2039...  0.2155 sec/batch\n",
      "Epoch: 1/20...  Training Step: 273...  Training loss: 2.2163...  0.1928 sec/batch\n",
      "Epoch: 1/20...  Training Step: 274...  Training loss: 2.2471...  0.1746 sec/batch\n",
      "Epoch: 1/20...  Training Step: 275...  Training loss: 2.2019...  0.1635 sec/batch\n",
      "Epoch: 1/20...  Training Step: 276...  Training loss: 2.4116...  0.1794 sec/batch\n",
      "Epoch: 1/20...  Training Step: 277...  Training loss: 2.2128...  0.1738 sec/batch\n",
      "Epoch: 1/20...  Training Step: 278...  Training loss: 2.2703...  0.1760 sec/batch\n",
      "Epoch: 1/20...  Training Step: 279...  Training loss: 2.1879...  0.1651 sec/batch\n",
      "Epoch: 1/20...  Training Step: 280...  Training loss: 2.3711...  0.1791 sec/batch\n",
      "Epoch: 1/20...  Training Step: 281...  Training loss: 2.3567...  0.1652 sec/batch\n",
      "Epoch: 1/20...  Training Step: 282...  Training loss: 2.2674...  0.1778 sec/batch\n",
      "Epoch: 1/20...  Training Step: 283...  Training loss: 2.2499...  0.1673 sec/batch\n",
      "Epoch: 1/20...  Training Step: 284...  Training loss: 2.3068...  0.1754 sec/batch\n",
      "Epoch: 1/20...  Training Step: 285...  Training loss: 2.4242...  0.1647 sec/batch\n",
      "Epoch: 1/20...  Training Step: 286...  Training loss: 2.2777...  0.1790 sec/batch\n",
      "Epoch: 1/20...  Training Step: 287...  Training loss: 2.2133...  0.2023 sec/batch\n",
      "Epoch: 1/20...  Training Step: 288...  Training loss: 2.1458...  0.2045 sec/batch\n",
      "Epoch: 1/20...  Training Step: 289...  Training loss: 2.3026...  0.2998 sec/batch\n",
      "Epoch: 1/20...  Training Step: 290...  Training loss: 2.3741...  0.1557 sec/batch\n",
      "Epoch: 1/20...  Training Step: 291...  Training loss: 2.2716...  0.1870 sec/batch\n",
      "Epoch: 1/20...  Training Step: 292...  Training loss: 2.3307...  0.1627 sec/batch\n",
      "Epoch: 1/20...  Training Step: 293...  Training loss: 2.2323...  0.1700 sec/batch\n",
      "Epoch: 1/20...  Training Step: 294...  Training loss: 2.1998...  0.1661 sec/batch\n",
      "Epoch: 1/20...  Training Step: 295...  Training loss: 2.3956...  0.1766 sec/batch\n",
      "Epoch: 1/20...  Training Step: 296...  Training loss: 2.2827...  0.1641 sec/batch\n",
      "Epoch: 1/20...  Training Step: 297...  Training loss: 2.3750...  0.1769 sec/batch\n",
      "Epoch: 1/20...  Training Step: 298...  Training loss: 2.3867...  0.1667 sec/batch\n",
      "Epoch: 1/20...  Training Step: 299...  Training loss: 2.2860...  0.1786 sec/batch\n",
      "Epoch: 1/20...  Training Step: 300...  Training loss: 2.1935...  0.1649 sec/batch\n",
      "Epoch: 1/20...  Training Step: 301...  Training loss: 2.3219...  0.1771 sec/batch\n",
      "Epoch: 1/20...  Training Step: 302...  Training loss: 2.2544...  0.1606 sec/batch\n",
      "Epoch: 1/20...  Training Step: 303...  Training loss: 2.1790...  0.1785 sec/batch\n",
      "Epoch: 1/20...  Training Step: 304...  Training loss: 2.2501...  0.2174 sec/batch\n",
      "Epoch: 1/20...  Training Step: 305...  Training loss: 2.3068...  0.1937 sec/batch\n"
     ]
    },
    {
     "name": "stdout",
     "output_type": "stream",
     "text": [
      "Epoch: 1/20...  Training Step: 306...  Training loss: 2.3083...  0.1770 sec/batch\n",
      "Epoch: 1/20...  Training Step: 307...  Training loss: 2.3005...  0.1654 sec/batch\n",
      "Epoch: 1/20...  Training Step: 308...  Training loss: 2.1507...  0.1889 sec/batch\n",
      "Epoch: 1/20...  Training Step: 309...  Training loss: 2.2159...  0.1750 sec/batch\n",
      "Epoch: 1/20...  Training Step: 310...  Training loss: 2.1601...  0.1724 sec/batch\n",
      "Epoch: 1/20...  Training Step: 311...  Training loss: 2.1698...  0.1663 sec/batch\n",
      "Epoch: 1/20...  Training Step: 312...  Training loss: 2.2223...  0.1881 sec/batch\n",
      "Epoch: 1/20...  Training Step: 313...  Training loss: 2.1807...  0.2293 sec/batch\n",
      "Epoch: 1/20...  Training Step: 314...  Training loss: 2.1840...  0.1797 sec/batch\n",
      "Epoch: 1/20...  Training Step: 315...  Training loss: 2.2732...  0.1767 sec/batch\n",
      "Epoch: 1/20...  Training Step: 316...  Training loss: 2.1857...  0.1733 sec/batch\n",
      "Epoch: 1/20...  Training Step: 317...  Training loss: 2.2451...  0.1760 sec/batch\n",
      "Epoch: 1/20...  Training Step: 318...  Training loss: 2.3196...  0.1639 sec/batch\n"
     ]
    },
    {
     "ename": "KeyboardInterrupt",
     "evalue": "",
     "output_type": "error",
     "traceback": [
      "\u001b[0;31m---------------------------------------------------------------------------\u001b[0m",
      "\u001b[0;31mKeyboardInterrupt\u001b[0m                         Traceback (most recent call last)",
      "\u001b[0;32m<ipython-input-135-ad76a1595262>\u001b[0m in \u001b[0;36m<module>\u001b[0;34m()\u001b[0m\n\u001b[1;32m     28\u001b[0m                                                  \u001b[0mmodel\u001b[0m\u001b[0;34m.\u001b[0m\u001b[0mfinal_state\u001b[0m\u001b[0;34m,\u001b[0m\u001b[0;34m\u001b[0m\u001b[0m\n\u001b[1;32m     29\u001b[0m                                                  model.optimizer], \n\u001b[0;32m---> 30\u001b[0;31m                                                  feed_dict=feed)\n\u001b[0m\u001b[1;32m     31\u001b[0m \u001b[0;34m\u001b[0m\u001b[0m\n\u001b[1;32m     32\u001b[0m             \u001b[0mend\u001b[0m \u001b[0;34m=\u001b[0m \u001b[0mtime\u001b[0m\u001b[0;34m.\u001b[0m\u001b[0mtime\u001b[0m\u001b[0;34m(\u001b[0m\u001b[0;34m)\u001b[0m\u001b[0;34m\u001b[0m\u001b[0m\n",
      "\u001b[0;32m/Users/kazuki/.pyenv/versions/anaconda3-4.3.1/envs/dlnd/lib/python3.6/site-packages/tensorflow/python/client/session.py\u001b[0m in \u001b[0;36mrun\u001b[0;34m(self, fetches, feed_dict, options, run_metadata)\u001b[0m\n\u001b[1;32m    776\u001b[0m     \u001b[0;32mtry\u001b[0m\u001b[0;34m:\u001b[0m\u001b[0;34m\u001b[0m\u001b[0m\n\u001b[1;32m    777\u001b[0m       result = self._run(None, fetches, feed_dict, options_ptr,\n\u001b[0;32m--> 778\u001b[0;31m                          run_metadata_ptr)\n\u001b[0m\u001b[1;32m    779\u001b[0m       \u001b[0;32mif\u001b[0m \u001b[0mrun_metadata\u001b[0m\u001b[0;34m:\u001b[0m\u001b[0;34m\u001b[0m\u001b[0m\n\u001b[1;32m    780\u001b[0m         \u001b[0mproto_data\u001b[0m \u001b[0;34m=\u001b[0m \u001b[0mtf_session\u001b[0m\u001b[0;34m.\u001b[0m\u001b[0mTF_GetBuffer\u001b[0m\u001b[0;34m(\u001b[0m\u001b[0mrun_metadata_ptr\u001b[0m\u001b[0;34m)\u001b[0m\u001b[0;34m\u001b[0m\u001b[0m\n",
      "\u001b[0;32m/Users/kazuki/.pyenv/versions/anaconda3-4.3.1/envs/dlnd/lib/python3.6/site-packages/tensorflow/python/client/session.py\u001b[0m in \u001b[0;36m_run\u001b[0;34m(self, handle, fetches, feed_dict, options, run_metadata)\u001b[0m\n\u001b[1;32m    980\u001b[0m     \u001b[0;32mif\u001b[0m \u001b[0mfinal_fetches\u001b[0m \u001b[0;32mor\u001b[0m \u001b[0mfinal_targets\u001b[0m\u001b[0;34m:\u001b[0m\u001b[0;34m\u001b[0m\u001b[0m\n\u001b[1;32m    981\u001b[0m       results = self._do_run(handle, final_targets, final_fetches,\n\u001b[0;32m--> 982\u001b[0;31m                              feed_dict_string, options, run_metadata)\n\u001b[0m\u001b[1;32m    983\u001b[0m     \u001b[0;32melse\u001b[0m\u001b[0;34m:\u001b[0m\u001b[0;34m\u001b[0m\u001b[0m\n\u001b[1;32m    984\u001b[0m       \u001b[0mresults\u001b[0m \u001b[0;34m=\u001b[0m \u001b[0;34m[\u001b[0m\u001b[0;34m]\u001b[0m\u001b[0;34m\u001b[0m\u001b[0m\n",
      "\u001b[0;32m/Users/kazuki/.pyenv/versions/anaconda3-4.3.1/envs/dlnd/lib/python3.6/site-packages/tensorflow/python/client/session.py\u001b[0m in \u001b[0;36m_do_run\u001b[0;34m(self, handle, target_list, fetch_list, feed_dict, options, run_metadata)\u001b[0m\n\u001b[1;32m   1030\u001b[0m     \u001b[0;32mif\u001b[0m \u001b[0mhandle\u001b[0m \u001b[0;32mis\u001b[0m \u001b[0;32mNone\u001b[0m\u001b[0;34m:\u001b[0m\u001b[0;34m\u001b[0m\u001b[0m\n\u001b[1;32m   1031\u001b[0m       return self._do_call(_run_fn, self._session, feed_dict, fetch_list,\n\u001b[0;32m-> 1032\u001b[0;31m                            target_list, options, run_metadata)\n\u001b[0m\u001b[1;32m   1033\u001b[0m     \u001b[0;32melse\u001b[0m\u001b[0;34m:\u001b[0m\u001b[0;34m\u001b[0m\u001b[0m\n\u001b[1;32m   1034\u001b[0m       return self._do_call(_prun_fn, self._session, handle, feed_dict,\n",
      "\u001b[0;32m/Users/kazuki/.pyenv/versions/anaconda3-4.3.1/envs/dlnd/lib/python3.6/site-packages/tensorflow/python/client/session.py\u001b[0m in \u001b[0;36m_do_call\u001b[0;34m(self, fn, *args)\u001b[0m\n\u001b[1;32m   1037\u001b[0m   \u001b[0;32mdef\u001b[0m \u001b[0m_do_call\u001b[0m\u001b[0;34m(\u001b[0m\u001b[0mself\u001b[0m\u001b[0;34m,\u001b[0m \u001b[0mfn\u001b[0m\u001b[0;34m,\u001b[0m \u001b[0;34m*\u001b[0m\u001b[0margs\u001b[0m\u001b[0;34m)\u001b[0m\u001b[0;34m:\u001b[0m\u001b[0;34m\u001b[0m\u001b[0m\n\u001b[1;32m   1038\u001b[0m     \u001b[0;32mtry\u001b[0m\u001b[0;34m:\u001b[0m\u001b[0;34m\u001b[0m\u001b[0m\n\u001b[0;32m-> 1039\u001b[0;31m       \u001b[0;32mreturn\u001b[0m \u001b[0mfn\u001b[0m\u001b[0;34m(\u001b[0m\u001b[0;34m*\u001b[0m\u001b[0margs\u001b[0m\u001b[0;34m)\u001b[0m\u001b[0;34m\u001b[0m\u001b[0m\n\u001b[0m\u001b[1;32m   1040\u001b[0m     \u001b[0;32mexcept\u001b[0m \u001b[0merrors\u001b[0m\u001b[0;34m.\u001b[0m\u001b[0mOpError\u001b[0m \u001b[0;32mas\u001b[0m \u001b[0me\u001b[0m\u001b[0;34m:\u001b[0m\u001b[0;34m\u001b[0m\u001b[0m\n\u001b[1;32m   1041\u001b[0m       \u001b[0mmessage\u001b[0m \u001b[0;34m=\u001b[0m \u001b[0mcompat\u001b[0m\u001b[0;34m.\u001b[0m\u001b[0mas_text\u001b[0m\u001b[0;34m(\u001b[0m\u001b[0me\u001b[0m\u001b[0;34m.\u001b[0m\u001b[0mmessage\u001b[0m\u001b[0;34m)\u001b[0m\u001b[0;34m\u001b[0m\u001b[0m\n",
      "\u001b[0;32m/Users/kazuki/.pyenv/versions/anaconda3-4.3.1/envs/dlnd/lib/python3.6/site-packages/tensorflow/python/client/session.py\u001b[0m in \u001b[0;36m_run_fn\u001b[0;34m(session, feed_dict, fetch_list, target_list, options, run_metadata)\u001b[0m\n\u001b[1;32m   1019\u001b[0m         return tf_session.TF_Run(session, options,\n\u001b[1;32m   1020\u001b[0m                                  \u001b[0mfeed_dict\u001b[0m\u001b[0;34m,\u001b[0m \u001b[0mfetch_list\u001b[0m\u001b[0;34m,\u001b[0m \u001b[0mtarget_list\u001b[0m\u001b[0;34m,\u001b[0m\u001b[0;34m\u001b[0m\u001b[0m\n\u001b[0;32m-> 1021\u001b[0;31m                                  status, run_metadata)\n\u001b[0m\u001b[1;32m   1022\u001b[0m \u001b[0;34m\u001b[0m\u001b[0m\n\u001b[1;32m   1023\u001b[0m     \u001b[0;32mdef\u001b[0m \u001b[0m_prun_fn\u001b[0m\u001b[0;34m(\u001b[0m\u001b[0msession\u001b[0m\u001b[0;34m,\u001b[0m \u001b[0mhandle\u001b[0m\u001b[0;34m,\u001b[0m \u001b[0mfeed_dict\u001b[0m\u001b[0;34m,\u001b[0m \u001b[0mfetch_list\u001b[0m\u001b[0;34m)\u001b[0m\u001b[0;34m:\u001b[0m\u001b[0;34m\u001b[0m\u001b[0m\n",
      "\u001b[0;31mKeyboardInterrupt\u001b[0m: "
     ]
    }
   ],
   "source": [
    "epochs = 20\n",
    "# Save every N iterations\n",
    "save_every_n = 200\n",
    "\n",
    "model = CharRNN(len(vocab), batch_size=batch_size, num_steps=num_steps,\n",
    "                lstm_size=lstm_size, num_layers=num_layers, \n",
    "                learning_rate=learning_rate)\n",
    "\n",
    "saver = tf.train.Saver(max_to_keep=100)\n",
    "with tf.Session() as sess:\n",
    "    sess.run(tf.global_variables_initializer())\n",
    "    \n",
    "    # Use the line below to load a checkpoint and resume training\n",
    "    #saver.restore(sess, 'checkpoints/______.ckpt')\n",
    "    counter = 0\n",
    "    for e in range(epochs):\n",
    "        # Train network\n",
    "        new_state = sess.run(model.initial_state)\n",
    "        loss = 0\n",
    "        for x, y in get_batches(encoded, batch_size, num_steps):\n",
    "            counter += 1\n",
    "            start = time.time()\n",
    "            feed = {model.inputs: x,\n",
    "                    model.targets: y,\n",
    "                    model.keep_prob: keep_prob,\n",
    "                    model.initial_state: new_state}\n",
    "            batch_loss, new_state, _ = sess.run([model.loss, \n",
    "                                                 model.final_state, \n",
    "                                                 model.optimizer], \n",
    "                                                 feed_dict=feed)\n",
    "            \n",
    "            end = time.time()\n",
    "            print('Epoch: {}/{}... '.format(e+1, epochs),\n",
    "                  'Training Step: {}... '.format(counter),\n",
    "                  'Training loss: {:.4f}... '.format(batch_loss),\n",
    "                  '{:.4f} sec/batch'.format((end-start)))\n",
    "        \n",
    "            if (counter % save_every_n == 0):\n",
    "                saver.save(sess, \"checkpoints/i{}_l{}.ckpt\".format(counter, lstm_size))\n",
    "    \n",
    "    saver.save(sess, \"checkpoints/i{}_l{}.ckpt\".format(counter, lstm_size))"
   ]
  },
  {
   "cell_type": "markdown",
   "metadata": {},
   "source": [
    "#### Saved checkpoints\n",
    "\n",
    "Read up on saving and loading checkpoints here: https://www.tensorflow.org/programmers_guide/variables"
   ]
  },
  {
   "cell_type": "code",
   "execution_count": 128,
   "metadata": {},
   "outputs": [
    {
     "data": {
      "text/plain": [
       "model_checkpoint_path: \"checkpoints/i5000_l128.ckpt\"\n",
       "all_model_checkpoint_paths: \"checkpoints/i200_l128.ckpt\"\n",
       "all_model_checkpoint_paths: \"checkpoints/i400_l128.ckpt\"\n",
       "all_model_checkpoint_paths: \"checkpoints/i600_l128.ckpt\"\n",
       "all_model_checkpoint_paths: \"checkpoints/i800_l128.ckpt\"\n",
       "all_model_checkpoint_paths: \"checkpoints/i1000_l128.ckpt\"\n",
       "all_model_checkpoint_paths: \"checkpoints/i1200_l128.ckpt\"\n",
       "all_model_checkpoint_paths: \"checkpoints/i1400_l128.ckpt\"\n",
       "all_model_checkpoint_paths: \"checkpoints/i1600_l128.ckpt\"\n",
       "all_model_checkpoint_paths: \"checkpoints/i1800_l128.ckpt\"\n",
       "all_model_checkpoint_paths: \"checkpoints/i2000_l128.ckpt\"\n",
       "all_model_checkpoint_paths: \"checkpoints/i2200_l128.ckpt\"\n",
       "all_model_checkpoint_paths: \"checkpoints/i2400_l128.ckpt\"\n",
       "all_model_checkpoint_paths: \"checkpoints/i2600_l128.ckpt\"\n",
       "all_model_checkpoint_paths: \"checkpoints/i2800_l128.ckpt\"\n",
       "all_model_checkpoint_paths: \"checkpoints/i3000_l128.ckpt\"\n",
       "all_model_checkpoint_paths: \"checkpoints/i3200_l128.ckpt\"\n",
       "all_model_checkpoint_paths: \"checkpoints/i3400_l128.ckpt\"\n",
       "all_model_checkpoint_paths: \"checkpoints/i3600_l128.ckpt\"\n",
       "all_model_checkpoint_paths: \"checkpoints/i3800_l128.ckpt\"\n",
       "all_model_checkpoint_paths: \"checkpoints/i4000_l128.ckpt\"\n",
       "all_model_checkpoint_paths: \"checkpoints/i4200_l128.ckpt\"\n",
       "all_model_checkpoint_paths: \"checkpoints/i4400_l128.ckpt\"\n",
       "all_model_checkpoint_paths: \"checkpoints/i4600_l128.ckpt\"\n",
       "all_model_checkpoint_paths: \"checkpoints/i4800_l128.ckpt\"\n",
       "all_model_checkpoint_paths: \"checkpoints/i5000_l128.ckpt\""
      ]
     },
     "execution_count": 128,
     "metadata": {},
     "output_type": "execute_result"
    }
   ],
   "source": [
    "tf.train.get_checkpoint_state('checkpoints')"
   ]
  },
  {
   "cell_type": "markdown",
   "metadata": {},
   "source": [
    "## Sampling\n",
    "\n",
    "Now that the network is trained, we'll can use it to generate new text. The idea is that we pass in a character, then the network will predict the next character. We can use the new one, to predict the next one. And we keep doing this to generate all new text. I also included some functionality to prime the network with some text by passing in a string and building up a state from that.\n",
    "\n",
    "The network gives us predictions for each character. To reduce noise and make things a little less random, I'm going to only choose a new character from the top N most likely characters.\n",
    "\n"
   ]
  },
  {
   "cell_type": "code",
   "execution_count": 129,
   "metadata": {
    "collapsed": true
   },
   "outputs": [],
   "source": [
    "def pick_top_n(preds, vocab_size, top_n=5):\n",
    "    p = np.squeeze(preds)\n",
    "    p[np.argsort(p)[:-top_n]] = 0\n",
    "    p = p / np.sum(p)\n",
    "    c = np.random.choice(vocab_size, 1, p=p)[0]\n",
    "    return c"
   ]
  },
  {
   "cell_type": "code",
   "execution_count": 130,
   "metadata": {
    "collapsed": true
   },
   "outputs": [],
   "source": [
    "def sample(checkpoint, n_samples, lstm_size, vocab_size, prime=\"The \"):\n",
    "    samples = [c for c in prime]\n",
    "    model = CharRNN(len(vocab), lstm_size=lstm_size, sampling=True)\n",
    "    saver = tf.train.Saver()\n",
    "    with tf.Session() as sess:\n",
    "        saver.restore(sess, checkpoint)\n",
    "        new_state = sess.run(model.initial_state)\n",
    "        for c in prime:\n",
    "            x = np.zeros((1, 1))\n",
    "            x[0,0] = vocab_to_int[c]\n",
    "            feed = {model.inputs: x,\n",
    "                    model.keep_prob: 1.,\n",
    "                    model.initial_state: new_state}\n",
    "            preds, new_state = sess.run([model.prediction, model.final_state], \n",
    "                                         feed_dict=feed)\n",
    "\n",
    "        c = pick_top_n(preds, len(vocab))\n",
    "        samples.append(int_to_vocab[c])\n",
    "\n",
    "        for i in range(n_samples):\n",
    "            x[0,0] = c\n",
    "            feed = {model.inputs: x,\n",
    "                    model.keep_prob: 1.,\n",
    "                    model.initial_state: new_state}\n",
    "            preds, new_state = sess.run([model.prediction, model.final_state], \n",
    "                                         feed_dict=feed)\n",
    "\n",
    "            c = pick_top_n(preds, len(vocab))\n",
    "            samples.append(int_to_vocab[c])\n",
    "        \n",
    "    return ''.join(samples)"
   ]
  },
  {
   "cell_type": "markdown",
   "metadata": {},
   "source": [
    "Here, pass in the path to a checkpoint and sample from the network."
   ]
  },
  {
   "cell_type": "code",
   "execution_count": 131,
   "metadata": {},
   "outputs": [
    {
     "data": {
      "text/plain": [
       "'checkpoints/i5000_l128.ckpt'"
      ]
     },
     "execution_count": 131,
     "metadata": {},
     "output_type": "execute_result"
    }
   ],
   "source": [
    "tf.train.latest_checkpoint('checkpoints')"
   ]
  },
  {
   "cell_type": "code",
   "execution_count": 132,
   "metadata": {},
   "outputs": [
    {
     "name": "stdout",
     "output_type": "stream",
     "text": [
      "INFO:tensorflow:Restoring parameters from checkpoints/i5000_l128.ckpt\n",
      "Farats\n",
      "of a barling would shing, had not thought well had better the pash to her tith all he would shour and take he was\n",
      "temlining we can to the shats, and were to sat to the side her. The most\n",
      "had thought who had stopping of the back thill and house and home with, to the portate as he could say if they saw with the mutter of\n",
      "the mite at there her his herest on the well over her, taking and be whole his hat an onderstand.\n",
      "\n",
      "\"We'll as stard of the same and to\n",
      "she would be she could be\n",
      "to and stops on her and an the\n",
      "bisted has that.\n",
      "\n",
      "\"Werling the her his hearted to\n",
      "see and seemed told to be then, and seel of the mong as his to strenged over the hands to him of in his hands, then\n",
      "him and have bowe of stopping at his backing that with her, the steped\n",
      "that in senching only whilidain and hear, and there's not as his contrished while see her that the donial that he would he had been terrating them and should bave on all\n",
      "to be they here as\n",
      "a tome well that\n",
      "the\n",
      "bord of the bites, with\n",
      "her and\n",
      "and this tiring her and a down,\" she's houre as and a peopres the sonnetted that strough thinking the broung harning with the bate and beginning our to have with the\n",
      "part of\n",
      "her with the mastreet of the benst, stopping of the somewhat and had barter on it he're say,\n",
      "stood head, as she seem and say.\"\n",
      "\n",
      "\"Yes, the startion to\n",
      "seemed them thinking himself, to that she had say. I'm a people out he\n",
      "crats as he could not he was to be well, and how.\"\n",
      "\n",
      "Stepan\n",
      "Arkadyevitch was to stant his composses wated, which say here and sare along,\n",
      "shings wishing on his battly. He went them, and what he went in\n",
      "a might.\n",
      "\n",
      "\"I have thow and work as her, to the way of than hasing\n",
      "her and here he can he were has\n",
      "wonder as\n",
      "so that's not talk him, his sersoms. Horround on, sharred with the mover his house, that he\n",
      "camping of the mare, and was,\n",
      "who had has. I so would not the hinds, she sat, and there, his ward the betters\n",
      "on her homors oul his begind. And he took\n",
      "when and stalleds and him at the wit watto the bast tell w\n"
     ]
    }
   ],
   "source": [
    "checkpoint = tf.train.latest_checkpoint('checkpoints')\n",
    "samp = sample(checkpoint, 2000, lstm_size, len(vocab), prime=\"Far\")\n",
    "print(samp)"
   ]
  },
  {
   "cell_type": "code",
   "execution_count": 133,
   "metadata": {},
   "outputs": [
    {
     "name": "stdout",
     "output_type": "stream",
     "text": [
      "INFO:tensorflow:Restoring parameters from checkpoints/i200_l512.ckpt\n"
     ]
    },
    {
     "ename": "NotFoundError",
     "evalue": "Key softmax/softmax_w/Adam_1 not found in checkpoint\n\t [[Node: save/RestoreV2_19 = RestoreV2[dtypes=[DT_FLOAT], _device=\"/job:localhost/replica:0/task:0/cpu:0\"](_recv_save/Const_0, save/RestoreV2_19/tensor_names, save/RestoreV2_19/shape_and_slices)]]\n\nCaused by op 'save/RestoreV2_19', defined at:\n  File \"/Users/kazuki/.pyenv/versions/anaconda3-4.3.1/envs/dlnd/lib/python3.6/runpy.py\", line 193, in _run_module_as_main\n    \"__main__\", mod_spec)\n  File \"/Users/kazuki/.pyenv/versions/anaconda3-4.3.1/envs/dlnd/lib/python3.6/runpy.py\", line 85, in _run_code\n    exec(code, run_globals)\n  File \"/Users/kazuki/.pyenv/versions/anaconda3-4.3.1/envs/dlnd/lib/python3.6/site-packages/ipykernel_launcher.py\", line 16, in <module>\n    app.launch_new_instance()\n  File \"/Users/kazuki/.pyenv/versions/anaconda3-4.3.1/envs/dlnd/lib/python3.6/site-packages/traitlets/config/application.py\", line 658, in launch_instance\n    app.start()\n  File \"/Users/kazuki/.pyenv/versions/anaconda3-4.3.1/envs/dlnd/lib/python3.6/site-packages/ipykernel/kernelapp.py\", line 477, in start\n    ioloop.IOLoop.instance().start()\n  File \"/Users/kazuki/.pyenv/versions/anaconda3-4.3.1/envs/dlnd/lib/python3.6/site-packages/zmq/eventloop/ioloop.py\", line 177, in start\n    super(ZMQIOLoop, self).start()\n  File \"/Users/kazuki/.pyenv/versions/anaconda3-4.3.1/envs/dlnd/lib/python3.6/site-packages/tornado/ioloop.py\", line 888, in start\n    handler_func(fd_obj, events)\n  File \"/Users/kazuki/.pyenv/versions/anaconda3-4.3.1/envs/dlnd/lib/python3.6/site-packages/tornado/stack_context.py\", line 277, in null_wrapper\n    return fn(*args, **kwargs)\n  File \"/Users/kazuki/.pyenv/versions/anaconda3-4.3.1/envs/dlnd/lib/python3.6/site-packages/zmq/eventloop/zmqstream.py\", line 440, in _handle_events\n    self._handle_recv()\n  File \"/Users/kazuki/.pyenv/versions/anaconda3-4.3.1/envs/dlnd/lib/python3.6/site-packages/zmq/eventloop/zmqstream.py\", line 472, in _handle_recv\n    self._run_callback(callback, msg)\n  File \"/Users/kazuki/.pyenv/versions/anaconda3-4.3.1/envs/dlnd/lib/python3.6/site-packages/zmq/eventloop/zmqstream.py\", line 414, in _run_callback\n    callback(*args, **kwargs)\n  File \"/Users/kazuki/.pyenv/versions/anaconda3-4.3.1/envs/dlnd/lib/python3.6/site-packages/tornado/stack_context.py\", line 277, in null_wrapper\n    return fn(*args, **kwargs)\n  File \"/Users/kazuki/.pyenv/versions/anaconda3-4.3.1/envs/dlnd/lib/python3.6/site-packages/ipykernel/kernelbase.py\", line 283, in dispatcher\n    return self.dispatch_shell(stream, msg)\n  File \"/Users/kazuki/.pyenv/versions/anaconda3-4.3.1/envs/dlnd/lib/python3.6/site-packages/ipykernel/kernelbase.py\", line 235, in dispatch_shell\n    handler(stream, idents, msg)\n  File \"/Users/kazuki/.pyenv/versions/anaconda3-4.3.1/envs/dlnd/lib/python3.6/site-packages/ipykernel/kernelbase.py\", line 399, in execute_request\n    user_expressions, allow_stdin)\n  File \"/Users/kazuki/.pyenv/versions/anaconda3-4.3.1/envs/dlnd/lib/python3.6/site-packages/ipykernel/ipkernel.py\", line 196, in do_execute\n    res = shell.run_cell(code, store_history=store_history, silent=silent)\n  File \"/Users/kazuki/.pyenv/versions/anaconda3-4.3.1/envs/dlnd/lib/python3.6/site-packages/ipykernel/zmqshell.py\", line 533, in run_cell\n    return super(ZMQInteractiveShell, self).run_cell(*args, **kwargs)\n  File \"/Users/kazuki/.pyenv/versions/anaconda3-4.3.1/envs/dlnd/lib/python3.6/site-packages/IPython/core/interactiveshell.py\", line 2683, in run_cell\n    interactivity=interactivity, compiler=compiler, result=result)\n  File \"/Users/kazuki/.pyenv/versions/anaconda3-4.3.1/envs/dlnd/lib/python3.6/site-packages/IPython/core/interactiveshell.py\", line 2787, in run_ast_nodes\n    if self.run_code(code, result):\n  File \"/Users/kazuki/.pyenv/versions/anaconda3-4.3.1/envs/dlnd/lib/python3.6/site-packages/IPython/core/interactiveshell.py\", line 2847, in run_code\n    exec(code_obj, self.user_global_ns, self.user_ns)\n  File \"<ipython-input-133-d1a22da3ba8d>\", line 2, in <module>\n    samp = sample(checkpoint, 1000, lstm_size, len(vocab), prime=\"Far\")\n  File \"<ipython-input-130-8eb787ae9642>\", line 4, in sample\n    saver = tf.train.Saver()\n  File \"/Users/kazuki/.pyenv/versions/anaconda3-4.3.1/envs/dlnd/lib/python3.6/site-packages/tensorflow/python/training/saver.py\", line 1056, in __init__\n    self.build()\n  File \"/Users/kazuki/.pyenv/versions/anaconda3-4.3.1/envs/dlnd/lib/python3.6/site-packages/tensorflow/python/training/saver.py\", line 1086, in build\n    restore_sequentially=self._restore_sequentially)\n  File \"/Users/kazuki/.pyenv/versions/anaconda3-4.3.1/envs/dlnd/lib/python3.6/site-packages/tensorflow/python/training/saver.py\", line 691, in build\n    restore_sequentially, reshape)\n  File \"/Users/kazuki/.pyenv/versions/anaconda3-4.3.1/envs/dlnd/lib/python3.6/site-packages/tensorflow/python/training/saver.py\", line 407, in _AddRestoreOps\n    tensors = self.restore_op(filename_tensor, saveable, preferred_shard)\n  File \"/Users/kazuki/.pyenv/versions/anaconda3-4.3.1/envs/dlnd/lib/python3.6/site-packages/tensorflow/python/training/saver.py\", line 247, in restore_op\n    [spec.tensor.dtype])[0])\n  File \"/Users/kazuki/.pyenv/versions/anaconda3-4.3.1/envs/dlnd/lib/python3.6/site-packages/tensorflow/python/ops/gen_io_ops.py\", line 669, in restore_v2\n    dtypes=dtypes, name=name)\n  File \"/Users/kazuki/.pyenv/versions/anaconda3-4.3.1/envs/dlnd/lib/python3.6/site-packages/tensorflow/python/framework/op_def_library.py\", line 768, in apply_op\n    op_def=op_def)\n  File \"/Users/kazuki/.pyenv/versions/anaconda3-4.3.1/envs/dlnd/lib/python3.6/site-packages/tensorflow/python/framework/ops.py\", line 2336, in create_op\n    original_op=self._default_original_op, op_def=op_def)\n  File \"/Users/kazuki/.pyenv/versions/anaconda3-4.3.1/envs/dlnd/lib/python3.6/site-packages/tensorflow/python/framework/ops.py\", line 1228, in __init__\n    self._traceback = _extract_stack()\n\nNotFoundError (see above for traceback): Key softmax/softmax_w/Adam_1 not found in checkpoint\n\t [[Node: save/RestoreV2_19 = RestoreV2[dtypes=[DT_FLOAT], _device=\"/job:localhost/replica:0/task:0/cpu:0\"](_recv_save/Const_0, save/RestoreV2_19/tensor_names, save/RestoreV2_19/shape_and_slices)]]\n",
     "output_type": "error",
     "traceback": [
      "\u001b[0;31m---------------------------------------------------------------------------\u001b[0m",
      "\u001b[0;31mNotFoundError\u001b[0m                             Traceback (most recent call last)",
      "\u001b[0;32m/Users/kazuki/.pyenv/versions/anaconda3-4.3.1/envs/dlnd/lib/python3.6/site-packages/tensorflow/python/client/session.py\u001b[0m in \u001b[0;36m_do_call\u001b[0;34m(self, fn, *args)\u001b[0m\n\u001b[1;32m   1038\u001b[0m     \u001b[0;32mtry\u001b[0m\u001b[0;34m:\u001b[0m\u001b[0;34m\u001b[0m\u001b[0m\n\u001b[0;32m-> 1039\u001b[0;31m       \u001b[0;32mreturn\u001b[0m \u001b[0mfn\u001b[0m\u001b[0;34m(\u001b[0m\u001b[0;34m*\u001b[0m\u001b[0margs\u001b[0m\u001b[0;34m)\u001b[0m\u001b[0;34m\u001b[0m\u001b[0m\n\u001b[0m\u001b[1;32m   1040\u001b[0m     \u001b[0;32mexcept\u001b[0m \u001b[0merrors\u001b[0m\u001b[0;34m.\u001b[0m\u001b[0mOpError\u001b[0m \u001b[0;32mas\u001b[0m \u001b[0me\u001b[0m\u001b[0;34m:\u001b[0m\u001b[0;34m\u001b[0m\u001b[0m\n",
      "\u001b[0;32m/Users/kazuki/.pyenv/versions/anaconda3-4.3.1/envs/dlnd/lib/python3.6/site-packages/tensorflow/python/client/session.py\u001b[0m in \u001b[0;36m_run_fn\u001b[0;34m(session, feed_dict, fetch_list, target_list, options, run_metadata)\u001b[0m\n\u001b[1;32m   1020\u001b[0m                                  \u001b[0mfeed_dict\u001b[0m\u001b[0;34m,\u001b[0m \u001b[0mfetch_list\u001b[0m\u001b[0;34m,\u001b[0m \u001b[0mtarget_list\u001b[0m\u001b[0;34m,\u001b[0m\u001b[0;34m\u001b[0m\u001b[0m\n\u001b[0;32m-> 1021\u001b[0;31m                                  status, run_metadata)\n\u001b[0m\u001b[1;32m   1022\u001b[0m \u001b[0;34m\u001b[0m\u001b[0m\n",
      "\u001b[0;32m/Users/kazuki/.pyenv/versions/anaconda3-4.3.1/envs/dlnd/lib/python3.6/contextlib.py\u001b[0m in \u001b[0;36m__exit__\u001b[0;34m(self, type, value, traceback)\u001b[0m\n\u001b[1;32m     88\u001b[0m             \u001b[0;32mtry\u001b[0m\u001b[0;34m:\u001b[0m\u001b[0;34m\u001b[0m\u001b[0m\n\u001b[0;32m---> 89\u001b[0;31m                 \u001b[0mnext\u001b[0m\u001b[0;34m(\u001b[0m\u001b[0mself\u001b[0m\u001b[0;34m.\u001b[0m\u001b[0mgen\u001b[0m\u001b[0;34m)\u001b[0m\u001b[0;34m\u001b[0m\u001b[0m\n\u001b[0m\u001b[1;32m     90\u001b[0m             \u001b[0;32mexcept\u001b[0m \u001b[0mStopIteration\u001b[0m\u001b[0;34m:\u001b[0m\u001b[0;34m\u001b[0m\u001b[0m\n",
      "\u001b[0;32m/Users/kazuki/.pyenv/versions/anaconda3-4.3.1/envs/dlnd/lib/python3.6/site-packages/tensorflow/python/framework/errors_impl.py\u001b[0m in \u001b[0;36mraise_exception_on_not_ok_status\u001b[0;34m()\u001b[0m\n\u001b[1;32m    465\u001b[0m           \u001b[0mcompat\u001b[0m\u001b[0;34m.\u001b[0m\u001b[0mas_text\u001b[0m\u001b[0;34m(\u001b[0m\u001b[0mpywrap_tensorflow\u001b[0m\u001b[0;34m.\u001b[0m\u001b[0mTF_Message\u001b[0m\u001b[0;34m(\u001b[0m\u001b[0mstatus\u001b[0m\u001b[0;34m)\u001b[0m\u001b[0;34m)\u001b[0m\u001b[0;34m,\u001b[0m\u001b[0;34m\u001b[0m\u001b[0m\n\u001b[0;32m--> 466\u001b[0;31m           pywrap_tensorflow.TF_GetCode(status))\n\u001b[0m\u001b[1;32m    467\u001b[0m   \u001b[0;32mfinally\u001b[0m\u001b[0;34m:\u001b[0m\u001b[0;34m\u001b[0m\u001b[0m\n",
      "\u001b[0;31mNotFoundError\u001b[0m: Key softmax/softmax_w/Adam_1 not found in checkpoint\n\t [[Node: save/RestoreV2_19 = RestoreV2[dtypes=[DT_FLOAT], _device=\"/job:localhost/replica:0/task:0/cpu:0\"](_recv_save/Const_0, save/RestoreV2_19/tensor_names, save/RestoreV2_19/shape_and_slices)]]",
      "\nDuring handling of the above exception, another exception occurred:\n",
      "\u001b[0;31mNotFoundError\u001b[0m                             Traceback (most recent call last)",
      "\u001b[0;32m<ipython-input-133-d1a22da3ba8d>\u001b[0m in \u001b[0;36m<module>\u001b[0;34m()\u001b[0m\n\u001b[1;32m      1\u001b[0m \u001b[0mcheckpoint\u001b[0m \u001b[0;34m=\u001b[0m \u001b[0;34m'checkpoints/i200_l512.ckpt'\u001b[0m\u001b[0;34m\u001b[0m\u001b[0m\n\u001b[0;32m----> 2\u001b[0;31m \u001b[0msamp\u001b[0m \u001b[0;34m=\u001b[0m \u001b[0msample\u001b[0m\u001b[0;34m(\u001b[0m\u001b[0mcheckpoint\u001b[0m\u001b[0;34m,\u001b[0m \u001b[0;36m1000\u001b[0m\u001b[0;34m,\u001b[0m \u001b[0mlstm_size\u001b[0m\u001b[0;34m,\u001b[0m \u001b[0mlen\u001b[0m\u001b[0;34m(\u001b[0m\u001b[0mvocab\u001b[0m\u001b[0;34m)\u001b[0m\u001b[0;34m,\u001b[0m \u001b[0mprime\u001b[0m\u001b[0;34m=\u001b[0m\u001b[0;34m\"Far\"\u001b[0m\u001b[0;34m)\u001b[0m\u001b[0;34m\u001b[0m\u001b[0m\n\u001b[0m\u001b[1;32m      3\u001b[0m \u001b[0mprint\u001b[0m\u001b[0;34m(\u001b[0m\u001b[0msamp\u001b[0m\u001b[0;34m)\u001b[0m\u001b[0;34m\u001b[0m\u001b[0m\n",
      "\u001b[0;32m<ipython-input-130-8eb787ae9642>\u001b[0m in \u001b[0;36msample\u001b[0;34m(checkpoint, n_samples, lstm_size, vocab_size, prime)\u001b[0m\n\u001b[1;32m      4\u001b[0m     \u001b[0msaver\u001b[0m \u001b[0;34m=\u001b[0m \u001b[0mtf\u001b[0m\u001b[0;34m.\u001b[0m\u001b[0mtrain\u001b[0m\u001b[0;34m.\u001b[0m\u001b[0mSaver\u001b[0m\u001b[0;34m(\u001b[0m\u001b[0;34m)\u001b[0m\u001b[0;34m\u001b[0m\u001b[0m\n\u001b[1;32m      5\u001b[0m     \u001b[0;32mwith\u001b[0m \u001b[0mtf\u001b[0m\u001b[0;34m.\u001b[0m\u001b[0mSession\u001b[0m\u001b[0;34m(\u001b[0m\u001b[0;34m)\u001b[0m \u001b[0;32mas\u001b[0m \u001b[0msess\u001b[0m\u001b[0;34m:\u001b[0m\u001b[0;34m\u001b[0m\u001b[0m\n\u001b[0;32m----> 6\u001b[0;31m         \u001b[0msaver\u001b[0m\u001b[0;34m.\u001b[0m\u001b[0mrestore\u001b[0m\u001b[0;34m(\u001b[0m\u001b[0msess\u001b[0m\u001b[0;34m,\u001b[0m \u001b[0mcheckpoint\u001b[0m\u001b[0;34m)\u001b[0m\u001b[0;34m\u001b[0m\u001b[0m\n\u001b[0m\u001b[1;32m      7\u001b[0m         \u001b[0mnew_state\u001b[0m \u001b[0;34m=\u001b[0m \u001b[0msess\u001b[0m\u001b[0;34m.\u001b[0m\u001b[0mrun\u001b[0m\u001b[0;34m(\u001b[0m\u001b[0mmodel\u001b[0m\u001b[0;34m.\u001b[0m\u001b[0minitial_state\u001b[0m\u001b[0;34m)\u001b[0m\u001b[0;34m\u001b[0m\u001b[0m\n\u001b[1;32m      8\u001b[0m         \u001b[0;32mfor\u001b[0m \u001b[0mc\u001b[0m \u001b[0;32min\u001b[0m \u001b[0mprime\u001b[0m\u001b[0;34m:\u001b[0m\u001b[0;34m\u001b[0m\u001b[0m\n",
      "\u001b[0;32m/Users/kazuki/.pyenv/versions/anaconda3-4.3.1/envs/dlnd/lib/python3.6/site-packages/tensorflow/python/training/saver.py\u001b[0m in \u001b[0;36mrestore\u001b[0;34m(self, sess, save_path)\u001b[0m\n\u001b[1;32m   1455\u001b[0m     \u001b[0mlogging\u001b[0m\u001b[0;34m.\u001b[0m\u001b[0minfo\u001b[0m\u001b[0;34m(\u001b[0m\u001b[0;34m\"Restoring parameters from %s\"\u001b[0m\u001b[0;34m,\u001b[0m \u001b[0msave_path\u001b[0m\u001b[0;34m)\u001b[0m\u001b[0;34m\u001b[0m\u001b[0m\n\u001b[1;32m   1456\u001b[0m     sess.run(self.saver_def.restore_op_name,\n\u001b[0;32m-> 1457\u001b[0;31m              {self.saver_def.filename_tensor_name: save_path})\n\u001b[0m\u001b[1;32m   1458\u001b[0m \u001b[0;34m\u001b[0m\u001b[0m\n\u001b[1;32m   1459\u001b[0m   \u001b[0;34m@\u001b[0m\u001b[0mstaticmethod\u001b[0m\u001b[0;34m\u001b[0m\u001b[0m\n",
      "\u001b[0;32m/Users/kazuki/.pyenv/versions/anaconda3-4.3.1/envs/dlnd/lib/python3.6/site-packages/tensorflow/python/client/session.py\u001b[0m in \u001b[0;36mrun\u001b[0;34m(self, fetches, feed_dict, options, run_metadata)\u001b[0m\n\u001b[1;32m    776\u001b[0m     \u001b[0;32mtry\u001b[0m\u001b[0;34m:\u001b[0m\u001b[0;34m\u001b[0m\u001b[0m\n\u001b[1;32m    777\u001b[0m       result = self._run(None, fetches, feed_dict, options_ptr,\n\u001b[0;32m--> 778\u001b[0;31m                          run_metadata_ptr)\n\u001b[0m\u001b[1;32m    779\u001b[0m       \u001b[0;32mif\u001b[0m \u001b[0mrun_metadata\u001b[0m\u001b[0;34m:\u001b[0m\u001b[0;34m\u001b[0m\u001b[0m\n\u001b[1;32m    780\u001b[0m         \u001b[0mproto_data\u001b[0m \u001b[0;34m=\u001b[0m \u001b[0mtf_session\u001b[0m\u001b[0;34m.\u001b[0m\u001b[0mTF_GetBuffer\u001b[0m\u001b[0;34m(\u001b[0m\u001b[0mrun_metadata_ptr\u001b[0m\u001b[0;34m)\u001b[0m\u001b[0;34m\u001b[0m\u001b[0m\n",
      "\u001b[0;32m/Users/kazuki/.pyenv/versions/anaconda3-4.3.1/envs/dlnd/lib/python3.6/site-packages/tensorflow/python/client/session.py\u001b[0m in \u001b[0;36m_run\u001b[0;34m(self, handle, fetches, feed_dict, options, run_metadata)\u001b[0m\n\u001b[1;32m    980\u001b[0m     \u001b[0;32mif\u001b[0m \u001b[0mfinal_fetches\u001b[0m \u001b[0;32mor\u001b[0m \u001b[0mfinal_targets\u001b[0m\u001b[0;34m:\u001b[0m\u001b[0;34m\u001b[0m\u001b[0m\n\u001b[1;32m    981\u001b[0m       results = self._do_run(handle, final_targets, final_fetches,\n\u001b[0;32m--> 982\u001b[0;31m                              feed_dict_string, options, run_metadata)\n\u001b[0m\u001b[1;32m    983\u001b[0m     \u001b[0;32melse\u001b[0m\u001b[0;34m:\u001b[0m\u001b[0;34m\u001b[0m\u001b[0m\n\u001b[1;32m    984\u001b[0m       \u001b[0mresults\u001b[0m \u001b[0;34m=\u001b[0m \u001b[0;34m[\u001b[0m\u001b[0;34m]\u001b[0m\u001b[0;34m\u001b[0m\u001b[0m\n",
      "\u001b[0;32m/Users/kazuki/.pyenv/versions/anaconda3-4.3.1/envs/dlnd/lib/python3.6/site-packages/tensorflow/python/client/session.py\u001b[0m in \u001b[0;36m_do_run\u001b[0;34m(self, handle, target_list, fetch_list, feed_dict, options, run_metadata)\u001b[0m\n\u001b[1;32m   1030\u001b[0m     \u001b[0;32mif\u001b[0m \u001b[0mhandle\u001b[0m \u001b[0;32mis\u001b[0m \u001b[0;32mNone\u001b[0m\u001b[0;34m:\u001b[0m\u001b[0;34m\u001b[0m\u001b[0m\n\u001b[1;32m   1031\u001b[0m       return self._do_call(_run_fn, self._session, feed_dict, fetch_list,\n\u001b[0;32m-> 1032\u001b[0;31m                            target_list, options, run_metadata)\n\u001b[0m\u001b[1;32m   1033\u001b[0m     \u001b[0;32melse\u001b[0m\u001b[0;34m:\u001b[0m\u001b[0;34m\u001b[0m\u001b[0m\n\u001b[1;32m   1034\u001b[0m       return self._do_call(_prun_fn, self._session, handle, feed_dict,\n",
      "\u001b[0;32m/Users/kazuki/.pyenv/versions/anaconda3-4.3.1/envs/dlnd/lib/python3.6/site-packages/tensorflow/python/client/session.py\u001b[0m in \u001b[0;36m_do_call\u001b[0;34m(self, fn, *args)\u001b[0m\n\u001b[1;32m   1050\u001b[0m         \u001b[0;32mexcept\u001b[0m \u001b[0mKeyError\u001b[0m\u001b[0;34m:\u001b[0m\u001b[0;34m\u001b[0m\u001b[0m\n\u001b[1;32m   1051\u001b[0m           \u001b[0;32mpass\u001b[0m\u001b[0;34m\u001b[0m\u001b[0m\n\u001b[0;32m-> 1052\u001b[0;31m       \u001b[0;32mraise\u001b[0m \u001b[0mtype\u001b[0m\u001b[0;34m(\u001b[0m\u001b[0me\u001b[0m\u001b[0;34m)\u001b[0m\u001b[0;34m(\u001b[0m\u001b[0mnode_def\u001b[0m\u001b[0;34m,\u001b[0m \u001b[0mop\u001b[0m\u001b[0;34m,\u001b[0m \u001b[0mmessage\u001b[0m\u001b[0;34m)\u001b[0m\u001b[0;34m\u001b[0m\u001b[0m\n\u001b[0m\u001b[1;32m   1053\u001b[0m \u001b[0;34m\u001b[0m\u001b[0m\n\u001b[1;32m   1054\u001b[0m   \u001b[0;32mdef\u001b[0m \u001b[0m_extend_graph\u001b[0m\u001b[0;34m(\u001b[0m\u001b[0mself\u001b[0m\u001b[0;34m)\u001b[0m\u001b[0;34m:\u001b[0m\u001b[0;34m\u001b[0m\u001b[0m\n",
      "\u001b[0;31mNotFoundError\u001b[0m: Key softmax/softmax_w/Adam_1 not found in checkpoint\n\t [[Node: save/RestoreV2_19 = RestoreV2[dtypes=[DT_FLOAT], _device=\"/job:localhost/replica:0/task:0/cpu:0\"](_recv_save/Const_0, save/RestoreV2_19/tensor_names, save/RestoreV2_19/shape_and_slices)]]\n\nCaused by op 'save/RestoreV2_19', defined at:\n  File \"/Users/kazuki/.pyenv/versions/anaconda3-4.3.1/envs/dlnd/lib/python3.6/runpy.py\", line 193, in _run_module_as_main\n    \"__main__\", mod_spec)\n  File \"/Users/kazuki/.pyenv/versions/anaconda3-4.3.1/envs/dlnd/lib/python3.6/runpy.py\", line 85, in _run_code\n    exec(code, run_globals)\n  File \"/Users/kazuki/.pyenv/versions/anaconda3-4.3.1/envs/dlnd/lib/python3.6/site-packages/ipykernel_launcher.py\", line 16, in <module>\n    app.launch_new_instance()\n  File \"/Users/kazuki/.pyenv/versions/anaconda3-4.3.1/envs/dlnd/lib/python3.6/site-packages/traitlets/config/application.py\", line 658, in launch_instance\n    app.start()\n  File \"/Users/kazuki/.pyenv/versions/anaconda3-4.3.1/envs/dlnd/lib/python3.6/site-packages/ipykernel/kernelapp.py\", line 477, in start\n    ioloop.IOLoop.instance().start()\n  File \"/Users/kazuki/.pyenv/versions/anaconda3-4.3.1/envs/dlnd/lib/python3.6/site-packages/zmq/eventloop/ioloop.py\", line 177, in start\n    super(ZMQIOLoop, self).start()\n  File \"/Users/kazuki/.pyenv/versions/anaconda3-4.3.1/envs/dlnd/lib/python3.6/site-packages/tornado/ioloop.py\", line 888, in start\n    handler_func(fd_obj, events)\n  File \"/Users/kazuki/.pyenv/versions/anaconda3-4.3.1/envs/dlnd/lib/python3.6/site-packages/tornado/stack_context.py\", line 277, in null_wrapper\n    return fn(*args, **kwargs)\n  File \"/Users/kazuki/.pyenv/versions/anaconda3-4.3.1/envs/dlnd/lib/python3.6/site-packages/zmq/eventloop/zmqstream.py\", line 440, in _handle_events\n    self._handle_recv()\n  File \"/Users/kazuki/.pyenv/versions/anaconda3-4.3.1/envs/dlnd/lib/python3.6/site-packages/zmq/eventloop/zmqstream.py\", line 472, in _handle_recv\n    self._run_callback(callback, msg)\n  File \"/Users/kazuki/.pyenv/versions/anaconda3-4.3.1/envs/dlnd/lib/python3.6/site-packages/zmq/eventloop/zmqstream.py\", line 414, in _run_callback\n    callback(*args, **kwargs)\n  File \"/Users/kazuki/.pyenv/versions/anaconda3-4.3.1/envs/dlnd/lib/python3.6/site-packages/tornado/stack_context.py\", line 277, in null_wrapper\n    return fn(*args, **kwargs)\n  File \"/Users/kazuki/.pyenv/versions/anaconda3-4.3.1/envs/dlnd/lib/python3.6/site-packages/ipykernel/kernelbase.py\", line 283, in dispatcher\n    return self.dispatch_shell(stream, msg)\n  File \"/Users/kazuki/.pyenv/versions/anaconda3-4.3.1/envs/dlnd/lib/python3.6/site-packages/ipykernel/kernelbase.py\", line 235, in dispatch_shell\n    handler(stream, idents, msg)\n  File \"/Users/kazuki/.pyenv/versions/anaconda3-4.3.1/envs/dlnd/lib/python3.6/site-packages/ipykernel/kernelbase.py\", line 399, in execute_request\n    user_expressions, allow_stdin)\n  File \"/Users/kazuki/.pyenv/versions/anaconda3-4.3.1/envs/dlnd/lib/python3.6/site-packages/ipykernel/ipkernel.py\", line 196, in do_execute\n    res = shell.run_cell(code, store_history=store_history, silent=silent)\n  File \"/Users/kazuki/.pyenv/versions/anaconda3-4.3.1/envs/dlnd/lib/python3.6/site-packages/ipykernel/zmqshell.py\", line 533, in run_cell\n    return super(ZMQInteractiveShell, self).run_cell(*args, **kwargs)\n  File \"/Users/kazuki/.pyenv/versions/anaconda3-4.3.1/envs/dlnd/lib/python3.6/site-packages/IPython/core/interactiveshell.py\", line 2683, in run_cell\n    interactivity=interactivity, compiler=compiler, result=result)\n  File \"/Users/kazuki/.pyenv/versions/anaconda3-4.3.1/envs/dlnd/lib/python3.6/site-packages/IPython/core/interactiveshell.py\", line 2787, in run_ast_nodes\n    if self.run_code(code, result):\n  File \"/Users/kazuki/.pyenv/versions/anaconda3-4.3.1/envs/dlnd/lib/python3.6/site-packages/IPython/core/interactiveshell.py\", line 2847, in run_code\n    exec(code_obj, self.user_global_ns, self.user_ns)\n  File \"<ipython-input-133-d1a22da3ba8d>\", line 2, in <module>\n    samp = sample(checkpoint, 1000, lstm_size, len(vocab), prime=\"Far\")\n  File \"<ipython-input-130-8eb787ae9642>\", line 4, in sample\n    saver = tf.train.Saver()\n  File \"/Users/kazuki/.pyenv/versions/anaconda3-4.3.1/envs/dlnd/lib/python3.6/site-packages/tensorflow/python/training/saver.py\", line 1056, in __init__\n    self.build()\n  File \"/Users/kazuki/.pyenv/versions/anaconda3-4.3.1/envs/dlnd/lib/python3.6/site-packages/tensorflow/python/training/saver.py\", line 1086, in build\n    restore_sequentially=self._restore_sequentially)\n  File \"/Users/kazuki/.pyenv/versions/anaconda3-4.3.1/envs/dlnd/lib/python3.6/site-packages/tensorflow/python/training/saver.py\", line 691, in build\n    restore_sequentially, reshape)\n  File \"/Users/kazuki/.pyenv/versions/anaconda3-4.3.1/envs/dlnd/lib/python3.6/site-packages/tensorflow/python/training/saver.py\", line 407, in _AddRestoreOps\n    tensors = self.restore_op(filename_tensor, saveable, preferred_shard)\n  File \"/Users/kazuki/.pyenv/versions/anaconda3-4.3.1/envs/dlnd/lib/python3.6/site-packages/tensorflow/python/training/saver.py\", line 247, in restore_op\n    [spec.tensor.dtype])[0])\n  File \"/Users/kazuki/.pyenv/versions/anaconda3-4.3.1/envs/dlnd/lib/python3.6/site-packages/tensorflow/python/ops/gen_io_ops.py\", line 669, in restore_v2\n    dtypes=dtypes, name=name)\n  File \"/Users/kazuki/.pyenv/versions/anaconda3-4.3.1/envs/dlnd/lib/python3.6/site-packages/tensorflow/python/framework/op_def_library.py\", line 768, in apply_op\n    op_def=op_def)\n  File \"/Users/kazuki/.pyenv/versions/anaconda3-4.3.1/envs/dlnd/lib/python3.6/site-packages/tensorflow/python/framework/ops.py\", line 2336, in create_op\n    original_op=self._default_original_op, op_def=op_def)\n  File \"/Users/kazuki/.pyenv/versions/anaconda3-4.3.1/envs/dlnd/lib/python3.6/site-packages/tensorflow/python/framework/ops.py\", line 1228, in __init__\n    self._traceback = _extract_stack()\n\nNotFoundError (see above for traceback): Key softmax/softmax_w/Adam_1 not found in checkpoint\n\t [[Node: save/RestoreV2_19 = RestoreV2[dtypes=[DT_FLOAT], _device=\"/job:localhost/replica:0/task:0/cpu:0\"](_recv_save/Const_0, save/RestoreV2_19/tensor_names, save/RestoreV2_19/shape_and_slices)]]\n"
     ]
    }
   ],
   "source": [
    "checkpoint = 'checkpoints/i200_l512.ckpt'\n",
    "samp = sample(checkpoint, 1000, lstm_size, len(vocab), prime=\"Far\")\n",
    "print(samp)"
   ]
  },
  {
   "cell_type": "code",
   "execution_count": null,
   "metadata": {
    "collapsed": true
   },
   "outputs": [],
   "source": [
    "checkpoint = 'checkpoints/i600_l512.ckpt'\n",
    "samp = sample(checkpoint, 1000, lstm_size, len(vocab), prime=\"Far\")\n",
    "print(samp)"
   ]
  },
  {
   "cell_type": "code",
   "execution_count": null,
   "metadata": {
    "collapsed": true
   },
   "outputs": [],
   "source": [
    "checkpoint = 'checkpoints/i1200_l512.ckpt'\n",
    "samp = sample(checkpoint, 1000, lstm_size, len(vocab), prime=\"Far\")\n",
    "print(samp)"
   ]
  }
 ],
 "metadata": {
  "kernelspec": {
   "display_name": "Python 3",
   "language": "python",
   "name": "python3"
  },
  "language_info": {
   "codemirror_mode": {
    "name": "ipython",
    "version": 3
   },
   "file_extension": ".py",
   "mimetype": "text/x-python",
   "name": "python",
   "nbconvert_exporter": "python",
   "pygments_lexer": "ipython3",
   "version": "3.6.1"
  }
 },
 "nbformat": 4,
 "nbformat_minor": 2
}
